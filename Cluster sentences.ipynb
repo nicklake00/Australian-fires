{
 "cells": [
  {
   "cell_type": "markdown",
   "metadata": {},
   "source": [
    "## Dataframe of sentences"
   ]
  },
  {
   "cell_type": "code",
   "execution_count": 2,
   "metadata": {},
   "outputs": [
    {
     "name": "stderr",
     "output_type": "stream",
     "text": [
      "INFO: {'User-Agent': 'Mozilla/5.0 (Windows; U; Windows NT 6.1; x64; fr; rv:1.9.2.13) Gecko/20101203 Firebird/3.6.13'}\n"
     ]
    }
   ],
   "source": [
    "from twitterscraper import query_tweets\n",
    "import codecs, json\n",
    "import re\n",
    "import operator\n",
    "import copy\n",
    "import nltk\n",
    "import numpy as np\n",
    "import pandas as pd\n",
    "from string import punctuation\n",
    "from nltk.corpus import stopwords\n",
    "from nltk.tokenize import word_tokenize, SpaceTokenizer, PunktSentenceTokenizer\n",
    "from collections import Counter\n",
    "import matplotlib.pyplot as plt\n",
    "from nltk.stem import WordNetLemmatizer\n",
    "from sklearn.feature_extraction.text import TfidfVectorizer\n",
    "from sklearn.cluster import KMeans\n",
    "import copy"
   ]
  },
  {
   "cell_type": "code",
   "execution_count": 4,
   "metadata": {},
   "outputs": [],
   "source": [
    "with codecs.open('collection.json', 'r', 'utf-8') as f:\n",
    "    tw = json.load(f, encoding = 'utf-8')"
   ]
  },
  {
   "cell_type": "code",
   "execution_count": 3,
   "metadata": {},
   "outputs": [],
   "source": [
    "tweet_table = pd.DataFrame(tw)"
   ]
  },
  {
   "cell_type": "code",
   "execution_count": 4,
   "metadata": {},
   "outputs": [],
   "source": [
    "expand_table = copy.deepcopy(tweet_table)"
   ]
  },
  {
   "cell_type": "code",
   "execution_count": 5,
   "metadata": {},
   "outputs": [],
   "source": [
    "expand_table[\"text\"] = expand_table[\"text\"].str.split(\"[!?.]\")"
   ]
  },
  {
   "cell_type": "code",
   "execution_count": 6,
   "metadata": {
    "scrolled": true
   },
   "outputs": [],
   "source": [
    "expand_table = expand_table.explode(\"text\")"
   ]
  },
  {
   "cell_type": "code",
   "execution_count": 7,
   "metadata": {},
   "outputs": [
    {
     "name": "stdout",
     "output_type": "stream",
     "text": [
      "345768\n",
      "122564\n"
     ]
    }
   ],
   "source": [
    "print(len(expand_table))\n",
    "print(len(tweet_table))"
   ]
  },
  {
   "cell_type": "code",
   "execution_count": 74,
   "metadata": {
    "scrolled": true
   },
   "outputs": [],
   "source": [
    "#expand_table[\"text_split\"] = expand_table[\"text\"].str.split(\" \")"
   ]
  },
  {
   "cell_type": "code",
   "execution_count": 75,
   "metadata": {
    "scrolled": true
   },
   "outputs": [
    {
     "name": "stdout",
     "output_type": "stream",
     "text": [
      "338088\n"
     ]
    }
   ],
   "source": [
    "notemo = expand_table[~expand_table[\"text\"].str.contains(\"please\")]\n",
    "notemo = notemo[~notemo[\"text\"].str.contains(\"Please\")]\n",
    "notemo = notemo[~notemo[\"text\"].str.contains(\"PLEASE\")]\n",
    "print(len(notemo))"
   ]
  },
  {
   "cell_type": "code",
   "execution_count": 76,
   "metadata": {},
   "outputs": [
    {
     "name": "stdout",
     "output_type": "stream",
     "text": [
      "323795\n"
     ]
    }
   ],
   "source": [
    "notemo = notemo[~notemo[\"text\"].str.contains(\"help\")]\n",
    "notemo = notemo[~notemo[\"text\"].str.contains(\"Help\")]\n",
    "notemo = notemo[~notemo[\"text\"].str.contains(\"HELP\")]\n",
    "print(len(notemo))"
   ]
  },
  {
   "cell_type": "code",
   "execution_count": 77,
   "metadata": {},
   "outputs": [
    {
     "name": "stdout",
     "output_type": "stream",
     "text": [
      "319640\n"
     ]
    }
   ],
   "source": [
    "notemo = notemo[~notemo[\"text\"].str.contains(\"pray\")]\n",
    "notemo = notemo[~notemo[\"text\"].str.contains(\"PRAY\")]\n",
    "notemo = notemo[~notemo[\"text\"].str.contains(\"Pray\")]\n",
    "print(len(notemo))"
   ]
  },
  {
   "cell_type": "code",
   "execution_count": 78,
   "metadata": {},
   "outputs": [
    {
     "name": "stdout",
     "output_type": "stream",
     "text": [
      "315643\n"
     ]
    }
   ],
   "source": [
    "notemo = notemo[~notemo[\"text\"].str.contains(\"climate change\")]\n",
    "notemo = notemo[~notemo[\"text\"].str.contains(\"Climate change\")]\n",
    "notemo = notemo[~notemo[\"text\"].str.contains(\"CLIMATE CHANGE\")]\n",
    "notemo = notemo[~notemo[\"text\"].str.contains(\"Climate Change\")]\n",
    "print(len(notemo))"
   ]
  },
  {
   "cell_type": "code",
   "execution_count": 79,
   "metadata": {
    "scrolled": true
   },
   "outputs": [
    {
     "name": "stdout",
     "output_type": "stream",
     "text": [
      "311064\n"
     ]
    }
   ],
   "source": [
    "notemo = notemo[~notemo[\"text\"].str.contains(\"thank you\")]\n",
    "notemo = notemo[~notemo[\"text\"].str.contains(\"THANK YOU\")]\n",
    "notemo = notemo[~notemo[\"text\"].str.contains(\"Thank you\")]\n",
    "notemo = notemo[~notemo[\"text\"].str.contains(\"Thank You\")]\n",
    "notemo = notemo[~notemo[\"text\"].str.contains(\"Thank\")]\n",
    "notemo = notemo[~notemo[\"text\"].str.contains(\"thank\")]\n",
    "notemo = notemo[~notemo[\"text\"].str.contains(\"THANK\")]\n",
    "print(len(notemo))"
   ]
  },
  {
   "cell_type": "code",
   "execution_count": 80,
   "metadata": {},
   "outputs": [
    {
     "name": "stdout",
     "output_type": "stream",
     "text": [
      "306716\n"
     ]
    }
   ],
   "source": [
    "notemo = notemo[~notemo[\"text\"].str.contains(\"donate\")]\n",
    "notemo = notemo[~notemo[\"text\"].str.contains(\"DONATE\")]\n",
    "notemo = notemo[~notemo[\"text\"].str.contains(\"Donate\")]\n",
    "print(len(notemo))"
   ]
  },
  {
   "cell_type": "code",
   "execution_count": 81,
   "metadata": {},
   "outputs": [
    {
     "name": "stdout",
     "output_type": "stream",
     "text": [
      "304989\n"
     ]
    }
   ],
   "source": [
    "notemo = notemo[~notemo[\"text\"].str.contains(\"OnFire\")]\n",
    "print(len(notemo))"
   ]
  },
  {
   "cell_type": "code",
   "execution_count": 82,
   "metadata": {},
   "outputs": [
    {
     "name": "stdout",
     "output_type": "stream",
     "text": [
      "304540\n"
     ]
    }
   ],
   "source": [
    "notemo = notemo[~notemo[\"text\"].str.contains(\"Bushfires Burning\")]\n",
    "notemo = notemo[~notemo[\"text\"].str.contains(\"Emergency Fires\")]\n",
    "notemo = notemo[~notemo[\"text\"].str.contains(\"Burning Emergency\")]\n",
    "print(len(notemo))"
   ]
  },
  {
   "cell_type": "code",
   "execution_count": 83,
   "metadata": {},
   "outputs": [
    {
     "name": "stdout",
     "output_type": "stream",
     "text": [
      "303560\n"
     ]
    }
   ],
   "source": [
    "notemo = notemo[~notemo[\"text\"].str.contains(\"link\")]\n",
    "notemo = notemo[~notemo[\"text\"].str.contains(\"Link\")]\n",
    "notemo = notemo[~notemo[\"text\"].str.contains(\"LINK\")]\n",
    "print(len(notemo))"
   ]
  },
  {
   "cell_type": "code",
   "execution_count": 85,
   "metadata": {},
   "outputs": [
    {
     "name": "stdout",
     "output_type": "stream",
     "text": [
      "301970\n"
     ]
    }
   ],
   "source": [
    "notemo = notemo[~notemo[\"text\"].str.contains(\"nBushfire\")]\n",
    "notemo = notemo[~notemo[\"text\"].str.contains(\"isBurning\")]\n",
    "notemo = notemo[~notemo[\"text\"].str.contains(\"nWildFires\")]\n",
    "notemo = notemo[~notemo[\"text\"].str.contains(\"IsOnFire\")]\n",
    "notemo = notemo[~notemo[\"text\"].str.contains(\"nBushfiresDisaster\")]\n",
    "print(len(notemo))"
   ]
  },
  {
   "cell_type": "code",
   "execution_count": 86,
   "metadata": {},
   "outputs": [
    {
     "name": "stdout",
     "output_type": "stream",
     "text": [
      "301919\n"
     ]
    }
   ],
   "source": [
    "notemo = notemo[~notemo[\"text\"].str.contains(\"Click here\")]\n",
    "notemo = notemo[~notemo[\"text\"].str.contains(\"click here\")]\n",
    "notemo = notemo[~notemo[\"text\"].str.contains(\"CLICK HERE\")]\n",
    "print(len(notemo))"
   ]
  },
  {
   "cell_type": "code",
   "execution_count": 87,
   "metadata": {},
   "outputs": [],
   "source": [
    "punct_list = list(punctuation)\n",
    "punct_list.append('``')\n",
    "noise = stopwords.words('english') + punct_list"
   ]
  },
  {
   "cell_type": "code",
   "execution_count": 88,
   "metadata": {
    "scrolled": true
   },
   "outputs": [],
   "source": [
    "for j in ['…', '\\'', '’', '', '\\'s', '...', '/…', 'n\\'t', '\\'\\'', 'us', '“', '”', '\\'re', 'one', '\\'m', 'australia', 'this']:\n",
    "    noise.append(j)\n",
    "\n",
    "for i in range(0, 2050):\n",
    "    noise.append(str(i))"
   ]
  },
  {
   "cell_type": "code",
   "execution_count": 89,
   "metadata": {},
   "outputs": [],
   "source": [
    "lemmas = WordNetLemmatizer()"
   ]
  },
  {
   "cell_type": "code",
   "execution_count": 90,
   "metadata": {},
   "outputs": [
    {
     "data": {
      "text/plain": [
       "\"'Act immediately to survive': Fires rip to Australia's southeast\""
      ]
     },
     "execution_count": 90,
     "metadata": {},
     "output_type": "execute_result"
    }
   ],
   "source": [
    "notemo['text'].iloc[0]"
   ]
  },
  {
   "cell_type": "code",
   "execution_count": 91,
   "metadata": {},
   "outputs": [
    {
     "data": {
      "text/plain": [
       "' Find out more here:     '"
      ]
     },
     "execution_count": 91,
     "metadata": {},
     "output_type": "execute_result"
    }
   ],
   "source": [
    "notemo['text'].iloc[1]"
   ]
  },
  {
   "cell_type": "code",
   "execution_count": 92,
   "metadata": {
    "scrolled": true
   },
   "outputs": [],
   "source": [
    "preprop_text = []\n",
    "for i in range(len(notemo['text'])):\n",
    "    the_text = notemo['text'].iloc[i]\n",
    "    tok_list = word_tokenize(the_text)   \n",
    "    sent = ''\n",
    "    for word in tok_list:\n",
    "        if word.lower() not in noise:\n",
    "            my_word = str(word.lower())\n",
    "            my_word_num = re.sub(r\" .*?[0-9]*.*? \", \" \", my_word)\n",
    "            my_word_num = re.sub(r\"[.\\'/]\", \"\", my_word_num)\n",
    "            sent += lemmas.lemmatize(my_word_num)\n",
    "            sent += ' '\n",
    "    preprop_text.append(sent)"
   ]
  },
  {
   "cell_type": "code",
   "execution_count": 93,
   "metadata": {},
   "outputs": [],
   "source": [
    "notemo['preprop'] = preprop_text"
   ]
  },
  {
   "cell_type": "code",
   "execution_count": 94,
   "metadata": {},
   "outputs": [],
   "source": [
    "notemo_2020 = notemo.query('timestamp >= \"2020-01-01T00:00:00\" and timestamp <= \"2020-03-01T00:00:00\"')"
   ]
  },
  {
   "cell_type": "code",
   "execution_count": 95,
   "metadata": {
    "scrolled": true
   },
   "outputs": [],
   "source": [
    "notemo_2020_sorted = notemo_2020.sort_values(by = 'timestamp')"
   ]
  },
  {
   "cell_type": "code",
   "execution_count": 96,
   "metadata": {},
   "outputs": [
    {
     "data": {
      "text/plain": [
       "270659"
      ]
     },
     "execution_count": 96,
     "metadata": {},
     "output_type": "execute_result"
    }
   ],
   "source": [
    "time_cluster = []\n",
    "for i in range(len(notemo_2020_sorted)):\n",
    "    time_cluster.append(i // (len(notemo_2020_sorted) / 14) + 1)\n",
    "    \n",
    "len(time_cluster)\n",
    "#notemo_2020_sorted['time_cluster'] = time_cluster"
   ]
  },
  {
   "cell_type": "code",
   "execution_count": 97,
   "metadata": {},
   "outputs": [],
   "source": [
    "notemo_2020_sorted['time_cluster'] = time_cluster"
   ]
  },
  {
   "cell_type": "code",
   "execution_count": 98,
   "metadata": {
    "scrolled": true
   },
   "outputs": [
    {
     "data": {
      "text/plain": [
       "19332.785714285714"
      ]
     },
     "execution_count": 98,
     "metadata": {},
     "output_type": "execute_result"
    }
   ],
   "source": [
    "len(notemo_2020_sorted) / 14"
   ]
  },
  {
   "cell_type": "code",
   "execution_count": 99,
   "metadata": {},
   "outputs": [],
   "source": [
    "tfidf_vectorizer = TfidfVectorizer()"
   ]
  },
  {
   "cell_type": "code",
   "execution_count": 2,
   "metadata": {},
   "outputs": [],
   "source": [
    "#np.array(tweet_2020_n['preprop'])"
   ]
  },
  {
   "cell_type": "code",
   "execution_count": 163,
   "metadata": {},
   "outputs": [],
   "source": [
    "def summarization(n):\n",
    "    tweet_2020_n = notemo_2020_sorted.query('time_cluster == %d' % n)\n",
    "    tfidf_n = tfidf_vectorizer.fit_transform(np.array(tweet_2020_n['preprop']))\n",
    "    kmeans = KMeans(n_clusters=3).fit(tfidf_n)\n",
    "\n",
    "    print(\"End Kmeans\")\n",
    "    cluster_of_3 = []\n",
    "    for i in range(len(tweet_2020_n)):\n",
    "        cluster_of_3.append(kmeans.predict(tfidf_n.getrow(i))[0])\n",
    "\n",
    "    tweet_2020_n['cluster_3'] = np.array(cluster_of_3)\n",
    "\n",
    "    distances = []\n",
    "    for i in range(len(tweet_2020_n)):\n",
    "        center = np.array(tweet_2020_n['cluster_3'])[i]\n",
    "        vec_sub = kmeans.cluster_centers_[center] - tfidf_n.todense()[i]\n",
    "        if i % 500 == 0:\n",
    "            print(i)\n",
    "        vec_np = np.array(vec_sub)\n",
    "        vec_np_2 = vec_np ** 2\n",
    "        dist = vec_np_2.sum()\n",
    "        distances.append(dist)\n",
    "    \n",
    "    tweet_2020_n['distances'] = distances\n",
    "    print(\"End distances\")\n",
    "    \n",
    "    length = []\n",
    "    for i in range(len(tweet_2020_n['preprop'])):\n",
    "        ll = len(np.array(tweet_2020_n['preprop'])[i].split())\n",
    "        length.append(ll)\n",
    "\n",
    "    tweet_2020_n['preprop_len'] = length\n",
    "\n",
    "    return tweet_2020_n"
   ]
  },
  {
   "cell_type": "code",
   "execution_count": 164,
   "metadata": {
    "scrolled": true
   },
   "outputs": [
    {
     "name": "stdout",
     "output_type": "stream",
     "text": [
      "End Kmeans\n"
     ]
    },
    {
     "name": "stderr",
     "output_type": "stream",
     "text": [
      "/home/nicklake00/.local/lib/python3.6/site-packages/ipykernel_launcher.py:11: SettingWithCopyWarning: \n",
      "A value is trying to be set on a copy of a slice from a DataFrame.\n",
      "Try using .loc[row_indexer,col_indexer] = value instead\n",
      "\n",
      "See the caveats in the documentation: https://pandas.pydata.org/pandas-docs/stable/user_guide/indexing.html#returning-a-view-versus-a-copy\n",
      "  # This is added back by InteractiveShellApp.init_path()\n"
     ]
    },
    {
     "name": "stdout",
     "output_type": "stream",
     "text": [
      "0\n",
      "500\n",
      "1000\n",
      "1500\n",
      "2000\n",
      "2500\n",
      "3000\n",
      "3500\n",
      "4000\n",
      "4500\n",
      "5000\n",
      "5500\n",
      "6000\n",
      "6500\n",
      "7000\n",
      "7500\n",
      "8000\n",
      "8500\n",
      "9000\n",
      "9500\n",
      "10000\n",
      "10500\n",
      "11000\n",
      "11500\n",
      "12000\n",
      "12500\n",
      "13000\n",
      "13500\n",
      "14000\n",
      "14500\n",
      "15000\n",
      "15500\n",
      "16000\n",
      "16500\n",
      "17000\n",
      "17500\n",
      "18000\n",
      "18500\n",
      "19000\n",
      "19500\n",
      "20000\n"
     ]
    },
    {
     "name": "stderr",
     "output_type": "stream",
     "text": [
      "/home/nicklake00/.local/lib/python3.6/site-packages/ipykernel_launcher.py:24: SettingWithCopyWarning: \n",
      "A value is trying to be set on a copy of a slice from a DataFrame.\n",
      "Try using .loc[row_indexer,col_indexer] = value instead\n",
      "\n",
      "See the caveats in the documentation: https://pandas.pydata.org/pandas-docs/stable/user_guide/indexing.html#returning-a-view-versus-a-copy\n"
     ]
    },
    {
     "name": "stdout",
     "output_type": "stream",
     "text": [
      "End distances\n"
     ]
    },
    {
     "name": "stderr",
     "output_type": "stream",
     "text": [
      "/home/nicklake00/.local/lib/python3.6/site-packages/ipykernel_launcher.py:32: SettingWithCopyWarning: \n",
      "A value is trying to be set on a copy of a slice from a DataFrame.\n",
      "Try using .loc[row_indexer,col_indexer] = value instead\n",
      "\n",
      "See the caveats in the documentation: https://pandas.pydata.org/pandas-docs/stable/user_guide/indexing.html#returning-a-view-versus-a-copy\n"
     ]
    }
   ],
   "source": [
    "tweet_2020_5 = summarization(5)"
   ]
  },
  {
   "cell_type": "code",
   "execution_count": 165,
   "metadata": {
    "scrolled": true
   },
   "outputs": [
    {
     "data": {
      "text/plain": [
       "[' Australian fires: Why do people start fires during fires',\n",
       " ' Australian fires: Why do people start fires during fires',\n",
       " ' Australian fires: Why do people start fires during fires',\n",
       " '  Australian fires: Why do people start fires during fires',\n",
       " '  Australian fires: Why do people start fires during fires',\n",
       " 'Australian fires …     Burning Fires isBurning',\n",
       " ' - The Perfect Firestorm -  By Design…Fire OnFire Fires Fires Burns Burning        ',\n",
       " 'The fires are bigger than California fires in 2018',\n",
       " 'Australia fire animals are burning video footage fire   ',\n",
       " 'Australia is Literally on fire, and its the one of the worst fires in recent years worldwide, Bigger than the Amazon fires',\n",
       " '“Australian fires have burned more than twice the area than was consumed, combined, by California’s 2018 fires and the Amazon’s 2019 fires',\n",
       " ' its beauty is slowly being destroyed by fire Fires    Burns Bushfires',\n",
       " ' its beauty is slowly being destroyed by fire Fires    Burns Bushfires',\n",
       " 'It is sad seeing Australia is on fire type stop this fire in chat to get every fireman to stop this fire in Australia   ',\n",
       " 'Pray for Australia ⠀             fires  bushfires ',\n",
       " ' 3D visualisation of the fires in  by Anthony Hearsey Fires Burning  …',\n",
       " ' nBushfire OnFire Fires Burning',\n",
       " ' nBushfire OnFire Fires Burning ',\n",
       " '  Burns Burning nFires Fires',\n",
       " '  Fires Burning Burns nFires…',\n",
       " ' Just another fire in amongst the numerous fires burning across Australia',\n",
       " '…“Fires are literally off the scale in fire danger in this warming planet',\n",
       " 'MAKE IT RAIN burning fires            …',\n",
       " ' It needs money for fire crews and fires evacuees that have lost everything',\n",
       " ' We can deploy 30 fire fighters and 8 fire trucks to assist with  ',\n",
       " ' Australia is on fire, the amazon rainforest is also on fire and the threat of war',\n",
       " \"Australia's fires have burned more than twice the area destroyed by California’s 2018 and the Amazon’s 2019 fires\",\n",
       " '   Fires  OnFire Burning Bushfires nFires',\n",
       " 'Our planet is quite literally on fire, almost 480 million animals have been killed by the bush fires in Australia',\n",
       " 'NSW Rural Fire Service…Victoria Fire and Rescue…Rural Fire Brigades Association Queensland Inc',\n",
       " '30% of Australian Koalas have been killed by fires',\n",
       " 'Pray For OnFire nBushfire Fires Burning Burns',\n",
       " 'Thank you nFires Fires OnFire  2020',\n",
       " '  Remember, it is cheaper for  to control the perspectives of the fires than controlling the fires themselves',\n",
       " 'Pray for  nFires Fires nBushfire',\n",
       " 'a continent is on fire, 50 million animals are dead so far, the World must stop these fires and protect mother ',\n",
       " ' Australian Red Cross  Rural Fire Service  WIRES Wildlife Rescue  Photos  fires  ',\n",
       " ' So much news about the Australian fires ',\n",
       " 'Forest fire incidents have lead me to believe that technologies that can effectively fight forest fires is one of biggest needs in the field of fire and safety today',\n",
       " '    Here is a video all you need to know about fires in ',\n",
       " 'Sad  to see fire in forest of Australia',\n",
       " \" Prayers don't stop fires like this\",\n",
       " 'To put Australia fires into perspective about 44,000 square miles are on fire there right now',\n",
       " 'S  Fires OnFire SeQuema Burns',\n",
       " 'So sad for  nWildFires OnFire Fires ',\n",
       " '   BUT FIRST, LET US GET THE FIRES OUT',\n",
       " ' These are all the areas which have been affected by bush fires ',\n",
       " ' Wildlife Rescue  Vic Fire Service NSW Fire Service Red Cross  …',\n",
       " ' Wildlife Rescue  Vic Fire Service NSW Fire Service Red Cross :/…',\n",
       " 'A country on fire  NASA satellite  ',\n",
       " 'Give it time and someone will find a way to blame their fire brigade for the handling of these fires',\n",
       " 'Some people said it was  that caused the fires',\n",
       " 'God bless Burns Fires  Bushfires ',\n",
       " '9 million hectares have now been burnt out by these fires',\n",
       " ' And there is no sign of the bush fires going out',\n",
       " '— fires firefighters  Kenya  ',\n",
       " \"They've set the world on fire\",\n",
       " ' What the MP said about not lighting bush on fire to prevent mass spread of fires is true',\n",
       " 'There is literally a country on fire and we are not doing anything about it',\n",
       " \"'It's an Atomic Bomb':  Deploys Military as Fires Spread WildFire fire nbushfire onfire  …\",\n",
       " '        Fires nBushfire   Bushfires Burns…',\n",
       " ' One continent is on fire and that breaks my heart  ',\n",
       " 'AUSTRALIA IS ON FIRE — THIS IS A \\u2063\\u2063Look at the graphic below to see where you can DONATE to support the fire fighting and relief efforts for the communities and wildlife that are being absolutely devestated by the   ',\n",
       " \"Please don't forget about the Australia fire crisis\",\n",
       " '  &  extend their support to the Australian Fires',\n",
       " 'These fires in Australia are truly breaking my heart',\n",
       " 'Heartbreaking and disturbing images from Australia \"Apocalyptic Fires in  Are Now Generating Their Own Severe Weather Systems … Fires',\n",
       " 'I want a world where we don’t bring fire upon other nations, but work together to stop fire across all nations',\n",
       " '    More will be heading over -    Fires  nBushfire   Bushfires Burn nFires ',\n",
       " ' Thinking of those in fire affected communities',\n",
       " 'A 3D visualization from ’s FIRMS (Fire Information for Resource Management System) and a few horrific views of the fires itself',\n",
       " 'This puts the whole thing of these terrifying fires into perspective when you see the fires overplayed onto the UK   …',\n",
       " 'A visualisation of the current fires burning in Australia at this time   ',\n",
       " \" That's five times the size of the Amazon fires and 50 times the size of the California fires\",\n",
       " 'Excellent read on understanding the nature of this event: RT  Better understand fire as a part of the Australian landscape and how weather influences fire behaviour in our ‘Understanding Fire Weather’ article:   burning ',\n",
       " 'We can’t all be fighting the fires, but we can offer some support',\n",
       " 'Thinking of those affected by the massive fires in Australia',\n",
       " 'NSW Dunns Rd fire merged with VIC Corryong fire',\n",
       " \" I'm  I know exactly what's it like to be on fire  \",\n",
       " ' has done more than  and  will ever do for fire relief',\n",
       " 'Them fires in Australia must be worse than I thought',\n",
       " 'When you can see the fire from space, it is a problem',\n",
       " 'The Worst Bush fire in History',\n",
       " 'Really hope the fires go out soon',\n",
       " 'Finally some rain but not enough to stop the fire      ',\n",
       " ' sharing some links ik:… (WIRES emergency fund for wildlife)… (Victorian bush fires)… (NSW rural fire services)',\n",
       " \"Australia is on fire and here's what we're learning about government while it burns\",\n",
       " ' We’re shrouded in smoke because our country is on fire',\n",
       " ' Poor leadership, caused this fire',\n",
       " ' We’re all going to die by fire or trump',\n",
       " 'The horrendous fires in Australia are absolutely devastating',\n",
       " 'The horrendous fires in Australia are absolutely devastating',\n",
       " ' are you taking in any of the injured wildlife from the fires',\n",
       " 'Pray For Fires OnFire  by 怪叔叔の散步道',\n",
       " ' I truly hope they stop these fires and save more people',\n",
       " ' Fires nFires Bushfires       ance',\n",
       " 'May Jesus save Australia   fires   ',\n",
       " 'May Jesus save Australia  fires    …',\n",
       " 'BBC News - Australia fires: Rain brings relief as police search for the arsonists who started te fires',\n",
       " 'Fires in have been going on since September',\n",
       " \" I'm very grateful for all of the firefighters that are fighting the fires here in Australia\",\n",
       " 'The latest on the Australian bush fires on  this morning',\n",
       " 'A lot of destruction caused by these fires',\n",
       " ' is NOT on fire but the country is now on the receiving end of the ',\n",
       " ' SeQuema OnFire Fires nBushfire Burning nWildFires  ',\n",
       " \" Range fires don't produce as much CO2 as forest fires because most of the carbon is stored in the soil\",\n",
       " '  they have now called in the reserves but not  and the fires could go on for months and even the rain will not be enough to stop the fires from changing earth and nature into black smoke and ashes -- ',\n",
       " '〘 No words 〙_____________________________________________________________  fires         … …',\n",
       " ' I hope the fires stop as soon as possible  ',\n",
       " 'Please Watch them and support them too stop these damn horrible fires in Australia the fires had made those lose their homes and so many precious animals have lost there lives especially the firefighters',\n",
       " 'World countries should use all their technology for this fire',\n",
       " 'I’m seriously hoping the fires aren’t burning for even more months, I want people to be safe those brave Australian firefighters are trying hard to tackle so many fires and they’re probably doing amazing ',\n",
       " 'God save Fires  isBurning rain',\n",
       " 'Thinking of all my friends and those effected by fires in Australia',\n",
       " 'Thinking of all my friends and those effected by fires in Australia',\n",
       " 'What’s causing Australia’s devastating fire weather',\n",
       " 'Me: Oh, that smoke is just the rest of the country on fire',\n",
       " 'It finally rains in  ending Fires',\n",
       " ' why are you not acting like your whole country is on fire',\n",
       " 'the country is on fire, who gives a fuck about the surplus',\n",
       " 'Is it possible, in addition to extinguishing fires from above, to draw ditches and fill them with water to stop the spread of the fires',\n",
       " ' Just goes to show the extent of the Australian bush fires',\n",
       " ' | Fires have ripped through more than 8 million hectares (19',\n",
       " ' All donations go towards the efforts of down under where the fire is',\n",
       " 'Devastating fires set deliberately in Australia',\n",
       " \"If they don't get it now, after this horrible fire season, they never will\",\n",
       " ' Donate to the NSW Rural Fire Service:…',\n",
       " \" Can't thank our fire fighters enough\",\n",
       " 'When Notre Dame,a freaking building was on fire the whole world stopped but when people and animals die because a whole country is one fire they just look away  ',\n",
       " 'Not a lot of publicity for the fires in WA, but towns have been cut off when Eyre highway was closed due to the fires',\n",
       " 'The world has made the link between Australian coal, fires and climate',\n",
       " ' When thier country is literally on FIRE',\n",
       " 'AUSTRALIA FIRES - A CLOSER LOOK PART 1  ',\n",
       " '   my heart goes out to the latest fire victims',\n",
       " 'Recent photo of  trying to put out fires ',\n",
       " ' Hope it spreads to the fire affected places that need it more than we do          ',\n",
       " 'I hope the rain stays for days until it puts the fires out',\n",
       " ' MidCoast Bush Fire Relief …',\n",
       " '-related  pollution can be extremely dangerous even if a person is far from the actual fire source, or the fire has already passed',\n",
       " 'CLIMATE CHANGE HAS NOTHING TO DO WITH THE FIRE SPREADING',\n",
       " '      fires firesmap rain wildfires  australia',\n",
       " ' Said: We never seen this big fires before',\n",
       " 'why cant major countries come together and prepare a FLEET of 747 fire fighters to be used whenever needed in wild fires around the world',\n",
       " 'So smokey from the bushfires where i live today and the fires are still burning    ',\n",
       " ' And my thanks goes to the legends who are fighting the fires ',\n",
       " \"ICYMI over on  I'm selling phoenix badges to raise money for the Rural Fire Service, who are currently battling catastrophic fires\",\n",
       " ' Outspoken former fire chief Greg Mullins: \"The worst fires were always in February, so this might just be the beginning',\n",
       " ' These fires have been raging for a couple of months',\n",
       " ' She is devestated to see the fires raging',\n",
       " ' Crowe, who lives in , was not at the ceremony because of the fires',\n",
       " 'So with Australia on fire I wonder if they will do reduction burns or will they protest to stop doing them again   ',\n",
       " 'Pleasee fire just stop like right now ',\n",
       " 'In fire-ravaged ,  denial goes up in  … change ',\n",
       " \"Well, they couldn't holiday in Australia cause it's ON FIRE\",\n",
       " ' Fires WHATS A PLACE THAT I CAN MAKE A DONATION TO',\n",
       " ' Hope the fires get washed away',\n",
       " ' cause the world is on fire, and we are the only ones who can stop it from burning to ashes',\n",
       " ' describing the fires in  as “bushfire season” Not a mention of the now well documented ARSON, now believed to be almost exclusively responsible for the fires',\n",
       " ' Just like they did to our London Fire Brigade',\n",
       " 'Australia is on fire, our wildlife has perished and so many lives have been destroyed     ',\n",
       " 'Very sad -- but grateful to the fire fighters lost in the ',\n",
       " 'Thinking of all people caught up in those deadly fires in Australia',\n",
       " 'Pray For    do something and stop fire save the wild life',\n",
       " ' 9+ million acres and counting that have been destroyed by fire',\n",
       " ' 9+ million acres and counting that have been destroyed by fire',\n",
       " ' makes California fires look like nothing',\n",
       " 'Bless everyone who is suffering in Australia with the horrific fires',\n",
       " ' Every actor is talking about the bush fires   but what is people are doing about it',\n",
       " \"FINALLY: It's raining in  after severe bush fire\",\n",
       " \" He'd the Fire Nation's Prince,  his people are at work\",\n",
       " 'Fire fighters do NOT get the resources they ask for',\n",
       " \"I don't see anybody really talking about this, but Australia is on fire\",\n",
       " 'We are collecting donations for bush fire victims',\n",
       " 'An interesting international take on the fire crisis in Australia',\n",
       " 'FIRE IN AUSTRALIA IS THREE TIMES BIGGER than the burning of the Amazon ',\n",
       " \"  Between Trump, Venezuela,  and the Australian fires, I'm just sad\",\n",
       " ' I want to do one for  My sister is hours away from the fire',\n",
       " ' Visualisation of the fires in Australia, made from NASA satellite data',\n",
       " 'Visualisation of the fires in Australia, made from NASA satellite data',\n",
       " ' I want you to panic, and act as if the house was on fire”  ',\n",
       " ' I want you to panic, and act as if the house was on fire”  ',\n",
       " ' I want you to panic, and act as if the house was on fire”  ',\n",
       " 'Caroline and I are absolutely devastated about the fires here in Australia',\n",
       " ' its beauty is slowly being destroyed by fire   ',\n",
       " ' - While , large forest fire in  north of Napier; 11 fire trucks, 5 helicopters and 2 fixed wing aircraft were fighting the blaze, via        ',\n",
       " '-Live: There are fires as big as Manhattan',\n",
       " 'Most of Australia is on fire and people are worried about world war three',\n",
       " 'Most fires are in New South Wales where Sydney is',\n",
       " 'Is This a Photo of Australian Fires Taken from the Space Station',\n",
       " 'This is typical of what RWNJs are posting on facebook, blaming lack of backburning (done after fires have begun) as the total cause of the fires',\n",
       " 'While people making memes about the WW3, Australia is suffering the biggest fire ever happenedWild fire broke out very quickly because of hot and dry weather',\n",
       " 'Previously Fire In Amazon Now In  Praying For Australia ',\n",
       " ' Dump climate deniers and Fires   :/…',\n",
       " ' However, on a serious note,  Australia is on fire',\n",
       " ' The Australian fires started in September and only some are contained',\n",
       " 'Prayers for those in the fire ravaged 3 states & esp for our volunteer fire fighters & the Australian Defence Force who are all tag teaming trying desperately to get it contained & put out',\n",
       " ' Keep creating awareness for the fires right now',\n",
       " ' Wish the fire douses off soon',\n",
       " \" Let's hope these terrible fires end soon\",\n",
       " ' The growing fire crisis means it’s vital western science and Aboriginal knowledge are brought together to make communities as fire-safe as possible',\n",
       " ' Ecological costs of fires unprecedented    ',\n",
       " 'A total of 146 fires are burning across the Australia, with 65 uncontained',\n",
       " 'Please  do something for those who are dying and struggling during these bush fires',\n",
       " 'The most important thing in the world to concer,   is on fire',\n",
       " 'To get some perspective, here is  on fire and the size of the  compared to Australia',\n",
       " ' And we have it easy compared to those close to the fires',\n",
       " 'We stand in solidarity with people of  as they deal with Fires',\n",
       " 'When you see this it shows the devastation and loss the fires have caused',\n",
       " 'Today we want to focus on the fires ravaging Australia',\n",
       " \"In the line of fire it's about survival, not politics …      \",\n",
       " ' Australia has a largely volunteer fire department',\n",
       " 'At 6am, there are 136 fires which continue to burn across NSW',\n",
       " ' Four fires around the world in 2 yrs',\n",
       " 'We aren’t near the fires but the state is blanketed in smoke     ',\n",
       " '   taking calls from  on Fires  OnFire     DidntKillHimself  …',\n",
       " ' Immediately this photo was taken his home was destroyed by fire',\n",
       " ' Hope it eases the fires around the state       ',\n",
       " 'Not in  - They’re doing the rain dance - this is awesome news Fires …',\n",
       " 'Raining since yesterday which is a relief with all the fires going',\n",
       " 'so people affected by the fires know what payments are available to them',\n",
       " ' accepted his  with a powerful message about the  fires …       ',\n",
       " ' May the good Lord have mercy on us and stop the fire',\n",
       " ' Fire Relief Fund for First Nations Communities …   ',\n",
       " 'In fire-ravaged Australia, climate denial goes up in smoke … via    ',\n",
       " ' would like to give through your services to aid in the fire disaster  ',\n",
       " '3D visualisation of the fires in Australia, made from NASA satellite data',\n",
       " '3D “visualisation” of the fires in Australia, made from NASA satellite data',\n",
       " '“3D “visualisation” of the fires in Australia, made from NASA satellite data',\n",
       " '3D “visualisation” of the fires in Australia, made from NASA satellite data',\n",
       " 'An idea I think could work to fight the fires in Australia',\n",
       " 'Did anyone mention the fires in Australia during the Golden Globes',\n",
       " 'The mind boggles that while we suffer the worst weather event in our history, & during total fire bans, some morons think that they can still weld or have a camp fire or burn off on their property',\n",
       " 'Help Thirsty Koalas Devastated by Recent Fires …   ',\n",
       " 'Help Thirsty Koalas Devastated by Recent Fires …',\n",
       " ' Help Thirsty Koalas Devastated by Recent Fires  …',\n",
       " ' Help Thirsty Koalas Devastated by Recent Fires  …',\n",
       " 'Instagram post of a comic about the fires in Australia',\n",
       " ' After watching raging fire burning living beings in    ',\n",
       " 'Thanks for people checking up on me in terms of the bush fires here in Australia',\n",
       " \"If you've never seen an entire CONTINENT on fire, now you have\",\n",
       " ' Great chance for forest fire to put off completely',\n",
       " 'With Russell Crowe fighting the fires in  then we have a chance',\n",
       " \"These fires are so big they're creating their own weather systems\",\n",
       " ' RIP to all the firefighters that have passed fighting these fires',\n",
       " 'Apparently this is what the air looks now in Melbourne due to the fires',\n",
       " ' I hope fire extinguishes in a short time    ',\n",
       " '… the forgotten fire hundreds stranded  ',\n",
       " '   Fires excellent way to start the new decade       ',\n",
       " ' God is Great  Fires    nBushfires   isBurning ',\n",
       " ' Let that sink in: the n government let  burn Fires ',\n",
       " \"  Fires caused by his and subsequent PM's actions\",\n",
       " 'Re  [Greg Mullins, former NSW fire & rescue commissioner] : “There has been lots of hazard reductions done over the years – more by national parks than previous years – but the fires have burned through those ',\n",
       " ' 200 people have been arrested recently in Australia for starting fires',\n",
       " \"Deadly fires are threatening Australia's way of life… rain\",\n",
       " 'This is a 3D visualization of the the fires in Australia, using satellite images',\n",
       " ' Australia needs to see they’re not alone Link in bio     fires  …',\n",
       " \" Why y'all not making a move for those wild fires\",\n",
       " 'In Australia, fires are active at 150 different locations',\n",
       " 'The smoke is so bad in Melbourne (from fires hrs away',\n",
       " ' \"Celebrities address the Australian fires at the Golden Globes\"…',\n",
       " ' joined the , well can now  join them in their fight against fire',\n",
       " 'For those asking about the fires here in Australia, direct support links in the picture below',\n",
       " 'Everything needs a rethink after this horrific fire season',\n",
       " '  Australian fires are making life miserable for people and pets',\n",
       " 'We must  to stop  caused disasters, or the  & fires around the world will only increase',\n",
       " 'A brutal outcome of the fires that I did not see coming',\n",
       " 'I really hope the people in Australia can get the bush fires under control as soon as possible',\n",
       " 'So  has announced $2B for fire recovery- but it’s over 2 years',\n",
       " ' Fires See the art avaliable:  … Pm me ',\n",
       " \"Yeah, not all those fires are still burning, but what's important to remember is that those areas HAVE been burnt\",\n",
       " 'My poor country is on fire, its heart breaking, it could have been avoided',\n",
       " \"By far the worst fire in Australia's forests, 24 killed, 500 houses burnt\",\n",
       " 'New International Space Station PHOTO of AUSTRALIA on FIRE    ',\n",
       " \"Dear everybody that doesn't care about the fires in  It's summer there for them\",\n",
       " \"Please educate me if I'm wrong but can't the authorities perform artificial rainfall across a perimeter where the fire is about to spread so that they are contained and same can be applied to the areas that have caught fire\",\n",
       " 'Would love to know how the aboriginals are surviving the Australian fires',\n",
       " 'This is a 3D visualisation of the fires in Australia by Anthony Hearsey (it’s not a photo)The data used came from NASA’s Fire Information For Resource Management System between the 5th of December 2019 and the 5th of January 2020',\n",
       " 'This is a 3D visualisation of the fires in Australia by Anthony Hearsey (it’s not a photo)The data used came from NASA’s Fire Information For Resource Management System between the 5th of December 2019 and the 5th of January 2020',\n",
       " \"It's so heartbreaking Help Thirsty Koalas Devastated by Recent Fires …\",\n",
       " 'Possums and Koalas Seek Help From Australian Fires  via   ',\n",
       " 'Advice fire in the electorate of Cook',\n",
       " 'Residents in  have been told a giant 180,000 hectare fire will join with out-of-control fires across the border in  to create a ‘mega blaze’',\n",
       " ' We are around 300 kms from the East Gippsland fires    ',\n",
       " 'The fire in Australia breaks my heart Any donation platform receive ',\n",
       " ' remember when the whole world was distraught that the Amazon was on fire',\n",
       " 'I really hope that the bigest fire goes out right away',\n",
       " ' : Massive evacuation underway due to fires in  ……',\n",
       " ' Donate directly you NSW fire services who are on ground fighting it out ',\n",
       " 'Fires late August, 2019 - present',\n",
       " ' 3D visualization of the Australian fires, compiled from  satellite data      ',\n",
       " \"Does anyone know if there is a fund to support the people affected by the fires who don't have insurance\",\n",
       " 'A forest fire has lasted since 2019 September',\n",
       " ' GRAPHIC CONTENT | AUSTRALIA FIRE FOOTAGE | 2020  via    onfire  ',\n",
       " ') : Climate Change Deniers throwing Greens into fires “See how they burn',\n",
       " 'Tasmania is on fire and we are breathing in its forests in Melbourne',\n",
       " ' This money goes directly to a Aboriginal communities affected by fire',\n",
       " 'And this folks is the clown in charge of our fire emergency',\n",
       " 'Status of all major fires burning in NewSouthWales/Victoria',\n",
       " 'Between 05/12/19 – 05/01/20, This is a 3D visualisation of the fires in Australia',\n",
       " 'Pray for Australia and hoping they can recover and rebuild from the devastating fires',\n",
       " 'I keep seeing news about the fires burning in  & celebrities raising money',\n",
       " ' Today Help me put out the fires in Australia 1st in Trends',\n",
       " \"We can save lives from Australia fires now via Koala Hospital's site\",\n",
       " 'the fires in australia are not comething to be taken lightly',\n",
       " ' PLEASE DONATE BURN-HEALING CREAM TO     NSW  …   Fires nFires   ',\n",
       " ' And the scar of fire gets washed away',\n",
       " \", this isn't writing related, but, do any of you know of any fundraisers going on for the Australian fires\",\n",
       " 'My heart is breaking at the sight of  footage of the wild fires in Australia',\n",
       " 'Such a desperate situation  PLEASE DONATE WHATEVER YOU CAN ………    Fires nFires  n ',\n",
       " ' Fires are burning in 3 other states, plus the Australian Capital Territory',\n",
       " ': Provide Support to  ~ Please Sign This Petition via  |   nBushfire Fires ',\n",
       " 'Interesting, 3D visualisation of the fires in Australia, made from NASA satellite data',\n",
       " 'Interesting, 3D visualisation of the fires in Australia, made from NASA satellite data',\n",
       " 'See: Chinese water & Kangaroo Island fire         ',\n",
       " 'Forest fires are ongoing for more thantwo months',\n",
       " ' experienced w/ wildfires & not in fire season so easy to get',\n",
       " ' The fires in Australia are so bad the smoke is darkening New Zealand which is more than 4',\n",
       " '   IsReal  In fire-ravaged Australia, climate denial goes up in smoke…',\n",
       " 'Fires can produce extreme thunderstorms',\n",
       " \"Kowari aren't on fire, but it's still bloody hot\",\n",
       " \" Let those fires be extinguished in Jesus' name\",\n",
       " 'Magnificent   Nature is threatened by a massive fire',\n",
       " 'Magnificent   Nature is threatened by a massive fire',\n",
       " ' At least 19 lives have been claimed by the fires in the last few months',\n",
       " 'Apart from the odd article on Aboriginal historic use of fire for land management has anyone seen any news items on how the Aboriginal community is coping with these wild fires',\n",
       " 'Death penalty to the arsonists that started these fires   ',\n",
       " ' Why not carpet bomb (via planes) the fire',\n",
       " ' I hope all the heroes fighting out there in the fires can finally have a breather',\n",
       " '\"There are currently 200  blazing, many in places where there have never been fires before',\n",
       " 'It has been hotter and fires have burnt larger areas',\n",
       " ' My heart is breaking to see this amazing, beautiful, kind country being destroyed by fire',\n",
       " \"Here's one reason we haven't been able to fight these fires effectively\",\n",
       " 'Damn the fires in Australia are breaking my heart in multiple pieces  ',\n",
       " 'Why did the notre dame receive more attention and money then the Australian fires ',\n",
       " 'Why did the notre dame receive more attention and money then the Australian fires ',\n",
       " 'If you can still ignore the fires in Australia after seeing this vid, you are NOT a human being',\n",
       " 'the air quality in my town is considered unhealthy and i’m at least 300km  away from the closest fires, i can’t even imagine the air quality of those places where the fire is happening or nearby ',\n",
       " ' Imagine if a “small” fire in your country right now had burnt 30% of LA',\n",
       " '           It’s breaking my heart I can’t breath,stop crying |Australia fires ',\n",
       " ' It’s only going to get worse from here and if we let it get to that point, Australia won’t be the only one on fire',\n",
       " 'I visited the Blue Mountains in 1990 and the forestry service folks there told me a massive fire was inevitable because the Australian gov\\'t would not put in fire breaks and properly harvest trees out of the forest for \"ecology\" reasons',\n",
       " 'I think Australia is doing a great job keeping the fires from spreading to other countries',\n",
       " 'Why is no one (in the United States at least) asking how were most of these fires started',\n",
       " ' It tells the story behind an inferno that swallowed two fire trucks on the South Coast of NSW  footage from Fire and Rescue NSW & sourced ABC Emergency facebook page…  ',\n",
       " 'Light, Not Heat:  for a Burning World - What is the role of the  in the face of fires all around',\n",
       " 'The aftermath of fire will affect any surviving wildlife',\n",
       " ' Bushfire has been going for long and it is not fire season peak yet',\n",
       " 'The trees have taken among themselves to repopulate the Australian forests after bush fire',\n",
       " \"I can smell smoke inside my house like I've just put out a fire\",\n",
       " \"We're playing some  while trying to raise money for the Fire Fighters and Victims of the \",\n",
       " ' First and second,(in picks)Fire Fighter Can Control',\n",
       " '\"AUSTRALIA ON FIRE\" Watch and share with people because we must combine finally',\n",
       " 'This morning I woke in a panic thinking my house was on fire',\n",
       " ' In fact, Australians wouldn’t piss on Scotty from Marketing if he were on fire',\n",
       " 'Hey  the country is on fire thousands of Australians internally displaced',\n",
       " 'Watch this from the ex-Chief Fire Commissioner    | ',\n",
       " ' We need to knock down the ones we already have & give the $50 million to fire services',\n",
       " ' We need to knock down the ones we already have & give the $50 million to fire services',\n",
       " ' I may only be 16 but I don’t want to have to teach my future kids about how the world was on fire',\n",
       " ' The proceeding of auction will be given to bush fire relief',\n",
       " '50am with the latest on the fires burning in the North East     :/…',\n",
       " \" And I'm looking for statistics about Australian fires instead of sleeping\",\n",
       " \" It's wild fires and this big wild place is ours\",\n",
       " '  Think someone must have taken “kill it with fire” too seriously',\n",
       " '3D Visualisation of current Australian bush fires generated by NASA from satellite data ',\n",
       " 'The world is on fire RT  One of the scariest videos we’ve seen so far out of the Australia bushfires',\n",
       " 'Once again tonight our thoughts turn to the awful events of the fires over in Australia',\n",
       " 'Our beautiful country has been severely effected by the unfortunate Bush fires',\n",
       " 'Our beautiful country has been severely effected by the unfortunate Bush fires',\n",
       " 'These were the live fires in New South Wales and Victoria, in Australia yesterday',\n",
       " 'Explainer: how effective is bushfire hazard reduction on Australia’s fires',\n",
       " \"Explainer: how effective is bushfire hazard reduction on Australia's fires\",\n",
       " \"Explainer: how effective is bushfire hazard reduction on Australia's fires\",\n",
       " ' Shout out to all the incredible firefighters in Australia fight against the massive fire going on there',\n",
       " 'Littleproud should have listened to the fire cheifs',\n",
       " 'Can somebody tell Trump that fire in Australia is Iranian',\n",
       " '  via JORDAN SHANKS is a man on fire',\n",
       " 'There are now 87 Canadian firefighters from across the country deployed to , according to  Fires Burning…',\n",
       " ' Despite having a number of fires burning around our own state, the  day their well resources',\n",
       " 'Thank you  for raising over $30m for our incredible fire services',\n",
       " '- NSW Rural Fire Service:…- Australian Red Cross:- WIRES Wildlife Rescue:…  ',\n",
       " ' Australia, Amazon 2019 & California 2018 fires combined - 9m3',\n",
       " 'This morning I talk with my Aussie friend and wildlife expert about the devastating fires in Australia',\n",
       " '  God bless the living beings, who trapped into the fire',\n",
       " 'Along with all the important issues going on in India, can we talk about the Australian fire',\n",
       " ' These fires are burning totems, sacred places & connection to country',\n",
       " \" That's now mixing with memories of this apocalyptic fire season\",\n",
       " 'This comic expresses how people feel about the dead species from the Australian bush fires',\n",
       " 'Thank you to all of the firefighters and the Australian Red Cross for your continued effort to save  Fires',\n",
       " '\"More than 135 fires were still burning across New South Wales, including more than 70 that were not contained',\n",
       " '   uary uary2020 or  Fires  Burns…',\n",
       " 'support the families, fire fighters, and wildlife affected by  now - every dollar counts  ',\n",
       " 'Sad but painful fact is that most of the fires are deliberately lit',\n",
       " '  compares some of Australia’s most devastating fire events and the numbers are shocking   …',\n",
       " ' The milll caught fire Saturday night and is still burning',\n",
       " ' KEEP PRAYING AND RAIN DANCING UNTIL ALL THE FIRES ARE OUT PLEEEEEZE ',\n",
       " 'If you dont start a fire, you dont have to put it out',\n",
       " 'When will  the Australia’s fire stop？All around the world should report this seriousness to many people',\n",
       " 'Fire travelling along coal seams',\n",
       " '\"We  for a miraculous intervention to bring an end to these fires',\n",
       " \"It's like, given the weather events, these fires had minds of their own, and nothing was going to stop them\",\n",
       " 'Scientists predicted Australia’s current fire crisis more than 10 years ago :/…',\n",
       " 'Scientists predicted Australia’s current fire crisis more than 10 years ago  …',\n",
       " ' However, we do start the year with heavy hearts for the people and wildlife impacted by the bush fires',\n",
       " 'the air in melbourne today is just smoke, this is nearly 500kms away from the fires   ',\n",
       " 'the air in melbourne today is just smoke, this is nearly 500kms away from the fires    ',\n",
       " 'Some of us are willing to assist Australia to fight the fire, all we need is just Visa',\n",
       " 'The bush fire in Aus z still out of controI in New South Wales',\n",
       " ' Here is the Rural Queensland Fire Brigade Assoc:  ',\n",
       " ' Blessing go out to each and every Fire Fighter and Voulenteer fighting them right now',\n",
       " ' Blessing go out to each and every Fire Fighter and Voulenteer fighting them right now',\n",
       " ' Even more important now, for when communities affected by fires begin rebuilding',\n",
       " ' Our hearts reach out to everyone who is dealing with the fires firsthand',\n",
       " '\"The impact these devastating fires are having on so many people is unthinkable and has touched us all',\n",
       " ',Fire burns through large areas turning every living thing into ashes',\n",
       " 'God Is Great, He Heard And Answered the Rains Stopped The Fires ',\n",
       " 'The reason the fires became so out of control is because my country has been in drought for so long because of ',\n",
       " 'Here’s how Sunday’s   front pages reported on the Bushfire   Fires',\n",
       " 'Visited Australia for the first time and the fires engulfing the country are terrifying',\n",
       " ' Volunteer fire fighters should be acknowledged the world round as heroes',\n",
       " \"While climate deniers seem to be jumping on this report as proof that arsonists caused recent fires in Australia, the report actually ends by stating it's more likely south coast fires were caused by lightening\",\n",
       " 'Wonder why  has not extended support to Fires nWildFires OnFire  Sarkar2 ',\n",
       " '3D “visualisation” of the fires in Australia, made from NASA satellite data These are all the areas which have been affected, but not all the areas are still burning',\n",
       " ' The sounds it’s now mimicking are those of fire emergency vehicles',\n",
       " 'How to Help Koalas, Evacuees, and Firefighters as Australia’s “Apocalyptic” Fires Worsen …   ',\n",
       " 'Fires Turn Sky Into Aboriginal Flag, Stunning Australians   …',\n",
       " ' better get 100x the amount of donations as that church Fires OnFire',\n",
       " 'INTERNATIONAL NEWSTroops deployed across fire-hit Australia after horror weekendReserve troops were deployed to fire-ravaged regions across three Australian states after a torrid weekend',\n",
       " 'V moving montage of scenes from the disastrous Australian fires',\n",
       " '        Raised over $250K so far for the Fires in AUSINTERVIEW THEM NOW',\n",
       " ' They want support, money, fire trucks, assistance, medics',\n",
       " 'This photo taken by  showing terrible fire  around the huge land',\n",
       " 'Flash - MJO shall put off fire',\n",
       " 'Lasers Caught On Camera Causing Fires',\n",
       " ' May He pour rain so heavy it clears the air and puts off the fires',\n",
       " \"It's insane to think that Australia is on fire when it's snowing in Oregon\",\n",
       " 'Why was there more media coverage on the Notre Dame fire (a church) than there is on the Australian bushfires (an entire country)',\n",
       " ' The scale of these fires and the lasting impact is incomprehensible   ',\n",
       " ' It ,ay be stormy now, but it never fires forever',\n",
       " 'All that anger you feel about the fires and the absence of strong leadership',\n",
       " \"The old methods of fire control aren't working anymore\",\n",
       " ' tell folks in Australia to quit setting shit on fire',\n",
       " \"Pray that this devastating fire that swept through Australia's forests immediately ceases\",\n",
       " ' The fire can be killed if you billionaires and in position can use resources and share it',\n",
       " \" God is showing you and the world a sign, take heed before it's too late  Fires  \",\n",
       " \"Donation's links   :Australian Red Cross : NSW Rural Fire Service : Wires Wildlife Rescue: ……\",\n",
       " ' fires: A visual guide to the bushfire crisis- FiresBurning…',\n",
       " \"Disaster recovery from Australia's fires will be a marathon, not a sprint … via  \",\n",
       " ' Give a shout out for  and the Red Cross Bush Fire Appeals pls',\n",
       " '  A moment of silence for all the lil creatures who lost their lives in the fire',\n",
       " 'Donated to Wildlife Rescue  and NSW Rural Fire Service  and will continue to find more',\n",
       " \" Here's a list of links for Rural Fire Services to Wildlife Rescue Services\",\n",
       " 'I wonder why only western nations have frequent bush fire, these are arson',\n",
       " ' & international friendsPls look at  smoke haze &infoP2 masks sold out, also in fire areasIDK but maybe if you can, send quality ones with valve ASAP to friends, or trusted fire Charities to sell/givein    :/…',\n",
       " ' Whether it be for fire services, wildlife, or anything in-between',\n",
       " ' Pray for rain  fires    slife        student studentlife     ',\n",
       " 'Before this great fire, Australia had one of the richest bio-ecosphere in the world',\n",
       " ' The fire damage in this area has been described as like an atomic bomb',\n",
       " 'is the potential start of WW3 and the fires in Australia not enough for you to pipe up',\n",
       " 'Donated to NSW Rural Fire Service  We are thinking of you, here in New York',\n",
       " 'Everyone was so quick to fix the Notre Dame but when a country is literally on fire ',\n",
       " ' the mental health damage of the fires can last a lifetime   …',\n",
       " ' ‘It’s Going to Be a Blast Furnace’: Australia Fires Intensify …',\n",
       " 'In 2009, when then Dept of Climate Change reported on approaches needed due to interaction b/w ,fire regimes & biodiversity in Australia,it was pleasing that attention was given to indigenous fire management prior to European settlement',\n",
       " 'In case anyone was wondering just how serious the fires are in Australia,  are reuniting',\n",
       " 'The trail of destruction that the fires are leaving behind is horrific in Australia',\n",
       " ' // Fires Credit ~ Anthony Hearsey Creative Imaging ',\n",
       " ' I wish Tobirama was around to suiton the shit of those fires',\n",
       " 'God hears and Finlly fire stooped',\n",
       " ' ‘It’s an Atomic Bomb’: Australia Deploys Military as Fires Spread   ',\n",
       " ' You did such a wonderful and repectful job with the Cali fires',\n",
       " 'Australia - Water Deprivation - Incendiary Fueled Fires …']"
      ]
     },
     "execution_count": 165,
     "metadata": {},
     "output_type": "execute_result"
    }
   ],
   "source": [
    "list(tweet_2020_5.sort_values(by = 'distances').query('cluster_3 == 1 and preprop != \"\" and preprop_len > 3 ')['text'])"
   ]
  },
  {
   "cell_type": "code",
   "execution_count": 166,
   "metadata": {
    "scrolled": true
   },
   "outputs": [
    {
     "name": "stdout",
     "output_type": "stream",
     "text": [
      "End Kmeans\n"
     ]
    },
    {
     "name": "stderr",
     "output_type": "stream",
     "text": [
      "/home/nicklake00/.local/lib/python3.6/site-packages/ipykernel_launcher.py:11: SettingWithCopyWarning: \n",
      "A value is trying to be set on a copy of a slice from a DataFrame.\n",
      "Try using .loc[row_indexer,col_indexer] = value instead\n",
      "\n",
      "See the caveats in the documentation: https://pandas.pydata.org/pandas-docs/stable/user_guide/indexing.html#returning-a-view-versus-a-copy\n",
      "  # This is added back by InteractiveShellApp.init_path()\n"
     ]
    },
    {
     "name": "stdout",
     "output_type": "stream",
     "text": [
      "0\n",
      "500\n",
      "1000\n",
      "1500\n",
      "2000\n",
      "2500\n",
      "3000\n",
      "3500\n",
      "4000\n",
      "4500\n",
      "5000\n",
      "5500\n",
      "6000\n",
      "6500\n",
      "7000\n",
      "7500\n",
      "8000\n",
      "8500\n",
      "9000\n",
      "9500\n",
      "10000\n",
      "10500\n",
      "11000\n",
      "11500\n",
      "12000\n",
      "12500\n",
      "13000\n",
      "13500\n",
      "14000\n",
      "14500\n",
      "15000\n",
      "15500\n",
      "16000\n",
      "16500\n",
      "17000\n",
      "17500\n",
      "18000\n",
      "18500\n",
      "19000\n",
      "19500\n",
      "20000\n"
     ]
    },
    {
     "name": "stderr",
     "output_type": "stream",
     "text": [
      "/home/nicklake00/.local/lib/python3.6/site-packages/ipykernel_launcher.py:24: SettingWithCopyWarning: \n",
      "A value is trying to be set on a copy of a slice from a DataFrame.\n",
      "Try using .loc[row_indexer,col_indexer] = value instead\n",
      "\n",
      "See the caveats in the documentation: https://pandas.pydata.org/pandas-docs/stable/user_guide/indexing.html#returning-a-view-versus-a-copy\n"
     ]
    },
    {
     "name": "stdout",
     "output_type": "stream",
     "text": [
      "End distances\n"
     ]
    },
    {
     "name": "stderr",
     "output_type": "stream",
     "text": [
      "/home/nicklake00/.local/lib/python3.6/site-packages/ipykernel_launcher.py:32: SettingWithCopyWarning: \n",
      "A value is trying to be set on a copy of a slice from a DataFrame.\n",
      "Try using .loc[row_indexer,col_indexer] = value instead\n",
      "\n",
      "See the caveats in the documentation: https://pandas.pydata.org/pandas-docs/stable/user_guide/indexing.html#returning-a-view-versus-a-copy\n"
     ]
    },
    {
     "name": "stdout",
     "output_type": "stream",
     "text": [
      "End Kmeans\n"
     ]
    },
    {
     "name": "stderr",
     "output_type": "stream",
     "text": [
      "/home/nicklake00/.local/lib/python3.6/site-packages/ipykernel_launcher.py:11: SettingWithCopyWarning: \n",
      "A value is trying to be set on a copy of a slice from a DataFrame.\n",
      "Try using .loc[row_indexer,col_indexer] = value instead\n",
      "\n",
      "See the caveats in the documentation: https://pandas.pydata.org/pandas-docs/stable/user_guide/indexing.html#returning-a-view-versus-a-copy\n",
      "  # This is added back by InteractiveShellApp.init_path()\n"
     ]
    },
    {
     "name": "stdout",
     "output_type": "stream",
     "text": [
      "0\n",
      "500\n",
      "1000\n",
      "1500\n",
      "2000\n",
      "2500\n",
      "3000\n",
      "3500\n",
      "4000\n",
      "4500\n",
      "5000\n",
      "5500\n",
      "6000\n",
      "6500\n",
      "7000\n",
      "7500\n",
      "8000\n",
      "8500\n",
      "9000\n",
      "9500\n",
      "10000\n",
      "10500\n",
      "11000\n",
      "11500\n",
      "12000\n",
      "12500\n",
      "13000\n",
      "13500\n",
      "14000\n",
      "14500\n",
      "15000\n",
      "15500\n",
      "16000\n",
      "16500\n",
      "17000\n",
      "17500\n",
      "18000\n",
      "18500\n",
      "19000\n",
      "19500\n",
      "20000\n"
     ]
    },
    {
     "name": "stderr",
     "output_type": "stream",
     "text": [
      "/home/nicklake00/.local/lib/python3.6/site-packages/ipykernel_launcher.py:24: SettingWithCopyWarning: \n",
      "A value is trying to be set on a copy of a slice from a DataFrame.\n",
      "Try using .loc[row_indexer,col_indexer] = value instead\n",
      "\n",
      "See the caveats in the documentation: https://pandas.pydata.org/pandas-docs/stable/user_guide/indexing.html#returning-a-view-versus-a-copy\n"
     ]
    },
    {
     "name": "stdout",
     "output_type": "stream",
     "text": [
      "End distances\n"
     ]
    },
    {
     "name": "stderr",
     "output_type": "stream",
     "text": [
      "/home/nicklake00/.local/lib/python3.6/site-packages/ipykernel_launcher.py:32: SettingWithCopyWarning: \n",
      "A value is trying to be set on a copy of a slice from a DataFrame.\n",
      "Try using .loc[row_indexer,col_indexer] = value instead\n",
      "\n",
      "See the caveats in the documentation: https://pandas.pydata.org/pandas-docs/stable/user_guide/indexing.html#returning-a-view-versus-a-copy\n"
     ]
    },
    {
     "name": "stdout",
     "output_type": "stream",
     "text": [
      "End Kmeans\n"
     ]
    },
    {
     "name": "stderr",
     "output_type": "stream",
     "text": [
      "/home/nicklake00/.local/lib/python3.6/site-packages/ipykernel_launcher.py:11: SettingWithCopyWarning: \n",
      "A value is trying to be set on a copy of a slice from a DataFrame.\n",
      "Try using .loc[row_indexer,col_indexer] = value instead\n",
      "\n",
      "See the caveats in the documentation: https://pandas.pydata.org/pandas-docs/stable/user_guide/indexing.html#returning-a-view-versus-a-copy\n",
      "  # This is added back by InteractiveShellApp.init_path()\n"
     ]
    },
    {
     "name": "stdout",
     "output_type": "stream",
     "text": [
      "0\n",
      "500\n",
      "1000\n",
      "1500\n",
      "2000\n",
      "2500\n",
      "3000\n",
      "3500\n",
      "4000\n",
      "4500\n",
      "5000\n",
      "5500\n",
      "6000\n",
      "6500\n",
      "7000\n",
      "7500\n",
      "8000\n",
      "8500\n",
      "9000\n",
      "9500\n",
      "10000\n",
      "10500\n",
      "11000\n",
      "11500\n",
      "12000\n",
      "12500\n",
      "13000\n",
      "13500\n",
      "14000\n",
      "14500\n",
      "15000\n",
      "15500\n",
      "16000\n",
      "16500\n",
      "17000\n",
      "17500\n",
      "18000\n",
      "18500\n",
      "19000\n",
      "19500\n",
      "20000\n"
     ]
    },
    {
     "name": "stderr",
     "output_type": "stream",
     "text": [
      "/home/nicklake00/.local/lib/python3.6/site-packages/ipykernel_launcher.py:24: SettingWithCopyWarning: \n",
      "A value is trying to be set on a copy of a slice from a DataFrame.\n",
      "Try using .loc[row_indexer,col_indexer] = value instead\n",
      "\n",
      "See the caveats in the documentation: https://pandas.pydata.org/pandas-docs/stable/user_guide/indexing.html#returning-a-view-versus-a-copy\n"
     ]
    },
    {
     "name": "stdout",
     "output_type": "stream",
     "text": [
      "End distances\n"
     ]
    },
    {
     "name": "stderr",
     "output_type": "stream",
     "text": [
      "/home/nicklake00/.local/lib/python3.6/site-packages/ipykernel_launcher.py:32: SettingWithCopyWarning: \n",
      "A value is trying to be set on a copy of a slice from a DataFrame.\n",
      "Try using .loc[row_indexer,col_indexer] = value instead\n",
      "\n",
      "See the caveats in the documentation: https://pandas.pydata.org/pandas-docs/stable/user_guide/indexing.html#returning-a-view-versus-a-copy\n"
     ]
    },
    {
     "name": "stdout",
     "output_type": "stream",
     "text": [
      "End Kmeans\n"
     ]
    },
    {
     "name": "stderr",
     "output_type": "stream",
     "text": [
      "/home/nicklake00/.local/lib/python3.6/site-packages/ipykernel_launcher.py:11: SettingWithCopyWarning: \n",
      "A value is trying to be set on a copy of a slice from a DataFrame.\n",
      "Try using .loc[row_indexer,col_indexer] = value instead\n",
      "\n",
      "See the caveats in the documentation: https://pandas.pydata.org/pandas-docs/stable/user_guide/indexing.html#returning-a-view-versus-a-copy\n",
      "  # This is added back by InteractiveShellApp.init_path()\n"
     ]
    },
    {
     "name": "stdout",
     "output_type": "stream",
     "text": [
      "0\n",
      "500\n",
      "1000\n",
      "1500\n",
      "2000\n",
      "2500\n",
      "3000\n",
      "3500\n",
      "4000\n",
      "4500\n",
      "5000\n",
      "5500\n",
      "6000\n",
      "6500\n",
      "7000\n",
      "7500\n",
      "8000\n",
      "8500\n",
      "9000\n",
      "9500\n",
      "10000\n",
      "10500\n",
      "11000\n",
      "11500\n",
      "12000\n",
      "12500\n",
      "13000\n",
      "13500\n",
      "14000\n",
      "14500\n",
      "15000\n",
      "15500\n",
      "16000\n",
      "16500\n",
      "17000\n",
      "17500\n",
      "18000\n",
      "18500\n",
      "19000\n",
      "19500\n",
      "20000\n"
     ]
    },
    {
     "name": "stderr",
     "output_type": "stream",
     "text": [
      "/home/nicklake00/.local/lib/python3.6/site-packages/ipykernel_launcher.py:24: SettingWithCopyWarning: \n",
      "A value is trying to be set on a copy of a slice from a DataFrame.\n",
      "Try using .loc[row_indexer,col_indexer] = value instead\n",
      "\n",
      "See the caveats in the documentation: https://pandas.pydata.org/pandas-docs/stable/user_guide/indexing.html#returning-a-view-versus-a-copy\n"
     ]
    },
    {
     "name": "stdout",
     "output_type": "stream",
     "text": [
      "End distances\n"
     ]
    },
    {
     "name": "stderr",
     "output_type": "stream",
     "text": [
      "/home/nicklake00/.local/lib/python3.6/site-packages/ipykernel_launcher.py:32: SettingWithCopyWarning: \n",
      "A value is trying to be set on a copy of a slice from a DataFrame.\n",
      "Try using .loc[row_indexer,col_indexer] = value instead\n",
      "\n",
      "See the caveats in the documentation: https://pandas.pydata.org/pandas-docs/stable/user_guide/indexing.html#returning-a-view-versus-a-copy\n"
     ]
    },
    {
     "name": "stdout",
     "output_type": "stream",
     "text": [
      "End Kmeans\n"
     ]
    },
    {
     "name": "stderr",
     "output_type": "stream",
     "text": [
      "/home/nicklake00/.local/lib/python3.6/site-packages/ipykernel_launcher.py:11: SettingWithCopyWarning: \n",
      "A value is trying to be set on a copy of a slice from a DataFrame.\n",
      "Try using .loc[row_indexer,col_indexer] = value instead\n",
      "\n",
      "See the caveats in the documentation: https://pandas.pydata.org/pandas-docs/stable/user_guide/indexing.html#returning-a-view-versus-a-copy\n",
      "  # This is added back by InteractiveShellApp.init_path()\n"
     ]
    },
    {
     "name": "stdout",
     "output_type": "stream",
     "text": [
      "0\n",
      "500\n",
      "1000\n",
      "1500\n",
      "2000\n",
      "2500\n",
      "3000\n",
      "3500\n",
      "4000\n",
      "4500\n",
      "5000\n",
      "5500\n",
      "6000\n",
      "6500\n",
      "7000\n",
      "7500\n",
      "8000\n",
      "8500\n",
      "9000\n",
      "9500\n",
      "10000\n",
      "10500\n",
      "11000\n",
      "11500\n",
      "12000\n",
      "12500\n",
      "13000\n",
      "13500\n",
      "14000\n",
      "14500\n",
      "15000\n",
      "15500\n",
      "16000\n",
      "16500\n",
      "17000\n",
      "17500\n",
      "18000\n",
      "18500\n",
      "19000\n",
      "19500\n",
      "20000\n"
     ]
    },
    {
     "name": "stderr",
     "output_type": "stream",
     "text": [
      "/home/nicklake00/.local/lib/python3.6/site-packages/ipykernel_launcher.py:24: SettingWithCopyWarning: \n",
      "A value is trying to be set on a copy of a slice from a DataFrame.\n",
      "Try using .loc[row_indexer,col_indexer] = value instead\n",
      "\n",
      "See the caveats in the documentation: https://pandas.pydata.org/pandas-docs/stable/user_guide/indexing.html#returning-a-view-versus-a-copy\n"
     ]
    },
    {
     "name": "stdout",
     "output_type": "stream",
     "text": [
      "End distances\n"
     ]
    },
    {
     "name": "stderr",
     "output_type": "stream",
     "text": [
      "/home/nicklake00/.local/lib/python3.6/site-packages/ipykernel_launcher.py:32: SettingWithCopyWarning: \n",
      "A value is trying to be set on a copy of a slice from a DataFrame.\n",
      "Try using .loc[row_indexer,col_indexer] = value instead\n",
      "\n",
      "See the caveats in the documentation: https://pandas.pydata.org/pandas-docs/stable/user_guide/indexing.html#returning-a-view-versus-a-copy\n"
     ]
    },
    {
     "name": "stdout",
     "output_type": "stream",
     "text": [
      "End Kmeans\n"
     ]
    },
    {
     "name": "stderr",
     "output_type": "stream",
     "text": [
      "/home/nicklake00/.local/lib/python3.6/site-packages/ipykernel_launcher.py:11: SettingWithCopyWarning: \n",
      "A value is trying to be set on a copy of a slice from a DataFrame.\n",
      "Try using .loc[row_indexer,col_indexer] = value instead\n",
      "\n",
      "See the caveats in the documentation: https://pandas.pydata.org/pandas-docs/stable/user_guide/indexing.html#returning-a-view-versus-a-copy\n",
      "  # This is added back by InteractiveShellApp.init_path()\n"
     ]
    },
    {
     "name": "stdout",
     "output_type": "stream",
     "text": [
      "0\n",
      "500\n",
      "1000\n",
      "1500\n",
      "2000\n",
      "2500\n",
      "3000\n",
      "3500\n",
      "4000\n",
      "4500\n",
      "5000\n",
      "5500\n",
      "6000\n",
      "6500\n",
      "7000\n",
      "7500\n",
      "8000\n",
      "8500\n",
      "9000\n",
      "9500\n",
      "10000\n",
      "10500\n",
      "11000\n",
      "11500\n",
      "12000\n",
      "12500\n",
      "13000\n",
      "13500\n",
      "14000\n",
      "14500\n",
      "15000\n",
      "15500\n",
      "16000\n",
      "16500\n",
      "17000\n",
      "17500\n",
      "18000\n",
      "18500\n",
      "19000\n",
      "19500\n",
      "20000\n"
     ]
    },
    {
     "name": "stderr",
     "output_type": "stream",
     "text": [
      "/home/nicklake00/.local/lib/python3.6/site-packages/ipykernel_launcher.py:24: SettingWithCopyWarning: \n",
      "A value is trying to be set on a copy of a slice from a DataFrame.\n",
      "Try using .loc[row_indexer,col_indexer] = value instead\n",
      "\n",
      "See the caveats in the documentation: https://pandas.pydata.org/pandas-docs/stable/user_guide/indexing.html#returning-a-view-versus-a-copy\n"
     ]
    },
    {
     "name": "stdout",
     "output_type": "stream",
     "text": [
      "End distances\n"
     ]
    },
    {
     "name": "stderr",
     "output_type": "stream",
     "text": [
      "/home/nicklake00/.local/lib/python3.6/site-packages/ipykernel_launcher.py:32: SettingWithCopyWarning: \n",
      "A value is trying to be set on a copy of a slice from a DataFrame.\n",
      "Try using .loc[row_indexer,col_indexer] = value instead\n",
      "\n",
      "See the caveats in the documentation: https://pandas.pydata.org/pandas-docs/stable/user_guide/indexing.html#returning-a-view-versus-a-copy\n"
     ]
    },
    {
     "name": "stdout",
     "output_type": "stream",
     "text": [
      "End Kmeans\n"
     ]
    },
    {
     "name": "stderr",
     "output_type": "stream",
     "text": [
      "/home/nicklake00/.local/lib/python3.6/site-packages/ipykernel_launcher.py:11: SettingWithCopyWarning: \n",
      "A value is trying to be set on a copy of a slice from a DataFrame.\n",
      "Try using .loc[row_indexer,col_indexer] = value instead\n",
      "\n",
      "See the caveats in the documentation: https://pandas.pydata.org/pandas-docs/stable/user_guide/indexing.html#returning-a-view-versus-a-copy\n",
      "  # This is added back by InteractiveShellApp.init_path()\n"
     ]
    },
    {
     "name": "stdout",
     "output_type": "stream",
     "text": [
      "0\n",
      "500\n",
      "1000\n",
      "1500\n",
      "2000\n",
      "2500\n",
      "3000\n",
      "3500\n",
      "4000\n",
      "4500\n",
      "5000\n",
      "5500\n",
      "6000\n",
      "6500\n",
      "7000\n",
      "7500\n",
      "8000\n",
      "8500\n",
      "9000\n",
      "9500\n",
      "10000\n",
      "10500\n",
      "11000\n",
      "11500\n",
      "12000\n",
      "12500\n",
      "13000\n",
      "13500\n",
      "14000\n",
      "14500\n",
      "15000\n",
      "15500\n",
      "16000\n",
      "16500\n",
      "17000\n",
      "17500\n",
      "18000\n",
      "18500\n",
      "19000\n",
      "19500\n",
      "20000\n"
     ]
    },
    {
     "name": "stderr",
     "output_type": "stream",
     "text": [
      "/home/nicklake00/.local/lib/python3.6/site-packages/ipykernel_launcher.py:24: SettingWithCopyWarning: \n",
      "A value is trying to be set on a copy of a slice from a DataFrame.\n",
      "Try using .loc[row_indexer,col_indexer] = value instead\n",
      "\n",
      "See the caveats in the documentation: https://pandas.pydata.org/pandas-docs/stable/user_guide/indexing.html#returning-a-view-versus-a-copy\n"
     ]
    },
    {
     "name": "stdout",
     "output_type": "stream",
     "text": [
      "End distances\n"
     ]
    },
    {
     "name": "stderr",
     "output_type": "stream",
     "text": [
      "/home/nicklake00/.local/lib/python3.6/site-packages/ipykernel_launcher.py:32: SettingWithCopyWarning: \n",
      "A value is trying to be set on a copy of a slice from a DataFrame.\n",
      "Try using .loc[row_indexer,col_indexer] = value instead\n",
      "\n",
      "See the caveats in the documentation: https://pandas.pydata.org/pandas-docs/stable/user_guide/indexing.html#returning-a-view-versus-a-copy\n"
     ]
    },
    {
     "name": "stdout",
     "output_type": "stream",
     "text": [
      "End Kmeans\n"
     ]
    },
    {
     "name": "stderr",
     "output_type": "stream",
     "text": [
      "/home/nicklake00/.local/lib/python3.6/site-packages/ipykernel_launcher.py:11: SettingWithCopyWarning: \n",
      "A value is trying to be set on a copy of a slice from a DataFrame.\n",
      "Try using .loc[row_indexer,col_indexer] = value instead\n",
      "\n",
      "See the caveats in the documentation: https://pandas.pydata.org/pandas-docs/stable/user_guide/indexing.html#returning-a-view-versus-a-copy\n",
      "  # This is added back by InteractiveShellApp.init_path()\n"
     ]
    },
    {
     "name": "stdout",
     "output_type": "stream",
     "text": [
      "0\n",
      "500\n",
      "1000\n",
      "1500\n",
      "2000\n",
      "2500\n",
      "3000\n",
      "3500\n",
      "4000\n",
      "4500\n",
      "5000\n",
      "5500\n",
      "6000\n",
      "6500\n",
      "7000\n",
      "7500\n",
      "8000\n",
      "8500\n",
      "9000\n",
      "9500\n",
      "10000\n",
      "10500\n",
      "11000\n",
      "11500\n",
      "12000\n",
      "12500\n",
      "13000\n",
      "13500\n",
      "14000\n",
      "14500\n",
      "15000\n",
      "15500\n",
      "16000\n",
      "16500\n",
      "17000\n",
      "17500\n",
      "18000\n",
      "18500\n",
      "19000\n",
      "19500\n",
      "20000\n"
     ]
    },
    {
     "name": "stderr",
     "output_type": "stream",
     "text": [
      "/home/nicklake00/.local/lib/python3.6/site-packages/ipykernel_launcher.py:24: SettingWithCopyWarning: \n",
      "A value is trying to be set on a copy of a slice from a DataFrame.\n",
      "Try using .loc[row_indexer,col_indexer] = value instead\n",
      "\n",
      "See the caveats in the documentation: https://pandas.pydata.org/pandas-docs/stable/user_guide/indexing.html#returning-a-view-versus-a-copy\n"
     ]
    },
    {
     "name": "stdout",
     "output_type": "stream",
     "text": [
      "End distances\n"
     ]
    },
    {
     "name": "stderr",
     "output_type": "stream",
     "text": [
      "/home/nicklake00/.local/lib/python3.6/site-packages/ipykernel_launcher.py:32: SettingWithCopyWarning: \n",
      "A value is trying to be set on a copy of a slice from a DataFrame.\n",
      "Try using .loc[row_indexer,col_indexer] = value instead\n",
      "\n",
      "See the caveats in the documentation: https://pandas.pydata.org/pandas-docs/stable/user_guide/indexing.html#returning-a-view-versus-a-copy\n"
     ]
    },
    {
     "name": "stdout",
     "output_type": "stream",
     "text": [
      "End Kmeans\n"
     ]
    },
    {
     "name": "stderr",
     "output_type": "stream",
     "text": [
      "/home/nicklake00/.local/lib/python3.6/site-packages/ipykernel_launcher.py:11: SettingWithCopyWarning: \n",
      "A value is trying to be set on a copy of a slice from a DataFrame.\n",
      "Try using .loc[row_indexer,col_indexer] = value instead\n",
      "\n",
      "See the caveats in the documentation: https://pandas.pydata.org/pandas-docs/stable/user_guide/indexing.html#returning-a-view-versus-a-copy\n",
      "  # This is added back by InteractiveShellApp.init_path()\n"
     ]
    },
    {
     "name": "stdout",
     "output_type": "stream",
     "text": [
      "0\n",
      "500\n",
      "1000\n",
      "1500\n",
      "2000\n",
      "2500\n",
      "3000\n",
      "3500\n",
      "4000\n",
      "4500\n",
      "5000\n",
      "5500\n",
      "6000\n",
      "6500\n",
      "7000\n",
      "7500\n",
      "8000\n",
      "8500\n",
      "9000\n",
      "9500\n",
      "10000\n",
      "10500\n",
      "11000\n",
      "11500\n",
      "12000\n",
      "12500\n",
      "13000\n",
      "13500\n",
      "14000\n",
      "14500\n",
      "15000\n",
      "15500\n",
      "16000\n",
      "16500\n",
      "17000\n",
      "17500\n",
      "18000\n",
      "18500\n",
      "19000\n",
      "19500\n",
      "20000\n"
     ]
    },
    {
     "name": "stderr",
     "output_type": "stream",
     "text": [
      "/home/nicklake00/.local/lib/python3.6/site-packages/ipykernel_launcher.py:24: SettingWithCopyWarning: \n",
      "A value is trying to be set on a copy of a slice from a DataFrame.\n",
      "Try using .loc[row_indexer,col_indexer] = value instead\n",
      "\n",
      "See the caveats in the documentation: https://pandas.pydata.org/pandas-docs/stable/user_guide/indexing.html#returning-a-view-versus-a-copy\n"
     ]
    },
    {
     "name": "stdout",
     "output_type": "stream",
     "text": [
      "End distances\n"
     ]
    },
    {
     "name": "stderr",
     "output_type": "stream",
     "text": [
      "/home/nicklake00/.local/lib/python3.6/site-packages/ipykernel_launcher.py:32: SettingWithCopyWarning: \n",
      "A value is trying to be set on a copy of a slice from a DataFrame.\n",
      "Try using .loc[row_indexer,col_indexer] = value instead\n",
      "\n",
      "See the caveats in the documentation: https://pandas.pydata.org/pandas-docs/stable/user_guide/indexing.html#returning-a-view-versus-a-copy\n"
     ]
    },
    {
     "name": "stdout",
     "output_type": "stream",
     "text": [
      "End Kmeans\n"
     ]
    },
    {
     "name": "stderr",
     "output_type": "stream",
     "text": [
      "/home/nicklake00/.local/lib/python3.6/site-packages/ipykernel_launcher.py:11: SettingWithCopyWarning: \n",
      "A value is trying to be set on a copy of a slice from a DataFrame.\n",
      "Try using .loc[row_indexer,col_indexer] = value instead\n",
      "\n",
      "See the caveats in the documentation: https://pandas.pydata.org/pandas-docs/stable/user_guide/indexing.html#returning-a-view-versus-a-copy\n",
      "  # This is added back by InteractiveShellApp.init_path()\n"
     ]
    },
    {
     "name": "stdout",
     "output_type": "stream",
     "text": [
      "0\n",
      "500\n",
      "1000\n",
      "1500\n",
      "2000\n",
      "2500\n",
      "3000\n",
      "3500\n",
      "4000\n",
      "4500\n",
      "5000\n",
      "5500\n",
      "6000\n",
      "6500\n",
      "7000\n",
      "7500\n",
      "8000\n",
      "8500\n",
      "9000\n",
      "9500\n",
      "10000\n",
      "10500\n",
      "11000\n",
      "11500\n",
      "12000\n",
      "12500\n",
      "13000\n",
      "13500\n",
      "14000\n",
      "14500\n",
      "15000\n",
      "15500\n",
      "16000\n",
      "16500\n",
      "17000\n",
      "17500\n",
      "18000\n",
      "18500\n",
      "19000\n",
      "19500\n",
      "20000\n"
     ]
    },
    {
     "name": "stderr",
     "output_type": "stream",
     "text": [
      "/home/nicklake00/.local/lib/python3.6/site-packages/ipykernel_launcher.py:24: SettingWithCopyWarning: \n",
      "A value is trying to be set on a copy of a slice from a DataFrame.\n",
      "Try using .loc[row_indexer,col_indexer] = value instead\n",
      "\n",
      "See the caveats in the documentation: https://pandas.pydata.org/pandas-docs/stable/user_guide/indexing.html#returning-a-view-versus-a-copy\n"
     ]
    },
    {
     "name": "stdout",
     "output_type": "stream",
     "text": [
      "End distances\n"
     ]
    },
    {
     "name": "stderr",
     "output_type": "stream",
     "text": [
      "/home/nicklake00/.local/lib/python3.6/site-packages/ipykernel_launcher.py:32: SettingWithCopyWarning: \n",
      "A value is trying to be set on a copy of a slice from a DataFrame.\n",
      "Try using .loc[row_indexer,col_indexer] = value instead\n",
      "\n",
      "See the caveats in the documentation: https://pandas.pydata.org/pandas-docs/stable/user_guide/indexing.html#returning-a-view-versus-a-copy\n"
     ]
    }
   ],
   "source": [
    "tweet_2020_1 = summarization(1)\n",
    "tweet_2020_1.to_csv('notemo_2020_1.csv')\n",
    "\n",
    "tweet_2020_2 = summarization(2)\n",
    "tweet_2020_2.to_csv('notemo_2020_2.csv')\n",
    "\n",
    "tweet_2020_3 = summarization(3)\n",
    "tweet_2020_3.to_csv('notemo_2020_3.csv')\n",
    "\n",
    "tweet_2020_4 = summarization(4)\n",
    "tweet_2020_4.to_csv('notemo_2020_4.csv')\n",
    "\n",
    "tweet_2020_5 = summarization(5)\n",
    "tweet_2020_5.to_csv('notemo_2020_5.csv')\n",
    "\n",
    "tweet_2020_6 = summarization(6)\n",
    "tweet_2020_6.to_csv('notemo_2020_6.csv')\n",
    "\n",
    "tweet_2020_7 = summarization(7)\n",
    "tweet_2020_7.to_csv('notemo_2020_7.csv')\n",
    "\n",
    "tweet_2020_8 = summarization(8)\n",
    "tweet_2020_8.to_csv('notemo_2020_8.csv')\n",
    "\n",
    "tweet_2020_9 = summarization(9)\n",
    "tweet_2020_9.to_csv('notemo_2020_9.csv')\n",
    "\n",
    "tweet_2020_10 = summarization(10)\n",
    "tweet_2020_10.to_csv('notemo_2020_10.csv')"
   ]
  },
  {
   "cell_type": "code",
   "execution_count": 170,
   "metadata": {},
   "outputs": [
    {
     "name": "stdout",
     "output_type": "stream",
     "text": [
      "End Kmeans\n"
     ]
    },
    {
     "name": "stderr",
     "output_type": "stream",
     "text": [
      "/home/nicklake00/.local/lib/python3.6/site-packages/ipykernel_launcher.py:11: SettingWithCopyWarning: \n",
      "A value is trying to be set on a copy of a slice from a DataFrame.\n",
      "Try using .loc[row_indexer,col_indexer] = value instead\n",
      "\n",
      "See the caveats in the documentation: https://pandas.pydata.org/pandas-docs/stable/user_guide/indexing.html#returning-a-view-versus-a-copy\n",
      "  # This is added back by InteractiveShellApp.init_path()\n"
     ]
    },
    {
     "name": "stdout",
     "output_type": "stream",
     "text": [
      "0\n",
      "500\n",
      "1000\n",
      "1500\n",
      "2000\n",
      "2500\n",
      "3000\n",
      "3500\n",
      "4000\n",
      "4500\n",
      "5000\n",
      "5500\n",
      "6000\n",
      "6500\n",
      "7000\n",
      "7500\n",
      "8000\n",
      "8500\n",
      "9000\n",
      "9500\n",
      "10000\n",
      "10500\n",
      "11000\n",
      "11500\n",
      "12000\n",
      "12500\n",
      "13000\n",
      "13500\n",
      "14000\n",
      "14500\n",
      "15000\n",
      "15500\n",
      "16000\n",
      "16500\n",
      "17000\n",
      "17500\n",
      "18000\n",
      "18500\n",
      "19000\n",
      "19500\n",
      "20000\n"
     ]
    },
    {
     "name": "stderr",
     "output_type": "stream",
     "text": [
      "/home/nicklake00/.local/lib/python3.6/site-packages/ipykernel_launcher.py:24: SettingWithCopyWarning: \n",
      "A value is trying to be set on a copy of a slice from a DataFrame.\n",
      "Try using .loc[row_indexer,col_indexer] = value instead\n",
      "\n",
      "See the caveats in the documentation: https://pandas.pydata.org/pandas-docs/stable/user_guide/indexing.html#returning-a-view-versus-a-copy\n"
     ]
    },
    {
     "name": "stdout",
     "output_type": "stream",
     "text": [
      "End distances\n"
     ]
    },
    {
     "name": "stderr",
     "output_type": "stream",
     "text": [
      "/home/nicklake00/.local/lib/python3.6/site-packages/ipykernel_launcher.py:32: SettingWithCopyWarning: \n",
      "A value is trying to be set on a copy of a slice from a DataFrame.\n",
      "Try using .loc[row_indexer,col_indexer] = value instead\n",
      "\n",
      "See the caveats in the documentation: https://pandas.pydata.org/pandas-docs/stable/user_guide/indexing.html#returning-a-view-versus-a-copy\n"
     ]
    },
    {
     "name": "stdout",
     "output_type": "stream",
     "text": [
      "End Kmeans\n"
     ]
    },
    {
     "name": "stderr",
     "output_type": "stream",
     "text": [
      "/home/nicklake00/.local/lib/python3.6/site-packages/ipykernel_launcher.py:11: SettingWithCopyWarning: \n",
      "A value is trying to be set on a copy of a slice from a DataFrame.\n",
      "Try using .loc[row_indexer,col_indexer] = value instead\n",
      "\n",
      "See the caveats in the documentation: https://pandas.pydata.org/pandas-docs/stable/user_guide/indexing.html#returning-a-view-versus-a-copy\n",
      "  # This is added back by InteractiveShellApp.init_path()\n"
     ]
    },
    {
     "name": "stdout",
     "output_type": "stream",
     "text": [
      "0\n",
      "500\n",
      "1000\n",
      "1500\n",
      "2000\n",
      "2500\n",
      "3000\n",
      "3500\n",
      "4000\n",
      "4500\n",
      "5000\n",
      "5500\n",
      "6000\n",
      "6500\n",
      "7000\n",
      "7500\n",
      "8000\n",
      "8500\n",
      "9000\n",
      "9500\n",
      "10000\n",
      "10500\n",
      "11000\n",
      "11500\n",
      "12000\n",
      "12500\n",
      "13000\n",
      "13500\n",
      "14000\n",
      "14500\n",
      "15000\n",
      "15500\n",
      "16000\n",
      "16500\n",
      "17000\n",
      "17500\n",
      "18000\n",
      "18500\n",
      "19000\n",
      "19500\n",
      "20000\n"
     ]
    },
    {
     "name": "stderr",
     "output_type": "stream",
     "text": [
      "/home/nicklake00/.local/lib/python3.6/site-packages/ipykernel_launcher.py:24: SettingWithCopyWarning: \n",
      "A value is trying to be set on a copy of a slice from a DataFrame.\n",
      "Try using .loc[row_indexer,col_indexer] = value instead\n",
      "\n",
      "See the caveats in the documentation: https://pandas.pydata.org/pandas-docs/stable/user_guide/indexing.html#returning-a-view-versus-a-copy\n"
     ]
    },
    {
     "name": "stdout",
     "output_type": "stream",
     "text": [
      "End distances\n"
     ]
    },
    {
     "name": "stderr",
     "output_type": "stream",
     "text": [
      "/home/nicklake00/.local/lib/python3.6/site-packages/ipykernel_launcher.py:32: SettingWithCopyWarning: \n",
      "A value is trying to be set on a copy of a slice from a DataFrame.\n",
      "Try using .loc[row_indexer,col_indexer] = value instead\n",
      "\n",
      "See the caveats in the documentation: https://pandas.pydata.org/pandas-docs/stable/user_guide/indexing.html#returning-a-view-versus-a-copy\n"
     ]
    },
    {
     "name": "stdout",
     "output_type": "stream",
     "text": [
      "End Kmeans\n"
     ]
    },
    {
     "name": "stderr",
     "output_type": "stream",
     "text": [
      "/home/nicklake00/.local/lib/python3.6/site-packages/ipykernel_launcher.py:11: SettingWithCopyWarning: \n",
      "A value is trying to be set on a copy of a slice from a DataFrame.\n",
      "Try using .loc[row_indexer,col_indexer] = value instead\n",
      "\n",
      "See the caveats in the documentation: https://pandas.pydata.org/pandas-docs/stable/user_guide/indexing.html#returning-a-view-versus-a-copy\n",
      "  # This is added back by InteractiveShellApp.init_path()\n"
     ]
    },
    {
     "name": "stdout",
     "output_type": "stream",
     "text": [
      "0\n",
      "500\n",
      "1000\n",
      "1500\n",
      "2000\n",
      "2500\n",
      "3000\n",
      "3500\n",
      "4000\n",
      "4500\n",
      "5000\n",
      "5500\n",
      "6000\n",
      "6500\n",
      "7000\n",
      "7500\n",
      "8000\n",
      "8500\n",
      "9000\n",
      "9500\n",
      "10000\n",
      "10500\n",
      "11000\n",
      "11500\n",
      "12000\n",
      "12500\n",
      "13000\n",
      "13500\n",
      "14000\n",
      "14500\n",
      "15000\n",
      "15500\n",
      "16000\n",
      "16500\n",
      "17000\n",
      "17500\n",
      "18000\n",
      "18500\n",
      "19000\n",
      "19500\n",
      "20000\n"
     ]
    },
    {
     "name": "stderr",
     "output_type": "stream",
     "text": [
      "/home/nicklake00/.local/lib/python3.6/site-packages/ipykernel_launcher.py:24: SettingWithCopyWarning: \n",
      "A value is trying to be set on a copy of a slice from a DataFrame.\n",
      "Try using .loc[row_indexer,col_indexer] = value instead\n",
      "\n",
      "See the caveats in the documentation: https://pandas.pydata.org/pandas-docs/stable/user_guide/indexing.html#returning-a-view-versus-a-copy\n"
     ]
    },
    {
     "name": "stdout",
     "output_type": "stream",
     "text": [
      "End distances\n"
     ]
    },
    {
     "name": "stderr",
     "output_type": "stream",
     "text": [
      "/home/nicklake00/.local/lib/python3.6/site-packages/ipykernel_launcher.py:32: SettingWithCopyWarning: \n",
      "A value is trying to be set on a copy of a slice from a DataFrame.\n",
      "Try using .loc[row_indexer,col_indexer] = value instead\n",
      "\n",
      "See the caveats in the documentation: https://pandas.pydata.org/pandas-docs/stable/user_guide/indexing.html#returning-a-view-versus-a-copy\n"
     ]
    },
    {
     "name": "stdout",
     "output_type": "stream",
     "text": [
      "End Kmeans\n"
     ]
    },
    {
     "name": "stderr",
     "output_type": "stream",
     "text": [
      "/home/nicklake00/.local/lib/python3.6/site-packages/ipykernel_launcher.py:11: SettingWithCopyWarning: \n",
      "A value is trying to be set on a copy of a slice from a DataFrame.\n",
      "Try using .loc[row_indexer,col_indexer] = value instead\n",
      "\n",
      "See the caveats in the documentation: https://pandas.pydata.org/pandas-docs/stable/user_guide/indexing.html#returning-a-view-versus-a-copy\n",
      "  # This is added back by InteractiveShellApp.init_path()\n"
     ]
    },
    {
     "name": "stdout",
     "output_type": "stream",
     "text": [
      "0\n",
      "500\n",
      "1000\n",
      "1500\n",
      "2000\n",
      "2500\n",
      "3000\n",
      "3500\n",
      "4000\n",
      "4500\n",
      "5000\n",
      "5500\n",
      "6000\n",
      "6500\n",
      "7000\n",
      "7500\n",
      "8000\n",
      "8500\n",
      "9000\n",
      "9500\n",
      "10000\n",
      "10500\n",
      "11000\n",
      "11500\n",
      "12000\n",
      "12500\n",
      "13000\n",
      "13500\n",
      "14000\n",
      "14500\n",
      "15000\n",
      "15500\n",
      "16000\n",
      "16500\n",
      "17000\n",
      "17500\n",
      "18000\n",
      "18500\n",
      "19000\n",
      "19500\n",
      "20000\n"
     ]
    },
    {
     "name": "stderr",
     "output_type": "stream",
     "text": [
      "/home/nicklake00/.local/lib/python3.6/site-packages/ipykernel_launcher.py:24: SettingWithCopyWarning: \n",
      "A value is trying to be set on a copy of a slice from a DataFrame.\n",
      "Try using .loc[row_indexer,col_indexer] = value instead\n",
      "\n",
      "See the caveats in the documentation: https://pandas.pydata.org/pandas-docs/stable/user_guide/indexing.html#returning-a-view-versus-a-copy\n"
     ]
    },
    {
     "name": "stdout",
     "output_type": "stream",
     "text": [
      "End distances\n"
     ]
    },
    {
     "name": "stderr",
     "output_type": "stream",
     "text": [
      "/home/nicklake00/.local/lib/python3.6/site-packages/ipykernel_launcher.py:32: SettingWithCopyWarning: \n",
      "A value is trying to be set on a copy of a slice from a DataFrame.\n",
      "Try using .loc[row_indexer,col_indexer] = value instead\n",
      "\n",
      "See the caveats in the documentation: https://pandas.pydata.org/pandas-docs/stable/user_guide/indexing.html#returning-a-view-versus-a-copy\n"
     ]
    }
   ],
   "source": [
    "tweet_2020_11 = summarization(11)\n",
    "tweet_2020_11.to_csv('notemo_2020_11.csv')\n",
    "\n",
    "tweet_2020_12 = summarization(12)\n",
    "tweet_2020_12.to_csv('notemo_2020_12.csv')\n",
    "\n",
    "tweet_2020_13 = summarization(13)\n",
    "tweet_2020_13.to_csv('notemo_2020_13.csv')\n",
    "\n",
    "tweet_2020_14 = summarization(14)\n",
    "tweet_2020_14.to_csv('notemo_2020_14.csv')"
   ]
  },
  {
   "cell_type": "markdown",
   "metadata": {},
   "source": [
    "## Naive Bayes NO but removed spam"
   ]
  },
  {
   "cell_type": "code",
   "execution_count": 100,
   "metadata": {},
   "outputs": [],
   "source": [
    "length = []\n",
    "for i in range(len(notemo_2020_sorted['preprop'])):\n",
    "    ll = len(np.array(notemo_2020_sorted['preprop'])[i].split())\n",
    "    length.append(ll)"
   ]
  },
  {
   "cell_type": "code",
   "execution_count": 101,
   "metadata": {},
   "outputs": [],
   "source": [
    "notemo_2020_sorted['preprop_len'] = length"
   ]
  },
  {
   "cell_type": "code",
   "execution_count": 102,
   "metadata": {
    "scrolled": true
   },
   "outputs": [
    {
     "name": "stdout",
     "output_type": "stream",
     "text": [
      "270659\n",
      "226057\n",
      "172460\n",
      "102070\n"
     ]
    }
   ],
   "source": [
    "print(len(notemo_2020_sorted))\n",
    "print(len(notemo_2020_sorted.query('text != \"\"')))\n",
    "print(len(notemo_2020_sorted.query('preprop != \"\"')))\n",
    "print(len(notemo_2020_sorted.query('preprop_len > 3')))"
   ]
  },
  {
   "cell_type": "code",
   "execution_count": 103,
   "metadata": {},
   "outputs": [],
   "source": [
    "notemo_adeq = notemo_2020_sorted.query('preprop_len > 3')"
   ]
  },
  {
   "cell_type": "code",
   "execution_count": 109,
   "metadata": {
    "scrolled": true
   },
   "outputs": [
    {
     "data": {
      "text/plain": [
       "94829"
      ]
     },
     "execution_count": 109,
     "metadata": {},
     "output_type": "execute_result"
    }
   ],
   "source": [
    "len(notemo_adeq.drop_duplicates(subset=['text'], keep=False))"
   ]
  },
  {
   "cell_type": "code",
   "execution_count": 111,
   "metadata": {},
   "outputs": [],
   "source": [
    "notemo_adeq = notemo_adeq.drop_duplicates(subset=['text'], keep=False)"
   ]
  },
  {
   "cell_type": "code",
   "execution_count": 122,
   "metadata": {
    "scrolled": true
   },
   "outputs": [],
   "source": [
    "#notemo_adeq"
   ]
  },
  {
   "cell_type": "code",
   "execution_count": 120,
   "metadata": {},
   "outputs": [
    {
     "name": "stderr",
     "output_type": "stream",
     "text": [
      "/home/nicklake00/.local/lib/python3.6/site-packages/ipykernel_launcher.py:6: SettingWithCopyWarning: \n",
      "A value is trying to be set on a copy of a slice from a DataFrame.\n",
      "Try using .loc[row_indexer,col_indexer] = value instead\n",
      "\n",
      "See the caveats in the documentation: https://pandas.pydata.org/pandas-docs/stable/user_guide/indexing.html#returning-a-view-versus-a-copy\n",
      "  \n"
     ]
    }
   ],
   "source": [
    "time_cluster = []\n",
    "for i in range(len(notemo_adeq)):\n",
    "    time_cluster.append(i // (len(notemo_adeq) / 10) + 1)\n",
    "    \n",
    "#len(time_cluster)\n",
    "notemo_adeq['time_clust'] = time_cluster\n",
    "#notemo_adeq.drop(['time_cluster'])"
   ]
  },
  {
   "cell_type": "code",
   "execution_count": 124,
   "metadata": {},
   "outputs": [],
   "source": [
    "tfidf_vectorizer = TfidfVectorizer()\n",
    "\n",
    "from tqdm import tqdm"
   ]
  },
  {
   "cell_type": "code",
   "execution_count": 125,
   "metadata": {},
   "outputs": [],
   "source": [
    "def summarization_adeq(n):\n",
    "    tweet_2020_n = notemo_adeq.query('time_cluster == %d' % n)\n",
    "    tfidf_n = tfidf_vectorizer.fit_transform(np.array(tweet_2020_n['preprop']))\n",
    "    kmeans = KMeans(n_clusters=3).fit(tfidf_n)\n",
    "\n",
    "    print(\"End Kmeans\")\n",
    "    cluster_of_3 = []\n",
    "    for i in range(len(tweet_2020_n)):\n",
    "        cluster_of_3.append(kmeans.predict(tfidf_n.getrow(i))[0])\n",
    "\n",
    "    tweet_2020_n['cluster_3'] = np.array(cluster_of_3)\n",
    "\n",
    "    distances = []\n",
    "    for i in tqdm(range(len(tweet_2020_n))):\n",
    "        center = np.array(tweet_2020_n['cluster_3'])[i]\n",
    "        vec_sub = kmeans.cluster_centers_[center] - tfidf_n.todense()[i]\n",
    "        #if i % 500 == 0:\n",
    "         #   print(i)\n",
    "        vec_np = np.array(vec_sub)\n",
    "        vec_np_2 = vec_np ** 2\n",
    "        dist = vec_np_2.sum()\n",
    "        distances.append(dist)\n",
    "    \n",
    "    tweet_2020_n['distances'] = distances\n",
    "    print(\"End distances\")\n",
    "    \n",
    "    length = []\n",
    "    for i in range(len(tweet_2020_n['preprop'])):\n",
    "        ll = len(np.array(tweet_2020_n['preprop'])[i].split())\n",
    "        length.append(ll)\n",
    "\n",
    "    tweet_2020_n['preprop_len'] = length\n",
    "\n",
    "    return tweet_2020_n"
   ]
  },
  {
   "cell_type": "code",
   "execution_count": 126,
   "metadata": {},
   "outputs": [
    {
     "name": "stdout",
     "output_type": "stream",
     "text": [
      "End Kmeans\n"
     ]
    },
    {
     "name": "stderr",
     "output_type": "stream",
     "text": [
      "/home/nicklake00/.local/lib/python3.6/site-packages/ipykernel_launcher.py:11: SettingWithCopyWarning: \n",
      "A value is trying to be set on a copy of a slice from a DataFrame.\n",
      "Try using .loc[row_indexer,col_indexer] = value instead\n",
      "\n",
      "See the caveats in the documentation: https://pandas.pydata.org/pandas-docs/stable/user_guide/indexing.html#returning-a-view-versus-a-copy\n",
      "  # This is added back by InteractiveShellApp.init_path()\n",
      "100%|██████████| 9483/9483 [15:00<00:00, 10.53it/s]\n",
      "/home/nicklake00/.local/lib/python3.6/site-packages/ipykernel_launcher.py:24: SettingWithCopyWarning: \n",
      "A value is trying to be set on a copy of a slice from a DataFrame.\n",
      "Try using .loc[row_indexer,col_indexer] = value instead\n",
      "\n",
      "See the caveats in the documentation: https://pandas.pydata.org/pandas-docs/stable/user_guide/indexing.html#returning-a-view-versus-a-copy\n"
     ]
    },
    {
     "name": "stdout",
     "output_type": "stream",
     "text": [
      "End distances\n"
     ]
    },
    {
     "name": "stderr",
     "output_type": "stream",
     "text": [
      "/home/nicklake00/.local/lib/python3.6/site-packages/ipykernel_launcher.py:32: SettingWithCopyWarning: \n",
      "A value is trying to be set on a copy of a slice from a DataFrame.\n",
      "Try using .loc[row_indexer,col_indexer] = value instead\n",
      "\n",
      "See the caveats in the documentation: https://pandas.pydata.org/pandas-docs/stable/user_guide/indexing.html#returning-a-view-versus-a-copy\n"
     ]
    }
   ],
   "source": [
    "sent_2020_1 = summarization_adeq(1)"
   ]
  },
  {
   "cell_type": "code",
   "execution_count": 130,
   "metadata": {},
   "outputs": [],
   "source": [
    "sent_2020_1.to_csv('sent_2020_1.csv')"
   ]
  },
  {
   "cell_type": "code",
   "execution_count": 131,
   "metadata": {},
   "outputs": [
    {
     "name": "stdout",
     "output_type": "stream",
     "text": [
      "End Kmeans\n"
     ]
    },
    {
     "name": "stderr",
     "output_type": "stream",
     "text": [
      "/home/nicklake00/.local/lib/python3.6/site-packages/ipykernel_launcher.py:11: SettingWithCopyWarning: \n",
      "A value is trying to be set on a copy of a slice from a DataFrame.\n",
      "Try using .loc[row_indexer,col_indexer] = value instead\n",
      "\n",
      "See the caveats in the documentation: https://pandas.pydata.org/pandas-docs/stable/user_guide/indexing.html#returning-a-view-versus-a-copy\n",
      "  # This is added back by InteractiveShellApp.init_path()\n",
      "100%|██████████| 9483/9483 [14:35<00:00, 10.83it/s]\n",
      "/home/nicklake00/.local/lib/python3.6/site-packages/ipykernel_launcher.py:24: SettingWithCopyWarning: \n",
      "A value is trying to be set on a copy of a slice from a DataFrame.\n",
      "Try using .loc[row_indexer,col_indexer] = value instead\n",
      "\n",
      "See the caveats in the documentation: https://pandas.pydata.org/pandas-docs/stable/user_guide/indexing.html#returning-a-view-versus-a-copy\n"
     ]
    },
    {
     "name": "stdout",
     "output_type": "stream",
     "text": [
      "End distances\n"
     ]
    },
    {
     "name": "stderr",
     "output_type": "stream",
     "text": [
      "/home/nicklake00/.local/lib/python3.6/site-packages/ipykernel_launcher.py:32: SettingWithCopyWarning: \n",
      "A value is trying to be set on a copy of a slice from a DataFrame.\n",
      "Try using .loc[row_indexer,col_indexer] = value instead\n",
      "\n",
      "See the caveats in the documentation: https://pandas.pydata.org/pandas-docs/stable/user_guide/indexing.html#returning-a-view-versus-a-copy\n"
     ]
    }
   ],
   "source": [
    "sent_2020_2 = summarization_adeq(2)\n",
    "sent_2020_2.to_csv('sent_2020_2.csv')"
   ]
  },
  {
   "cell_type": "code",
   "execution_count": 132,
   "metadata": {},
   "outputs": [
    {
     "name": "stdout",
     "output_type": "stream",
     "text": [
      "End Kmeans\n"
     ]
    },
    {
     "name": "stderr",
     "output_type": "stream",
     "text": [
      "/home/nicklake00/.local/lib/python3.6/site-packages/ipykernel_launcher.py:11: SettingWithCopyWarning: \n",
      "A value is trying to be set on a copy of a slice from a DataFrame.\n",
      "Try using .loc[row_indexer,col_indexer] = value instead\n",
      "\n",
      "See the caveats in the documentation: https://pandas.pydata.org/pandas-docs/stable/user_guide/indexing.html#returning-a-view-versus-a-copy\n",
      "  # This is added back by InteractiveShellApp.init_path()\n",
      "100%|██████████| 9483/9483 [15:13<00:00, 10.38it/s]\n",
      "/home/nicklake00/.local/lib/python3.6/site-packages/ipykernel_launcher.py:24: SettingWithCopyWarning: \n",
      "A value is trying to be set on a copy of a slice from a DataFrame.\n",
      "Try using .loc[row_indexer,col_indexer] = value instead\n",
      "\n",
      "See the caveats in the documentation: https://pandas.pydata.org/pandas-docs/stable/user_guide/indexing.html#returning-a-view-versus-a-copy\n"
     ]
    },
    {
     "name": "stdout",
     "output_type": "stream",
     "text": [
      "End distances\n"
     ]
    },
    {
     "name": "stderr",
     "output_type": "stream",
     "text": [
      "/home/nicklake00/.local/lib/python3.6/site-packages/ipykernel_launcher.py:32: SettingWithCopyWarning: \n",
      "A value is trying to be set on a copy of a slice from a DataFrame.\n",
      "Try using .loc[row_indexer,col_indexer] = value instead\n",
      "\n",
      "See the caveats in the documentation: https://pandas.pydata.org/pandas-docs/stable/user_guide/indexing.html#returning-a-view-versus-a-copy\n"
     ]
    },
    {
     "name": "stdout",
     "output_type": "stream",
     "text": [
      "End Kmeans\n"
     ]
    },
    {
     "name": "stderr",
     "output_type": "stream",
     "text": [
      "/home/nicklake00/.local/lib/python3.6/site-packages/ipykernel_launcher.py:11: SettingWithCopyWarning: \n",
      "A value is trying to be set on a copy of a slice from a DataFrame.\n",
      "Try using .loc[row_indexer,col_indexer] = value instead\n",
      "\n",
      "See the caveats in the documentation: https://pandas.pydata.org/pandas-docs/stable/user_guide/indexing.html#returning-a-view-versus-a-copy\n",
      "  # This is added back by InteractiveShellApp.init_path()\n",
      "100%|██████████| 9483/9483 [14:48<00:00, 10.67it/s]\n",
      "/home/nicklake00/.local/lib/python3.6/site-packages/ipykernel_launcher.py:24: SettingWithCopyWarning: \n",
      "A value is trying to be set on a copy of a slice from a DataFrame.\n",
      "Try using .loc[row_indexer,col_indexer] = value instead\n",
      "\n",
      "See the caveats in the documentation: https://pandas.pydata.org/pandas-docs/stable/user_guide/indexing.html#returning-a-view-versus-a-copy\n"
     ]
    },
    {
     "name": "stdout",
     "output_type": "stream",
     "text": [
      "End distances\n"
     ]
    },
    {
     "name": "stderr",
     "output_type": "stream",
     "text": [
      "/home/nicklake00/.local/lib/python3.6/site-packages/ipykernel_launcher.py:32: SettingWithCopyWarning: \n",
      "A value is trying to be set on a copy of a slice from a DataFrame.\n",
      "Try using .loc[row_indexer,col_indexer] = value instead\n",
      "\n",
      "See the caveats in the documentation: https://pandas.pydata.org/pandas-docs/stable/user_guide/indexing.html#returning-a-view-versus-a-copy\n"
     ]
    },
    {
     "name": "stdout",
     "output_type": "stream",
     "text": [
      "End Kmeans\n"
     ]
    },
    {
     "name": "stderr",
     "output_type": "stream",
     "text": [
      "/home/nicklake00/.local/lib/python3.6/site-packages/ipykernel_launcher.py:11: SettingWithCopyWarning: \n",
      "A value is trying to be set on a copy of a slice from a DataFrame.\n",
      "Try using .loc[row_indexer,col_indexer] = value instead\n",
      "\n",
      "See the caveats in the documentation: https://pandas.pydata.org/pandas-docs/stable/user_guide/indexing.html#returning-a-view-versus-a-copy\n",
      "  # This is added back by InteractiveShellApp.init_path()\n",
      "100%|██████████| 9483/9483 [15:24<00:00, 10.26it/s]\n",
      "/home/nicklake00/.local/lib/python3.6/site-packages/ipykernel_launcher.py:24: SettingWithCopyWarning: \n",
      "A value is trying to be set on a copy of a slice from a DataFrame.\n",
      "Try using .loc[row_indexer,col_indexer] = value instead\n",
      "\n",
      "See the caveats in the documentation: https://pandas.pydata.org/pandas-docs/stable/user_guide/indexing.html#returning-a-view-versus-a-copy\n"
     ]
    },
    {
     "name": "stdout",
     "output_type": "stream",
     "text": [
      "End distances\n"
     ]
    },
    {
     "name": "stderr",
     "output_type": "stream",
     "text": [
      "/home/nicklake00/.local/lib/python3.6/site-packages/ipykernel_launcher.py:32: SettingWithCopyWarning: \n",
      "A value is trying to be set on a copy of a slice from a DataFrame.\n",
      "Try using .loc[row_indexer,col_indexer] = value instead\n",
      "\n",
      "See the caveats in the documentation: https://pandas.pydata.org/pandas-docs/stable/user_guide/indexing.html#returning-a-view-versus-a-copy\n"
     ]
    },
    {
     "name": "stdout",
     "output_type": "stream",
     "text": [
      "End Kmeans\n"
     ]
    },
    {
     "name": "stderr",
     "output_type": "stream",
     "text": [
      "/home/nicklake00/.local/lib/python3.6/site-packages/ipykernel_launcher.py:11: SettingWithCopyWarning: \n",
      "A value is trying to be set on a copy of a slice from a DataFrame.\n",
      "Try using .loc[row_indexer,col_indexer] = value instead\n",
      "\n",
      "See the caveats in the documentation: https://pandas.pydata.org/pandas-docs/stable/user_guide/indexing.html#returning-a-view-versus-a-copy\n",
      "  # This is added back by InteractiveShellApp.init_path()\n",
      "100%|██████████| 9483/9483 [15:21<00:00, 10.29it/s]\n",
      "/home/nicklake00/.local/lib/python3.6/site-packages/ipykernel_launcher.py:24: SettingWithCopyWarning: \n",
      "A value is trying to be set on a copy of a slice from a DataFrame.\n",
      "Try using .loc[row_indexer,col_indexer] = value instead\n",
      "\n",
      "See the caveats in the documentation: https://pandas.pydata.org/pandas-docs/stable/user_guide/indexing.html#returning-a-view-versus-a-copy\n"
     ]
    },
    {
     "name": "stdout",
     "output_type": "stream",
     "text": [
      "End distances\n"
     ]
    },
    {
     "name": "stderr",
     "output_type": "stream",
     "text": [
      "/home/nicklake00/.local/lib/python3.6/site-packages/ipykernel_launcher.py:32: SettingWithCopyWarning: \n",
      "A value is trying to be set on a copy of a slice from a DataFrame.\n",
      "Try using .loc[row_indexer,col_indexer] = value instead\n",
      "\n",
      "See the caveats in the documentation: https://pandas.pydata.org/pandas-docs/stable/user_guide/indexing.html#returning-a-view-versus-a-copy\n"
     ]
    },
    {
     "name": "stdout",
     "output_type": "stream",
     "text": [
      "End Kmeans\n"
     ]
    },
    {
     "name": "stderr",
     "output_type": "stream",
     "text": [
      "/home/nicklake00/.local/lib/python3.6/site-packages/ipykernel_launcher.py:11: SettingWithCopyWarning: \n",
      "A value is trying to be set on a copy of a slice from a DataFrame.\n",
      "Try using .loc[row_indexer,col_indexer] = value instead\n",
      "\n",
      "See the caveats in the documentation: https://pandas.pydata.org/pandas-docs/stable/user_guide/indexing.html#returning-a-view-versus-a-copy\n",
      "  # This is added back by InteractiveShellApp.init_path()\n",
      "100%|██████████| 9483/9483 [15:24<00:00, 10.26it/s]\n",
      "/home/nicklake00/.local/lib/python3.6/site-packages/ipykernel_launcher.py:24: SettingWithCopyWarning: \n",
      "A value is trying to be set on a copy of a slice from a DataFrame.\n",
      "Try using .loc[row_indexer,col_indexer] = value instead\n",
      "\n",
      "See the caveats in the documentation: https://pandas.pydata.org/pandas-docs/stable/user_guide/indexing.html#returning-a-view-versus-a-copy\n"
     ]
    },
    {
     "name": "stdout",
     "output_type": "stream",
     "text": [
      "End distances\n"
     ]
    },
    {
     "name": "stderr",
     "output_type": "stream",
     "text": [
      "/home/nicklake00/.local/lib/python3.6/site-packages/ipykernel_launcher.py:32: SettingWithCopyWarning: \n",
      "A value is trying to be set on a copy of a slice from a DataFrame.\n",
      "Try using .loc[row_indexer,col_indexer] = value instead\n",
      "\n",
      "See the caveats in the documentation: https://pandas.pydata.org/pandas-docs/stable/user_guide/indexing.html#returning-a-view-versus-a-copy\n"
     ]
    },
    {
     "name": "stdout",
     "output_type": "stream",
     "text": [
      "End Kmeans\n"
     ]
    },
    {
     "name": "stderr",
     "output_type": "stream",
     "text": [
      "/home/nicklake00/.local/lib/python3.6/site-packages/ipykernel_launcher.py:11: SettingWithCopyWarning: \n",
      "A value is trying to be set on a copy of a slice from a DataFrame.\n",
      "Try using .loc[row_indexer,col_indexer] = value instead\n",
      "\n",
      "See the caveats in the documentation: https://pandas.pydata.org/pandas-docs/stable/user_guide/indexing.html#returning-a-view-versus-a-copy\n",
      "  # This is added back by InteractiveShellApp.init_path()\n",
      "100%|██████████| 9483/9483 [15:47<00:00, 10.01it/s]\n",
      "/home/nicklake00/.local/lib/python3.6/site-packages/ipykernel_launcher.py:24: SettingWithCopyWarning: \n",
      "A value is trying to be set on a copy of a slice from a DataFrame.\n",
      "Try using .loc[row_indexer,col_indexer] = value instead\n",
      "\n",
      "See the caveats in the documentation: https://pandas.pydata.org/pandas-docs/stable/user_guide/indexing.html#returning-a-view-versus-a-copy\n"
     ]
    },
    {
     "name": "stdout",
     "output_type": "stream",
     "text": [
      "End distances\n"
     ]
    },
    {
     "name": "stderr",
     "output_type": "stream",
     "text": [
      "/home/nicklake00/.local/lib/python3.6/site-packages/ipykernel_launcher.py:32: SettingWithCopyWarning: \n",
      "A value is trying to be set on a copy of a slice from a DataFrame.\n",
      "Try using .loc[row_indexer,col_indexer] = value instead\n",
      "\n",
      "See the caveats in the documentation: https://pandas.pydata.org/pandas-docs/stable/user_guide/indexing.html#returning-a-view-versus-a-copy\n"
     ]
    },
    {
     "name": "stdout",
     "output_type": "stream",
     "text": [
      "End Kmeans\n"
     ]
    },
    {
     "name": "stderr",
     "output_type": "stream",
     "text": [
      "/home/nicklake00/.local/lib/python3.6/site-packages/ipykernel_launcher.py:11: SettingWithCopyWarning: \n",
      "A value is trying to be set on a copy of a slice from a DataFrame.\n",
      "Try using .loc[row_indexer,col_indexer] = value instead\n",
      "\n",
      "See the caveats in the documentation: https://pandas.pydata.org/pandas-docs/stable/user_guide/indexing.html#returning-a-view-versus-a-copy\n",
      "  # This is added back by InteractiveShellApp.init_path()\n",
      "100%|██████████| 9483/9483 [15:36<00:00, 10.13it/s]\n",
      "/home/nicklake00/.local/lib/python3.6/site-packages/ipykernel_launcher.py:24: SettingWithCopyWarning: \n",
      "A value is trying to be set on a copy of a slice from a DataFrame.\n",
      "Try using .loc[row_indexer,col_indexer] = value instead\n",
      "\n",
      "See the caveats in the documentation: https://pandas.pydata.org/pandas-docs/stable/user_guide/indexing.html#returning-a-view-versus-a-copy\n"
     ]
    },
    {
     "name": "stdout",
     "output_type": "stream",
     "text": [
      "End distances\n"
     ]
    },
    {
     "name": "stderr",
     "output_type": "stream",
     "text": [
      "/home/nicklake00/.local/lib/python3.6/site-packages/ipykernel_launcher.py:32: SettingWithCopyWarning: \n",
      "A value is trying to be set on a copy of a slice from a DataFrame.\n",
      "Try using .loc[row_indexer,col_indexer] = value instead\n",
      "\n",
      "See the caveats in the documentation: https://pandas.pydata.org/pandas-docs/stable/user_guide/indexing.html#returning-a-view-versus-a-copy\n"
     ]
    },
    {
     "name": "stdout",
     "output_type": "stream",
     "text": [
      "End Kmeans\n"
     ]
    },
    {
     "name": "stderr",
     "output_type": "stream",
     "text": [
      "/home/nicklake00/.local/lib/python3.6/site-packages/ipykernel_launcher.py:11: SettingWithCopyWarning: \n",
      "A value is trying to be set on a copy of a slice from a DataFrame.\n",
      "Try using .loc[row_indexer,col_indexer] = value instead\n",
      "\n",
      "See the caveats in the documentation: https://pandas.pydata.org/pandas-docs/stable/user_guide/indexing.html#returning-a-view-versus-a-copy\n",
      "  # This is added back by InteractiveShellApp.init_path()\n",
      "100%|██████████| 9482/9482 [15:30<00:00, 10.19it/s]\n",
      "/home/nicklake00/.local/lib/python3.6/site-packages/ipykernel_launcher.py:24: SettingWithCopyWarning: \n",
      "A value is trying to be set on a copy of a slice from a DataFrame.\n",
      "Try using .loc[row_indexer,col_indexer] = value instead\n",
      "\n",
      "See the caveats in the documentation: https://pandas.pydata.org/pandas-docs/stable/user_guide/indexing.html#returning-a-view-versus-a-copy\n"
     ]
    },
    {
     "name": "stdout",
     "output_type": "stream",
     "text": [
      "End distances\n"
     ]
    },
    {
     "name": "stderr",
     "output_type": "stream",
     "text": [
      "/home/nicklake00/.local/lib/python3.6/site-packages/ipykernel_launcher.py:32: SettingWithCopyWarning: \n",
      "A value is trying to be set on a copy of a slice from a DataFrame.\n",
      "Try using .loc[row_indexer,col_indexer] = value instead\n",
      "\n",
      "See the caveats in the documentation: https://pandas.pydata.org/pandas-docs/stable/user_guide/indexing.html#returning-a-view-versus-a-copy\n"
     ]
    }
   ],
   "source": [
    "sent_2020_4 = summarization_adeq(4)\n",
    "sent_2020_4.to_csv('sent_2020_4.csv')\n",
    "\n",
    "sent_2020_3 = summarization_adeq(3)\n",
    "sent_2020_3.to_csv('sent_2020_3.csv')\n",
    "\n",
    "sent_2020_5 = summarization_adeq(5)\n",
    "sent_2020_5.to_csv('sent_2020_5.csv')\n",
    "\n",
    "sent_2020_6 = summarization_adeq(6)\n",
    "sent_2020_6.to_csv('sent_2020_6.csv')\n",
    "\n",
    "sent_2020_7 = summarization_adeq(7)\n",
    "sent_2020_7.to_csv('sent_2020_7.csv')\n",
    "\n",
    "sent_2020_8 = summarization_adeq(8)\n",
    "sent_2020_8.to_csv('sent_2020_8.csv')\n",
    "\n",
    "sent_2020_9 = summarization_adeq(9)\n",
    "sent_2020_9.to_csv('sent_2020_9.csv')\n",
    "\n",
    "sent_2020_10 = summarization_adeq(10)\n",
    "sent_2020_10.to_csv('sent_2020_10.csv')"
   ]
  },
  {
   "cell_type": "code",
   "execution_count": null,
   "metadata": {},
   "outputs": [],
   "source": []
  },
  {
   "cell_type": "markdown",
   "metadata": {},
   "source": [
    "## Probability method"
   ]
  },
  {
   "cell_type": "code",
   "execution_count": 3,
   "metadata": {},
   "outputs": [],
   "source": [
    "sent_2020_1 = pd.read_csv('sent_2020_1.csv')\n",
    "sent_2020_2 = pd.read_csv('sent_2020_2.csv')\n",
    "sent_2020_3 = pd.read_csv('sent_2020_3.csv')\n",
    "sent_2020_4 = pd.read_csv('sent_2020_4.csv')\n",
    "sent_2020_5 = pd.read_csv('sent_2020_5.csv')\n",
    "sent_2020_6 = pd.read_csv('sent_2020_6.csv')\n",
    "sent_2020_7 = pd.read_csv('sent_2020_7.csv')\n",
    "sent_2020_8 = pd.read_csv('sent_2020_8.csv')\n",
    "sent_2020_9 = pd.read_csv('sent_2020_9.csv')\n",
    "sent_2020_10 = pd.read_csv('sent_2020_10.csv')"
   ]
  },
  {
   "cell_type": "code",
   "execution_count": 5,
   "metadata": {},
   "outputs": [],
   "source": [
    "def freq_sum(table, n):\n",
    "    sent_2020 = table\n",
    "    sent_2020 = sent_2020.query('cluster_3 == %d' % n)\n",
    "    _ = list(sent_2020['preprop'])\n",
    "\n",
    "    all_freq = Counter()\n",
    "    all_nums = 0\n",
    "\n",
    "    for i in range(len(_)):\n",
    "        freq_dict = Counter(_[i].split())\n",
    "        all_freq += freq_dict\n",
    "        all_nums += len(freq_dict)\n",
    "\n",
    "    p_ = []\n",
    "    for i in range(len(_)):\n",
    "        probab = 0\n",
    "        sp = _[i].split()\n",
    "        for j in range(len(sp)):\n",
    "            probab = np.log(all_freq[sp[j]] / len(sp))\n",
    "\n",
    "        p_.append(probab)\n",
    "\n",
    "    sent_2020['probab_sent'] = p_\n",
    "    return sent_2020"
   ]
  },
  {
   "cell_type": "code",
   "execution_count": 6,
   "metadata": {},
   "outputs": [
    {
     "name": "stdout",
     "output_type": "stream",
     "text": [
      "\n",
      " sent_2020_1_0\n"
     ]
    },
    {
     "name": "stderr",
     "output_type": "stream",
     "text": [
      "/home/nicklake00/.local/lib/python3.6/site-packages/ipykernel_launcher.py:23: SettingWithCopyWarning: \n",
      "A value is trying to be set on a copy of a slice from a DataFrame.\n",
      "Try using .loc[row_indexer,col_indexer] = value instead\n",
      "\n",
      "See the caveats in the documentation: https://pandas.pydata.org/pandas-docs/stable/user_guide/indexing.html#returning-a-view-versus-a-copy\n"
     ]
    },
    {
     "name": "stdout",
     "output_type": "stream",
     "text": [
      "My Heart weeps for the Australian people\n",
      "2020-01-04T04:26:04\n",
      " Just fucking stop touching people\n",
      "2020-01-04T02:43:42\n",
      " Scomo won’t even listen to the people\n",
      "2020-01-03T01:33:33\n",
      "Good sense from great people\n",
      "2020-01-03T02:43:20\n",
      " just called those poor terrified people at  \n",
      "2020-01-03T23:13:19\n",
      "  They have been negligent in their duties to the Australian people\n",
      "2020-01-03T21:47:02\n",
      "\n",
      " sent_2020_1_1\n",
      "Over  200 arsonists caught lighting fires in Australia\n",
      "2020-01-04T01:07:39\n",
      " Two people have died in the  fires\n",
      "2020-01-04T00:29:32\n",
      " Many parts of Australia are currently on Fire\n",
      "2020-01-03T06:30:40\n",
      "24 Million acres2019-20 Australian Fires: 12\n",
      "2020-01-03T06:34:08\n",
      "Has there been a  established for the people affected by the fires in Australia\n",
      "2020-01-03T16:24:32\n",
      "Humanity , Which not burned in Australian Fire \n",
      "2020-01-03T16:23:21\n",
      "\n",
      " sent_2020_1_2\n",
      "My heart’s being ripped apart for Australia’s animals\n",
      "2020-01-03T12:51:56\n",
      " I know you’re a brand who loves animals\n",
      "2020-01-03T22:57:30\n",
      " Nature vs Humans, Animals      \n",
      "2020-01-04T04:34:22\n",
      "We have lost over 500 million native animals\n",
      "2020-01-03T19:42:57\n",
      " more than three months, more than 480 million animals \n",
      "2020-01-03T04:49:17\n",
      " We have lost half a BILLION animals\n",
      "2020-01-03T23:05:11\n",
      "\n",
      " sent_2020_2_0\n",
      " Blessings and protection for the people and animals\n",
      "2020-01-05T01:03:43\n",
      " I mean come on, don't be shitty to the animals\n",
      "2020-01-04T16:37:13\n",
      "  Sad situation for all those people and animals\n",
      "2020-01-05T01:20:31\n",
      "I'm glad someone called out these animals\n",
      "2020-01-04T11:42:50\n",
      " Plz don't punish the poor animals\n",
      "2020-01-04T11:12:50\n",
      " I can only imagine how horrifying it is for those people and animals\n",
      "2020-01-05T02:27:38\n",
      "\n",
      " sent_2020_2_1\n",
      "Gotta do more to stop the fires \n",
      "2020-01-04T23:27:57\n",
      " After almost three months of fires\n",
      "2020-01-04T12:07:47\n",
      "video: Australia Braces for Worsening Fires  \n",
      "2020-01-04T09:21:26\n",
      " Soliciting donations for the LIBERALS off the fires\n",
      "2020-01-04T07:57:08\n",
      "I’m seriously confused as to why  is being blamed for the fires\n",
      "2020-01-04T09:59:59\n",
      "Google Centralia Mine fire\n",
      "2020-01-04T10:44:34\n",
      "\n",
      " sent_2020_2_2\n",
      "Let’s do some more good In the world, my  and  people\n",
      "2020-01-04T16:24:02\n",
      "WAKE UP AUSTRALIAWAKE UP WORLDWe The People\n",
      "2020-01-04T07:27:39\n",
      " Is money more important than the lives of your people\n",
      "2020-01-04T16:50:31\n",
      "My heart honestly breaks for these people\n",
      "2020-01-04T13:16:31\n",
      " Each and every opportunity you have let your people down\n",
      "2020-01-04T20:40:23\n",
      " Share this to widely inform the people\n",
      "2020-01-05T00:07:45\n",
      "\n",
      " sent_2020_3_0\n",
      " A lot of which we got from our indigenous people\n",
      "2020-01-05T02:51:16\n",
      "He really must have no respect for the  people\n",
      "2020-01-05T07:10:38\n",
      "  terrible moments for Australian people  …\n",
      "2020-01-05T19:17:12\n",
      " Love the country, love the people\n",
      "2020-01-05T08:06:16\n",
      "Would we care more if these were the corpses of people\n",
      "2020-01-06T01:53:08\n",
      "such an amazing country with the kindest people\n",
      "2020-01-05T19:47:35\n",
      "\n",
      " sent_2020_3_1\n",
      "Half a billion dead animals\n",
      "2020-01-05T18:12:48\n",
      " I know how much you care about animals\n",
      "2020-01-05T23:45:08\n",
      " My heart goes out to each person and animal out there\n",
      "2020-01-05T13:18:46\n",
      "kill the irresponsible people not the animals \n",
      "2020-01-05T03:49:26\n",
      " I can’t stop thinking about those poor animals\n",
      "2020-01-05T15:42:54\n",
      " We should care about the WHOLE PLANET and ALL ANIMALS  \n",
      "2020-01-05T11:51:13\n",
      "\n",
      " sent_2020_3_2\n",
      " Turn your attention away from the fires\n",
      "2020-01-05T05:50:07\n",
      " Over 6 hours drive away from where fires are now\n",
      "2020-01-05T11:22:22\n",
      "YALL I HEARD ITS RAINING IN AUSTRALIA  Fires\n",
      "2020-01-05T03:21:31\n",
      " hoping you,  and allOf Australia are safe in these fires\n",
      "2020-01-05T12:44:14\n",
      "〘 No words 〙_____________________________________________________________  fires         … …\n",
      "2020-01-05T21:35:15\n",
      " The red hue is the bush fires\n",
      "2020-01-05T04:32:10\n",
      "\n",
      " sent_2020_4_0\n",
      "  Some reliefs get on Australian fire\n",
      "2020-01-06T19:50:32\n",
      " A devil face formed in the fire\n",
      "2020-01-07T04:51:40\n",
      " Poor leadership, caused this fire\n",
      "2020-01-06T15:27:38\n",
      " 's not raining enough to put out the fires\n",
      "2020-01-07T02:05:00\n",
      "I totally feel for Australia’s problems with the fires\n",
      "2020-01-07T08:45:27\n",
      "      There goes your “Climate Is The Cause” for the fires in Australia   …\n",
      "2020-01-07T11:10:36\n",
      "\n",
      " sent_2020_4_1\n",
      "turk people are with Australian people\n",
      "2020-01-06T14:18:34\n",
      " speech by  on behalf of  There are some super people\n",
      "2020-01-06T17:24:56\n",
      " See the bigger picture people\n",
      "2020-01-06T15:31:30\n",
      "Better you ask who paid those people and why did they do it\n",
      "2020-01-07T06:52:00\n",
      "to Australian nation from all iraqi people, \n",
      "2020-01-07T11:06:21\n",
      " Where are the stories featuring Indigenous people\n",
      "2020-01-07T04:21:46\n",
      "\n",
      " sent_2020_4_2\n",
      " This is a day for talking about protecting animals in Australia\n",
      "2020-01-06T03:19:04\n",
      " Poor people, and those poor animals\n",
      "2020-01-06T18:41:02\n",
      "I’m completely heartbroken but I’m fighting for the animals \n",
      "2020-01-07T00:44:28\n",
      "We have lost half a billion animals\n",
      "2020-01-06T05:14:13\n",
      " Poor people, poor animals\n",
      "2020-01-06T18:06:25\n",
      "He should be burned alive in  instead of the animals\n",
      "2020-01-06T15:09:41\n",
      "\n",
      " sent_2020_5_0\n",
      " A fucking twister made out of fire\n",
      "2020-01-07T18:51:22\n",
      "Want me an Australian girl so that  will be fire \n",
      "2020-01-07T22:08:59\n",
      "Diversity in Oz is starting fires  …\n",
      "2020-01-08T18:46:16\n",
      "The TRUTH about the Australian bush fires\n",
      "2020-01-07T18:12:50\n",
      "I was reading an article about the Australian fires and just\n",
      "2020-01-08T01:04:54\n",
      " (VIDEO)  Fires Burning Fires\n",
      "2020-01-08T02:31:08\n",
      "\n",
      " sent_2020_5_1\n",
      " until you realise the damage this stuff can do to people\n",
      "2020-01-09T03:25:18\n",
      " Send to Africa for hungry people\n",
      "2020-01-07T19:00:53\n",
      " Some of those fires have literally killed people\n",
      "2020-01-09T01:45:59\n",
      "Tragedy can bring out the best in people   …\n",
      "2020-01-08T13:03:25\n",
      "Has anyone heard how the aboriginal people of Australia are doing\n",
      "2020-01-08T22:52:45\n",
      "Just the universe missing it’s original people   :/…\n",
      "2020-01-07T21:32:09\n",
      "\n",
      " sent_2020_5_2\n",
      "  thinking’s of you guys and all those  poor animals\n",
      "2020-01-08T14:34:55\n",
      "Australia already lost TONS of animals\n",
      "2020-01-07T18:09:20\n",
      " My heart bleeds if these innocent animals\n",
      "2020-01-09T00:27:03\n",
      "Allah save Australia and australian animals     \n",
      "2020-01-08T08:14:33\n",
      " 480,000 plus loss animals\n",
      "2020-01-08T18:39:35\n",
      " They’re generally very social, peaceful animals\n",
      "2020-01-08T14:53:06\n"
     ]
    }
   ],
   "source": [
    "print('\\n', 'sent_2020_1_0')\n",
    "sent_2020_1_0 = freq_sum(sent_2020_1, 0)\n",
    "for i in range(6):\n",
    "    print(list(sent_2020_1_0.sort_values(by = 'probab_sent', ascending = False)['text'])[i])\n",
    "    print(list(sent_2020_1_0.sort_values(by = 'probab_sent', ascending = False)['timestamp'])[i])\n",
    "\n",
    "print('\\n', 'sent_2020_1_1')\n",
    "sent_2020_1_1 = freq_sum(sent_2020_1, 1)\n",
    "for i in range(6):\n",
    "    print(list(sent_2020_1_1.sort_values(by = 'probab_sent', ascending = False)['text'])[i])\n",
    "    print(list(sent_2020_1_1.sort_values(by = 'probab_sent', ascending = False)['timestamp'])[i])\n",
    "print('\\n', 'sent_2020_1_2')\n",
    "sent_2020_1_2 = freq_sum(sent_2020_1, 2)\n",
    "for i in range(6):\n",
    "    print(list(sent_2020_1_2.sort_values(by = 'probab_sent', ascending = False)['text'])[i])\n",
    "    print(list(sent_2020_1_2.sort_values(by = 'probab_sent', ascending = False)['timestamp'])[i])\n",
    "\n",
    "print('\\n', 'sent_2020_2_0')\n",
    "sent_2020_2_0 = freq_sum(sent_2020_2, 0)\n",
    "for i in range(6):\n",
    "    print(list(sent_2020_2_0.sort_values(by = 'probab_sent', ascending = False)['text'])[i])\n",
    "    print(list(sent_2020_2_0.sort_values(by = 'probab_sent', ascending = False)['timestamp'])[i])\n",
    "\n",
    "print('\\n', 'sent_2020_2_1')\n",
    "sent_2020_2_1 = freq_sum(sent_2020_2, 1)\n",
    "for i in range(6):\n",
    "    print(list(sent_2020_2_1.sort_values(by = 'probab_sent', ascending = False)['text'])[i])\n",
    "    print(list(sent_2020_2_1.sort_values(by = 'probab_sent', ascending = False)['timestamp'])[i])\n",
    "\n",
    "print('\\n', 'sent_2020_2_2')\n",
    "sent_2020_2_2 = freq_sum(sent_2020_2, 2)\n",
    "for i in range(6):\n",
    "    print(list(sent_2020_2_2.sort_values(by = 'probab_sent', ascending = False)['text'])[i])\n",
    "    print(list(sent_2020_2_2.sort_values(by = 'probab_sent', ascending = False)['timestamp'])[i])\n",
    "    \n",
    "print('\\n', 'sent_2020_3_0')\n",
    "sent_2020_3_0 = freq_sum(sent_2020_3, 0)\n",
    "for i in range(6):\n",
    "    print(list(sent_2020_3_0.sort_values(by = 'probab_sent', ascending = False)['text'])[i])\n",
    "    print(list(sent_2020_3_0.sort_values(by = 'probab_sent', ascending = False)['timestamp'])[i])\n",
    "\n",
    "print('\\n', 'sent_2020_3_1')\n",
    "sent_2020_3_1 = freq_sum(sent_2020_3, 1)\n",
    "for i in range(6):\n",
    "    print(list(sent_2020_3_1.sort_values(by = 'probab_sent', ascending = False)['text'])[i])\n",
    "    print(list(sent_2020_3_1.sort_values(by = 'probab_sent', ascending = False)['timestamp'])[i])\n",
    "\n",
    "print('\\n', 'sent_2020_3_2')\n",
    "sent_2020_3_2 = freq_sum(sent_2020_3, 2)\n",
    "for i in range(6):\n",
    "    print(list(sent_2020_3_2.sort_values(by = 'probab_sent', ascending = False)['text'])[i])\n",
    "    print(list(sent_2020_3_2.sort_values(by = 'probab_sent', ascending = False)['timestamp'])[i])\n",
    "\n",
    "print('\\n', 'sent_2020_4_0')\n",
    "sent_2020_4_0 = freq_sum(sent_2020_4, 0)\n",
    "for i in range(6):\n",
    "    print(list(sent_2020_4_0.sort_values(by = 'probab_sent', ascending = False)['text'])[i])\n",
    "    print(list(sent_2020_4_0.sort_values(by = 'probab_sent', ascending = False)['timestamp'])[i])\n",
    "\n",
    "print('\\n', 'sent_2020_4_1')\n",
    "sent_2020_4_1 = freq_sum(sent_2020_4, 1)\n",
    "for i in range(6):\n",
    "    print(list(sent_2020_4_1.sort_values(by = 'probab_sent', ascending = False)['text'])[i])\n",
    "    print(list(sent_2020_4_1.sort_values(by = 'probab_sent', ascending = False)['timestamp'])[i])\n",
    "    \n",
    "print('\\n', 'sent_2020_4_2')\n",
    "sent_2020_4_2 = freq_sum(sent_2020_4, 2)\n",
    "for i in range(6):\n",
    "    print(list(sent_2020_4_2.sort_values(by = 'probab_sent', ascending = False)['text'])[i])\n",
    "    print(list(sent_2020_4_2.sort_values(by = 'probab_sent', ascending = False)['timestamp'])[i])\n",
    "    \n",
    "print('\\n', 'sent_2020_5_0')\n",
    "sent_2020_5_0 = freq_sum(sent_2020_5, 0)\n",
    "for i in range(6):\n",
    "    print(list(sent_2020_5_0.sort_values(by = 'probab_sent', ascending = False)['text'])[i])\n",
    "    print(list(sent_2020_5_0.sort_values(by = 'probab_sent', ascending = False)['timestamp'])[i])\n",
    "\n",
    "print('\\n', 'sent_2020_5_1')\n",
    "sent_2020_5_1 = freq_sum(sent_2020_5, 1)\n",
    "for i in range(6):\n",
    "    print(list(sent_2020_5_1.sort_values(by = 'probab_sent', ascending = False)['text'])[i])\n",
    "    print(list(sent_2020_5_1.sort_values(by = 'probab_sent', ascending = False)['timestamp'])[i])\n",
    "    \n",
    "print('\\n', 'sent_2020_5_2')\n",
    "sent_2020_5_2 = freq_sum(sent_2020_5, 2)\n",
    "for i in range(6):\n",
    "    print(list(sent_2020_5_2.sort_values(by = 'probab_sent', ascending = False)['text'])[i])\n",
    "    print(list(sent_2020_5_2.sort_values(by = 'probab_sent', ascending = False)['timestamp'])[i])\n"
   ]
  },
  {
   "cell_type": "code",
   "execution_count": 7,
   "metadata": {},
   "outputs": [
    {
     "name": "stdout",
     "output_type": "stream",
     "text": [
      "\n",
      " sent_2020_6_0\n"
     ]
    },
    {
     "name": "stderr",
     "output_type": "stream",
     "text": [
      "/home/nicklake00/.local/lib/python3.6/site-packages/ipykernel_launcher.py:23: SettingWithCopyWarning: \n",
      "A value is trying to be set on a copy of a slice from a DataFrame.\n",
      "Try using .loc[row_indexer,col_indexer] = value instead\n",
      "\n",
      "See the caveats in the documentation: https://pandas.pydata.org/pandas-docs/stable/user_guide/indexing.html#returning-a-view-versus-a-copy\n"
     ]
    },
    {
     "name": "stdout",
     "output_type": "stream",
     "text": [
      "The world is speaking out for Australian people\n",
      "2020-01-10T08:05:24\n",
      "My heart is filled with sorrow for the people of Australia\n",
      "2020-01-09T17:42:34\n",
      " Our hearts go out to the brave people of Australia\n",
      "2020-01-09T14:45:29\n",
      " He's destroyed what we had, so now he has to suffer the wrath of the people\n",
      "2020-01-10T06:32:14\n",
      "this is a time for paying attention people\n",
      "2020-01-09T22:47:28\n",
      " It’s scary how little shame these people have\n",
      "2020-01-09T18:33:08\n",
      "\n",
      " sent_2020_6_1\n",
      " We are not in the immediate area of bush fires\n",
      "2020-01-09T13:56:27\n",
      "\"Arson is not the reason for the catastrophic fires in Australia\n",
      "2020-01-10T13:09:45\n",
      " Envision rains putting out all fires\n",
      "2020-01-09T11:11:51\n",
      " hope it continues over at least some fires   \n",
      "2020-01-10T00:31:59\n",
      " Now, 12 yrs later, worse fires\n",
      "2020-01-10T11:45:05\n",
      "This is not to going to fix your problem  Fires …\n",
      "2020-01-10T01:05:43\n",
      "\n",
      " sent_2020_6_2\n",
      "Human lives are as precious as Animals \n",
      "2020-01-09T17:19:54\n",
      "We need a second mobilisation for the animals\n",
      "2020-01-09T23:07:36\n",
      "This world isn't for humans alone its for animals too\n",
      "2020-01-10T02:06:59\n",
      " Koalas are 1 of my top favorite animals too\n",
      "2020-01-10T01:32:49\n",
      " I‘m not a man of  but a man of  - I  for these animals and for \n",
      "2020-01-09T20:11:08\n",
      "How do you mourn a billion dead animals\n",
      "2020-01-09T21:20:59\n",
      "\n",
      " sent_2020_7_0\n",
      " Animates World Path of  and  from Australian \n",
      "2020-01-12T21:01:34\n",
      "How stupid and forgetful do you think Australians are\n",
      "2020-01-11T02:38:33\n",
      "  Ouran Hud /64 \"And O my people\n",
      "2020-01-12T22:24:41\n",
      "Heh  and the  govt,  What are you doing to support the people of  \n",
      "2020-01-10T21:36:21\n",
      " The protest attracts over 30,000 people\n",
      "2020-01-13T05:20:26\n",
      "For dayyyyys Wondering where all of the aborigine people are in Australia\n",
      "2020-01-12T22:59:10\n",
      "\n",
      " sent_2020_7_1\n",
      "The  have killed half a BILLION animals\n",
      "2020-01-12T21:03:32\n",
      " God be you and your country's beautiful animals\n",
      "2020-01-10T22:32:56\n",
      "    We have only  There is no plan(et) BLove animals\n",
      "2020-01-12T23:20:07\n",
      "Humans can learn A LOT from Animals\n",
      "2020-01-12T23:15:16\n",
      " They are selflessly making things for animals\n",
      "2020-01-11T18:48:23\n",
      " I have two FB pages for animals\n",
      "2020-01-11T04:51:00\n",
      "\n",
      " sent_2020_7_2\n",
      "A visual guide to the Australian fires   …\n",
      "2020-01-12T23:09:46\n",
      "For the 200ish arrests who caused the fires in \n",
      "2020-01-12T00:40:02\n",
      "So if God controls all then be started the fires\n",
      "2020-01-10T22:07:40\n",
      "For Australian huge bush fires\n",
      "2020-01-12T23:36:17\n",
      " He's raising money for the Australian fires\n",
      "2020-01-12T23:31:23\n",
      "Check out this studio from 2008 about AUS fires\n",
      "2020-01-10T20:26:36\n",
      "\n",
      " sent_2020_8_0\n",
      "A Hindu center burns down in Australian     …\n",
      "2020-01-17T00:15:27\n",
      " Politicians are taking the PISS out of Australians\n",
      "2020-01-16T10:07:42\n",
      " Amazing work by this talented (Australian\n",
      "2020-01-14T21:08:09\n",
      "  Bless these dedicated   in batteling Bushfires …\n",
      "2020-01-14T12:56:36\n",
      "Hopefully the showers put the bushfires down\n",
      "2020-01-15T22:17:39\n",
      "Our hearts go out to all those that have been affected by the bushfires\n",
      "2020-01-14T22:20:08\n",
      "\n",
      " sent_2020_8_1\n",
      " all proceeds are going to fighting the fires\n",
      "2020-01-14T19:16:00\n",
      "I have been saying this since the beginning of the fires \n",
      "2020-01-14T21:04:55\n",
      "More pro-climate-change leaders after Australian fires\n",
      "2020-01-15T02:30:00\n",
      "And we are 100s of KMs away from the fires \n",
      "2020-01-15T01:53:28\n",
      " Taal & rain in  to stop Fires\n",
      "2020-01-16T15:57:41\n",
      "\"We've had an unprecedented scale of fires\n",
      "2020-01-14T23:48:33\n",
      "\n",
      " sent_2020_8_2\n",
      "Causing more respiratory issues for people\n",
      "2020-01-15T13:57:51\n",
      " Now we just need a Government that listens to the people\n",
      "2020-01-16T09:42:43\n",
      "Share this in your story and aware people\n",
      "2020-01-17T04:39:55\n",
      "    wonder if the media will not inform people \n",
      "2020-01-14T21:24:18\n",
      " Seriously, turn your lights on people\n",
      "2020-01-15T00:38:58\n",
      " This is going to be an ongoing battle people\n",
      "2020-01-14T09:39:20\n",
      "\n",
      " sent_2020_9_0\n",
      "Has anyone heard of how the Aboriginal Australians are doing\n",
      "2020-01-21T18:37:51\n",
      "The Indians celebrate being a Republic while the Australians don't\n",
      "2020-01-26T14:57:50\n",
      " God Bless all the animals & people of Australia  \n",
      "2020-01-20T01:14:22\n",
      "get a grip on what matters people\n",
      "2020-01-25T03:00:46\n",
      "I like animals more than I like people\n",
      "2020-01-26T18:58:05\n",
      " has lost all trust of the Australian people\n",
      "2020-01-25T04:37:22\n",
      "\n",
      " sent_2020_9_1\n",
      "Great visual essay on the bushfires\n",
      "2020-01-22T03:23:30\n",
      "We've all heard about the raging bushfires in Australia\n",
      "2020-01-22T12:00:33\n",
      " Diabolical to have this government right now in   BushFires      \n",
      "2020-01-26T22:46:00\n",
      "1092: Man,  just can’t catch a break Bushfires …\n",
      "2020-01-17T14:48:17\n",
      "Photos: Australia's road to recovery after bushfires …  \n",
      "2020-01-26T04:58:16\n",
      "Global emissions surge after bushfires  …\n",
      "2020-01-24T22:30:58\n",
      "\n",
      " sent_2020_9_2\n",
      "More photos of the Upper Murray 26 Fire in Australia\n",
      "2020-01-26T02:05:03\n",
      "So far, 2020 has been one giant dumpster fire\n",
      "2020-01-27T01:04:19\n",
      " Sad to think that it's been destroyed now from the fires\n",
      "2020-01-18T01:00:44\n",
      "Be still my   I've been following the fires\n",
      "2020-01-18T01:52:43\n",
      "I raised over 10k for the austrialia fires\n",
      "2020-01-22T02:45:08\n",
      "Don't let kids play with fire\n",
      "2020-01-22T02:10:00\n",
      "\n",
      " sent_2020_10_0\n",
      " With  I realise the LibNats  don’t care about most Australians  \n",
      "2020-01-28T21:14:03\n",
      "They are destroying the land, animals and its people\n",
      "2020-02-06T14:03:35\n",
      "The damage they caused is hurting people\n",
      "2020-02-20T01:17:43\n",
      "Fossil fuels are hurting people\n",
      "2020-02-11T05:23:58\n",
      "The  PM doesn’t care about the country and its’ people\n",
      "2020-02-11T19:30:12\n",
      " We need to be our own State, Own  Country, Our own people\n",
      "2020-01-28T11:34:47\n",
      "\n",
      " sent_2020_10_1\n",
      " Charity Event for Australian Bushfires\n",
      "2020-02-01T11:06:37\n",
      "The last year of genocidal \"bushfires\" in Australia      …\n",
      "2020-02-16T12:15:30\n",
      "Australia’s Platypuses Are Invisible Victims of the Bushfires:  …      \n",
      "2020-01-29T19:44:50\n",
      " Rescued koale will surprise you in Australia bushfires \n",
      "2020-01-29T20:08:15\n",
      " Pic:Don Arnold Fires Bushfires  \n",
      "2020-02-14T14:51:50\n",
      "Do you know someone affected by the bushfires\n",
      "2020-02-05T22:10:15\n",
      "\n",
      " sent_2020_10_2\n",
      "Government purposely not stopping the fire\n",
      "2020-02-03T15:12:04\n",
      "Nature at its best ; rain after fire\n",
      "2020-02-11T01:43:17\n",
      "Honest Government Ad | After the fires     \n",
      "2020-02-12T06:37:14\n",
      "  Honest Government Ad | After the fires\n",
      "2020-02-23T21:56:18\n",
      " Worked on Creewah/Cathcart and Calabash fires\n",
      "2020-02-08T21:30:06\n",
      "This is well beyond a dumpster fire\n",
      "2020-02-04T21:18:50\n"
     ]
    }
   ],
   "source": [
    "print('\\n', 'sent_2020_6_0')\n",
    "sent_2020_6_0 = freq_sum(sent_2020_6, 0)\n",
    "for i in range(6):\n",
    "    print(list(sent_2020_6_0.sort_values(by = 'probab_sent', ascending = False)['text'])[i])\n",
    "    print(list(sent_2020_6_0.sort_values(by = 'probab_sent', ascending = False)['timestamp'])[i])\n",
    "\n",
    "print('\\n', 'sent_2020_6_1')\n",
    "sent_2020_6_1 = freq_sum(sent_2020_6, 1)\n",
    "for i in range(6):\n",
    "    print(list(sent_2020_6_1.sort_values(by = 'probab_sent', ascending = False)['text'])[i])\n",
    "    print(list(sent_2020_6_1.sort_values(by = 'probab_sent', ascending = False)['timestamp'])[i])\n",
    "\n",
    "print('\\n', 'sent_2020_6_2')\n",
    "sent_2020_6_2 = freq_sum(sent_2020_6, 2)\n",
    "for i in range(6):\n",
    "    print(list(sent_2020_6_2.sort_values(by = 'probab_sent', ascending = False)['text'])[i])\n",
    "    print(list(sent_2020_6_2.sort_values(by = 'probab_sent', ascending = False)['timestamp'])[i])\n",
    "\n",
    "print('\\n', 'sent_2020_7_0')\n",
    "sent_2020_7_0 = freq_sum(sent_2020_7, 0)\n",
    "for i in range(6):\n",
    "    print(list(sent_2020_7_0.sort_values(by = 'probab_sent', ascending = False)['text'])[i])\n",
    "    print(list(sent_2020_7_0.sort_values(by = 'probab_sent', ascending = False)['timestamp'])[i])\n",
    "\n",
    "print('\\n', 'sent_2020_7_1')\n",
    "sent_2020_7_1 = freq_sum(sent_2020_7, 1)\n",
    "for i in range(6):\n",
    "    print(list(sent_2020_7_1.sort_values(by = 'probab_sent', ascending = False)['text'])[i])\n",
    "    print(list(sent_2020_7_1.sort_values(by = 'probab_sent', ascending = False)['timestamp'])[i])\n",
    "    \n",
    "print('\\n', 'sent_2020_7_2')\n",
    "sent_2020_7_2 = freq_sum(sent_2020_7, 2)\n",
    "for i in range(6):\n",
    "    print(list(sent_2020_7_2.sort_values(by = 'probab_sent', ascending = False)['text'])[i])\n",
    "    print(list(sent_2020_7_2.sort_values(by = 'probab_sent', ascending = False)['timestamp'])[i])\n",
    "    \n",
    "print('\\n', 'sent_2020_8_0')\n",
    "sent_2020_8_0 = freq_sum(sent_2020_8, 0)\n",
    "for i in range(6):\n",
    "    print(list(sent_2020_8_0.sort_values(by = 'probab_sent', ascending = False)['text'])[i])\n",
    "    print(list(sent_2020_8_0.sort_values(by = 'probab_sent', ascending = False)['timestamp'])[i])\n",
    "\n",
    "print('\\n', 'sent_2020_8_1')\n",
    "sent_2020_8_1 = freq_sum(sent_2020_8, 1)\n",
    "for i in range(6):\n",
    "    print(list(sent_2020_8_1.sort_values(by = 'probab_sent', ascending = False)['text'])[i])\n",
    "    print(list(sent_2020_8_1.sort_values(by = 'probab_sent', ascending = False)['timestamp'])[i])\n",
    "\n",
    "print('\\n', 'sent_2020_8_2')\n",
    "sent_2020_8_2 = freq_sum(sent_2020_8, 2)\n",
    "for i in range(6):\n",
    "    print(list(sent_2020_8_2.sort_values(by = 'probab_sent', ascending = False)['text'])[i])\n",
    "    print(list(sent_2020_8_2.sort_values(by = 'probab_sent', ascending = False)['timestamp'])[i])\n",
    "\n",
    "print('\\n', 'sent_2020_9_0')\n",
    "sent_2020_9_0 = freq_sum(sent_2020_9, 0)\n",
    "for i in range(6):\n",
    "    print(list(sent_2020_9_0.sort_values(by = 'probab_sent', ascending = False)['text'])[i])\n",
    "    print(list(sent_2020_9_0.sort_values(by = 'probab_sent', ascending = False)['timestamp'])[i])\n",
    "\n",
    "print('\\n', 'sent_2020_9_1')\n",
    "sent_2020_9_1 = freq_sum(sent_2020_9, 1)\n",
    "for i in range(6):\n",
    "    print(list(sent_2020_9_1.sort_values(by = 'probab_sent', ascending = False)['text'])[i])\n",
    "    print(list(sent_2020_9_1.sort_values(by = 'probab_sent', ascending = False)['timestamp'])[i])\n",
    "    \n",
    "print('\\n', 'sent_2020_9_2')\n",
    "sent_2020_9_2 = freq_sum(sent_2020_9, 2)\n",
    "for i in range(6):\n",
    "    print(list(sent_2020_9_2.sort_values(by = 'probab_sent', ascending = False)['text'])[i])\n",
    "    print(list(sent_2020_9_2.sort_values(by = 'probab_sent', ascending = False)['timestamp'])[i])\n",
    "    \n",
    "print('\\n', 'sent_2020_10_0')\n",
    "sent_2020_10_0 = freq_sum(sent_2020_10, 0)\n",
    "for i in range(6):\n",
    "    print(list(sent_2020_10_0.sort_values(by = 'probab_sent', ascending = False)['text'])[i])\n",
    "    print(list(sent_2020_10_0.sort_values(by = 'probab_sent', ascending = False)['timestamp'])[i])\n",
    "\n",
    "print('\\n', 'sent_2020_10_1')\n",
    "sent_2020_10_1 = freq_sum(sent_2020_10, 1)\n",
    "for i in range(6):\n",
    "    print(list(sent_2020_10_1.sort_values(by = 'probab_sent', ascending = False)['text'])[i])\n",
    "    print(list(sent_2020_10_1.sort_values(by = 'probab_sent', ascending = False)['timestamp'])[i])\n",
    "    \n",
    "print('\\n', 'sent_2020_10_2')\n",
    "sent_2020_10_2 = freq_sum(sent_2020_10, 2)\n",
    "for i in range(6):\n",
    "    print(list(sent_2020_10_2.sort_values(by = 'probab_sent', ascending = False)['text'])[i])\n",
    "    print(list(sent_2020_10_2.sort_values(by = 'probab_sent', ascending = False)['timestamp'])[i])\n"
   ]
  },
  {
   "cell_type": "code",
   "execution_count": null,
   "metadata": {},
   "outputs": [],
   "source": []
  },
  {
   "cell_type": "code",
   "execution_count": null,
   "metadata": {},
   "outputs": [],
   "source": []
  },
  {
   "cell_type": "code",
   "execution_count": null,
   "metadata": {},
   "outputs": [],
   "source": []
  }
 ],
 "metadata": {
  "kernelspec": {
   "display_name": "Python 3",
   "language": "python",
   "name": "python3"
  },
  "language_info": {
   "codemirror_mode": {
    "name": "ipython",
    "version": 3
   },
   "file_extension": ".py",
   "mimetype": "text/x-python",
   "name": "python",
   "nbconvert_exporter": "python",
   "pygments_lexer": "ipython3",
   "version": "3.6.9"
  }
 },
 "nbformat": 4,
 "nbformat_minor": 4
}
