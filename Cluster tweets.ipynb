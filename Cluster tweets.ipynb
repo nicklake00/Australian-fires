{
 "cells": [
  {
   "cell_type": "markdown",
   "metadata": {},
   "source": [
    "## Cluster tweets"
   ]
  },
  {
   "cell_type": "code",
   "execution_count": 3,
   "metadata": {},
   "outputs": [
    {
     "name": "stderr",
     "output_type": "stream",
     "text": [
      "INFO: {'User-Agent': 'Opera/9.80 (X11; Linux i686; Ubuntu/14.10) Presto/2.12.388 Version/12.16'}\n"
     ]
    }
   ],
   "source": [
    "from twitterscraper import query_tweets\n",
    "import codecs, json\n",
    "import re\n",
    "import operator\n",
    "import copy\n",
    "import nltk\n",
    "import numpy as np\n",
    "import pandas as pd\n",
    "from string import punctuation\n",
    "from nltk.corpus import stopwords\n",
    "from nltk.tokenize import word_tokenize, SpaceTokenizer, PunktSentenceTokenizer\n",
    "from collections import Counter\n",
    "import matplotlib.pyplot as plt\n",
    "from nltk.stem import WordNetLemmatizer\n",
    "from sklearn.feature_extraction.text import TfidfVectorizer\n",
    "from sklearn.cluster import KMeans\n",
    "import copy\n",
    "from tqdm import tqdm"
   ]
  },
  {
   "cell_type": "code",
   "execution_count": 3,
   "metadata": {},
   "outputs": [],
   "source": [
    "with codecs.open('collection.json', 'r', 'utf-8') as f:\n",
    "    tw = json.load(f, encoding = 'utf-8')"
   ]
  },
  {
   "cell_type": "code",
   "execution_count": 4,
   "metadata": {},
   "outputs": [
    {
     "data": {
      "text/plain": [
       "122564"
      ]
     },
     "execution_count": 4,
     "metadata": {},
     "output_type": "execute_result"
    }
   ],
   "source": [
    "len(tw)"
   ]
  },
  {
   "cell_type": "code",
   "execution_count": 4,
   "metadata": {},
   "outputs": [
    {
     "name": "stderr",
     "output_type": "stream",
     "text": [
      "100%|██████████| 122564/122564 [00:00<00:00, 1304860.51it/s]\n"
     ]
    }
   ],
   "source": [
    "fr = dict()\n",
    "for i in tqdm(range(len(tw))):\n",
    "    if tw[i]['text'] not in fr:\n",
    "        fr[tw[i]['text']] = 1\n",
    "    else:\n",
    "        fr[tw[i]['text']] += 1"
   ]
  },
  {
   "cell_type": "code",
   "execution_count": 10,
   "metadata": {},
   "outputs": [
    {
     "data": {
      "text/plain": [
       "120480"
      ]
     },
     "execution_count": 10,
     "metadata": {},
     "output_type": "execute_result"
    }
   ],
   "source": [
    "len(fr)"
   ]
  },
  {
   "cell_type": "code",
   "execution_count": 11,
   "metadata": {},
   "outputs": [],
   "source": [
    "twits = sorted(fr.items(), key=lambda item: (-item[1], item[0]))"
   ]
  },
  {
   "cell_type": "code",
   "execution_count": 14,
   "metadata": {},
   "outputs": [
    {
     "name": "stdout",
     "output_type": "stream",
     "text": [
      "('This is a , and we need the  to ACT LIKE IT.    ask the future president about their  plan! ', 135)\n",
      "('I’ve just signed the open letter to stand in solidarity with  survivors and force the Australian government  to recognize & address the . Will you do the same?   ', 95)\n",
      "('.@sussanley  : Urgent Action Plan Needed to  from Extinction    - Sign the Petition!  via ', 88)\n",
      "(\"In the wake of the worst bushfire crisis in Australia's history, NSW & Victoria are STILL issuing permits that allow wildlife like kangaroos, wombats, and possums to be shot and killed. This must end NOW.   SPEAK OUT: … v/  \", 63)\n",
      "('Pray for Australia  ', 47)\n",
      "('Hi    and  — cities need to take charge on climate action! Will you lead the way by declaring a  and implementing an emissions reform plan in your city?', 37)\n",
      "('The planet is in crisis. Tell congress to declare a  now: ', 36)\n",
      "('Pray for Australia ', 31)\n"
     ]
    }
   ],
   "source": [
    "for i in range(8):\n",
    "    print(twits[i])"
   ]
  },
  {
   "cell_type": "markdown",
   "metadata": {},
   "source": [
    "Здесь наоборот много спама - в обработанных сообщениях. Так что лучше смотреть в необработанных, а потом обрабатывать"
   ]
  },
  {
   "cell_type": "markdown",
   "metadata": {},
   "source": [
    "## BERT"
   ]
  },
  {
   "cell_type": "code",
   "execution_count": 2,
   "metadata": {},
   "outputs": [],
   "source": [
    "import torch\n",
    "from pytorch_pretrained_bert import BertTokenizer, BertModel, BertForMaskedLM"
   ]
  },
  {
   "cell_type": "code",
   "execution_count": 3,
   "metadata": {},
   "outputs": [],
   "source": [
    "tokenizer = BertTokenizer.from_pretrained('bert-base-uncased')"
   ]
  },
  {
   "cell_type": "code",
   "execution_count": 4,
   "metadata": {},
   "outputs": [],
   "source": [
    "import torch\n",
    "from transformers import *"
   ]
  },
  {
   "cell_type": "code",
   "execution_count": 5,
   "metadata": {
    "scrolled": false
   },
   "outputs": [],
   "source": [
    "sent_2020_1 = pd.read_csv('sent_2020_1.csv')\n",
    "sent_2020_2 = pd.read_csv('sent_2020_2.csv')\n",
    "sent_2020_3 = pd.read_csv('sent_2020_3.csv')\n",
    "sent_2020_4 = pd.read_csv('sent_2020_4.csv')\n",
    "sent_2020_5 = pd.read_csv('sent_2020_5.csv')\n",
    "sent_2020_6 = pd.read_csv('sent_2020_6.csv')\n",
    "sent_2020_7 = pd.read_csv('sent_2020_7.csv')\n",
    "sent_2020_8 = pd.read_csv('sent_2020_8.csv')\n",
    "sent_2020_9 = pd.read_csv('sent_2020_9.csv')\n",
    "sent_2020_10 = pd.read_csv('sent_2020_10.csv')"
   ]
  },
  {
   "cell_type": "code",
   "execution_count": 6,
   "metadata": {
    "scrolled": true
   },
   "outputs": [],
   "source": [
    "#sent_2020_1_0 = sent_2020_1.query('cluster_3 == 0')"
   ]
  },
  {
   "cell_type": "code",
   "execution_count": 7,
   "metadata": {},
   "outputs": [],
   "source": [
    "punct_list = list(punctuation)\n",
    "punct_list.append('``')\n",
    "for j in ['…', '\\'', '’', '', '...', '/…', '\\'\\'', '“', '”']:\n",
    "    punct_list.append(j)"
   ]
  },
  {
   "cell_type": "code",
   "execution_count": 8,
   "metadata": {
    "scrolled": true
   },
   "outputs": [],
   "source": [
    "for_bert = []\n",
    "for i in range(len(sent_2020_1)):\n",
    "    filtered_word = ''\n",
    "    the_text = sent_2020_1['text'].iloc[i]\n",
    "    tok_list = word_tokenize(the_text)\n",
    "    for word in tok_list:\n",
    "        if word.lower() not in punct_list: \n",
    "            my_word = word.lower()\n",
    "            my_word_num = re.sub(r\" .*?[0-9]*.*? \", \" \", my_word)\n",
    "            my_word_num = re.sub(r\"[.\\'/]\", \"\", my_word_num)\n",
    "            filtered_word += my_word_num\n",
    "            filtered_word += ' '\n",
    "    for_bert.append(filtered_word)"
   ]
  },
  {
   "cell_type": "code",
   "execution_count": 9,
   "metadata": {},
   "outputs": [
    {
     "data": {
      "text/plain": [
       "['water a commidity that is bought and sold to the highest bidder ',\n",
       " 'and i guess if you get rid of the bush there will be no bushfires ',\n",
       " 'happy new year and greetings from a country on fire ',\n",
       " 'would like to know the camera you use ',\n",
       " 'photography is a great ho by and interest ',\n",
       " 'this is true compassion true heartbreak true leadership ',\n",
       " 'deuteronomy 4:24 king james versionen ',\n",
       " 'for the lord thy god is a consuming fire even a jealous god ',\n",
       " 'heading off to work this morning and the smoke outside here has an interesting flavour hint of caramel latte ',\n",
       " 'we need to take asap to halt co2 emissions at levels our civilization can handle or we ll look back on these days as a mild preview of what s to come ',\n",
       " 'i ve seen nothing from him on tv or here ',\n",
       " 'does anyone know if the minister for home affairs has commented on recently ',\n",
       " 'a baby receiving a bravery medal for his dad ',\n",
       " 'look scott morrison his governments inability to handle this crisis is in no way indicative of their gross incompetence ',\n",
       " 'calling a national emergency now will almost certainly result in the cancellation of the cricket ',\n",
       " 'letting you know our state nsw new south wales has been given the state of emergency and will last a week ',\n",
       " 'stop making everyday aussies wait ',\n",
       " 'we ve lost so many homes lives both animals and human ',\n",
       " 'i will use my platform to spread awareness even if it means 100x posts emergency ',\n",
       " 'where has our fair go country gone ',\n",
       " 'early batemans bay new south wales ',\n",
       " 'the largest evacuation the state has ever seen news ',\n",
       " 'would love to see that kind of support from celebrities for the the devastation that has struck australia ',\n",
       " 'remember when big name celebrities performed we are the world in the 80s then again for 25 for haiti ',\n",
       " 'the ravage of wildfire and bad conseguence ',\n",
       " 'australia is fighting for our lives our country is on fire ',\n",
       " '5 million hectares of homes wildlife history gone ',\n",
       " '9 dead 17 missing and it s no where near over yet ',\n",
       " 'do nt look away it really is as bad as it looks ',\n",
       " 'this is how react when the head of the nation does not care about their problems ',\n",
       " 'onfire batemans bay new south wales ',\n",
       " 'millions of people and billions of animals losing their lives or risk to life yet the world stands by ',\n",
       " 'i won t lie this is the most saddest thread i ever made ',\n",
       " 'okay since i am the only one with a heart here let me tell you by thread of how australia is doing by just using pictures ',\n",
       " 'heartbreaking and the wee one is still sucking on his binky ',\n",
       " 'australia s climate policies will protect environment and seek to reduce hazard of fires says how s that going for you with ',\n",
       " 'i think the most catastrophic event to occur in australia recently was scottfrommarketing s lnp winning the federal election ',\n",
       " 'scottmorrisonmp climate crisis deniers et al have their s firmly up their collective arses ',\n",
       " 'have you done anything for the or plan to or anything ',\n",
       " 'the devastating impact of the is beyond words 17 lives lost with so many missing ',\n",
       " 'why go when their state or nation burns ',\n",
       " 'they would nt holiday if their family was threatened by disaster ',\n",
       " 'nsw emergency services minister returns ',\n",
       " 'this tweet wins twittersphere for the day ',\n",
       " 'yes bring out the big guns hurcules water bombers got to get organized not just let it burn ',\n",
       " 'australia is currently burning and has been burning since november ',\n",
       " 'it s part of a trend that s getting worse ',\n",
       " 'shocking scope of australia s bushfire crisis seen in satellite photos ',\n",
       " 'if you are a politician that does not believe in preserving our planet for future generations you should be fired immediately ',\n",
       " 'heart wrenching to see on the news ',\n",
       " 'truly a staggering loss to the planet ',\n",
       " 'this is so terrible made even worse because australia and its unique plantsanimals are an ecosystem that exists on no other continent ',\n",
       " 'heartbreaking to see what s going on in australia families losing their homes people losing their lives wildlife being wiped out ',\n",
       " 'such a beautiful country being destroyed my thoughts go out to everyone involved ',\n",
       " 'back in the dustbowl era in the u ',\n",
       " 'was effectively the topsoil from the plains states ',\n",
       " 'mind blowing and incredibly sad state of affairs ',\n",
       " 'one single photo expressing all aspects of australia s nightmare in peril ',\n",
       " 'the spirit of australian wo nt save you now ',\n",
       " 'plagiarising my younger brother here test cricket threatened scomo you must act ',\n",
       " 'suggestions of any you know that are already involved and can take paypal from abroad ',\n",
       " 'is there a reputable international charity in the zones already working to support people affected by the crisis ',\n",
       " 'it feels like these are the apocalyptic scenarios scientists have been warning us about ',\n",
       " 'new south wales and queensland are the states hardest hit but there are fires throughout australia and a tinder-dry summer there has just begun ',\n",
       " 'i m guessing it s so bad that only an asian-like monsoon season could stop the devastation ',\n",
       " 'there is no question that this fire has already reached biblical and apocalyptic proportions and that it is the fulfillment of the prophecies ',\n",
       " 'what ist happening in australia right now was predicted in 2018 ',\n",
       " 'i know but hey they ll all gasp in fright once when they realize it s too late which is now good job guys ',\n",
       " 'but we really need to do something asap but where do we begin ',\n",
       " 'for anyone wondering about the little brush fire in oz ',\n",
       " 'this whole thread is a must read ',\n",
       " '-17 dead -18 missing -1,400 homes lost -5 million hectares burned and 500 million animals dead what you need to know about australia s bushfire crisis ',\n",
       " 'where would one in the uk contribute to the disaster fund for our friends in australia ',\n",
       " 'sadly as usual it s not good news ',\n",
       " 'i m sharing a lot of because we see so little on uk news we need to act on the fkuc ditch the lot focus on unity ',\n",
       " 'mr gore i heard you speak at a conference maybe 15 years ago when the media were saying you were wrong and running you down ',\n",
       " 'i hope they are really listening now when you look at what s happening now in etc ',\n",
       " 'fires in every single state of are frankly too coincidental there are stories of some at least having been started deliberately ',\n",
       " 'some prime ministers are remembered for what they created ',\n",
       " 'stop grabbing people ffs ',\n",
       " 'is this was your empathy training taught you or have you been spending too much time with trump and this poor man just doesn t have a pussy ',\n",
       " 'now here s a great idea the national climate disaster fund ',\n",
       " 'top tip relocate to the has just reduced their train ticket prices to fight global warming ',\n",
       " 'heartbreaking scenes across the other side of the world ',\n",
       " 'if concerns you but you have nt yet switched to 100 electricity then erm ',\n",
       " 'nsw fires andrew constance lashes ',\n",
       " 'media have some work to do on framing huh ',\n",
       " 'at least 28 people missing after wildfires in victoria australia premier says ',\n",
       " 'what would usually takes decades nay centuries takes nothing but a meer 7 days ',\n",
       " 'every week we get a new meaning of the word ‘ unprecedented ',\n",
       " 'for a guy known for being from marketing dude isn t great at marketing himself as someone who cares about his country ',\n",
       " '28 now missing another confirmed dead and another death unconfirmed which will take the death toll to 9 ',\n",
       " 'worse weather conditions to come ',\n",
       " 'it s a criticism of your leadership in a national emergency of all things ',\n",
       " 'you should be taking the anger you experienced very personally ',\n",
       " 'let this be a lesson to people voting in the coming us election ',\n",
       " 'we the people are the ones to suffer the most when bad corrupt and incompetent politicians are voted into power ',\n",
       " 'everyone came together when notra dame burned guess it does nt count when a whole country is burning because of issues humans are creating ',\n",
       " 'i have a lot of friends in australia really dishearting to hear about ',\n",
       " 'if you choose to go to next week while do not return ',\n",
       " 'shaking a few hands isnt going to save u now scotty ',\n",
       " 'watching footage of meeting people in food centres putting on a show for the cameras makes me sick this is these peoples reality not a push for popularity ',\n",
       " 'didn t have an idea of the dimension of the problem with the fires in australia ',\n",
       " 'hope yours and your house are safe isreal ',\n",
       " 'showing up for exactly who he is a coward ignorant of the horrors being experienced by thousands ard the country ',\n",
       " 'this punk ass prime minister of australia has to take human empathy classes ',\n",
       " 'when photo ops go wrong ',\n",
       " 'a crepuscular 11am on the yarra i guess we now have ',\n",
       " 'we don t need to patronisingly silence these calls we need to fund them with a levy on fossil fuels ',\n",
       " 'that moment where a woman seeking more funds for the firefighters from the prime minister gets ‘ shushed in response ',\n",
       " 'soon enough there will be no environment to protect ',\n",
       " 'if this catastrophic in 4 states get the govt off its ass nothing will ',\n",
       " 'the sky is a hideous beige colour and the air quality is terrible ',\n",
       " 'driving home to melbourne from clunes and the city is just blanketed in smoke from the vicnsw fires ',\n",
       " 'psst you are on the complete wrong side of history on this ',\n",
       " 'but the 180m attributed there is chook feed compared to the economic cost of these fires ',\n",
       " 'the biloela tamil family representing 180 million dollars threat to australia is beyond laughable ',\n",
       " 'morrison s approach to governing is telling in its imbalance ',\n",
       " 'scottmorrisonmp is not religion-free as he was trying to put through as fires started he did nothing ',\n",
       " 'this is beyond anything anyone can imagine ',\n",
       " 'godspeed to our beautiful aussie cousins ',\n",
       " 'yes a freaking fire tornado ',\n",
       " 'just saw the news and a fireman in australia died after their truck was flipped over by a fire tornado ',\n",
       " 'very rare you see a koala drinking water ',\n",
       " 'my heart goes out to all the affected people and animals that live in australia i hope these fires end soon ',\n",
       " 'they get their water from eating eucalyptus leaves and these fires is a result of this ',\n",
       " 'this was a really good interview by an expert on firestorms ',\n",
       " 'australia is truly going through hell atm ',\n",
       " 'heartbreaking such a beautiful country and wonderful people i ve been lucky to visit australia twice i feel so deeply for them after experiencing the tragic camp fire in northern california ',\n",
       " 'for your own reputation time to distance yourself from the lame duck pm ',\n",
       " 'we re hardly hearing anything about in the united states ',\n",
       " 'i hope fire will be controlled soon ',\n",
       " 'i m very sad for a country where i learned and grew a lot ',\n",
       " 'good luck with that lasting much longer ',\n",
       " 'your colleagues also care about their jobs their power ',\n",
       " 'can t even begin to imagine what it must be like to be going through this ',\n",
       " 'when a city starts to look like something from a dystopian sci-fi hollywood blockbuster climate action needs to be taken ',\n",
       " 'heartbreaking destruction of a wildlife bird and bee refuge ',\n",
       " 'strike somewhere even if you are alone ',\n",
       " 'the world s climate is breaking apart while we play our fiddles ',\n",
       " 'australia bushfires spew two-thirds of national carbon emissions in one season ',\n",
       " 'when you look at some of the great names who have held the office of australian prime minister morrison is an embarrassment ',\n",
       " 'he has caused profound shame to our country ',\n",
       " 'or any individual who does nt have to hire an empathy coach for that matter ',\n",
       " 'one of my best friends is very close to losing her home to these fires we seriously need to do something about this ',\n",
       " 'we need drastic change in how we live ',\n",
       " 'this is the future the rest of the world is going to look forward to if our governments continue to do nothing ',\n",
       " 'birds in australia are now mimicking firetruck sirens because they have been hearing them non stop ',\n",
       " 'you think it can t get any worse but it does and he thinks his job is to offer comfort while still in change denial mode ',\n",
       " 'checking out dark waters with australia need for fresh water and their depleting water levels was seen and discussed by jeremy during a recent showing of a dark waters episode ',\n",
       " 'so much is being destroyed and taken because of these fires ',\n",
       " 'he won t even listen to a single woman ',\n",
       " 'scomo won t even listen to the people ',\n",
       " 'nearly half a billion animals have been killed ',\n",
       " 'i hope he resigns today or is dismissed ',\n",
       " 'choose your policies before you choose your government ',\n",
       " 'nothing like a bit of fake empathy and a bag of groceries from a gaslighting prime minister ',\n",
       " 'morrison s carbonist politics are prosperity-focused locked in the postwar decades and permeated with nostalgia for old-fashioned race and gender relations ',\n",
       " 'morrison isn t a climate denier or leader ',\n",
       " 'fires have reached greater intensity and scale but experts warn such events are likely to become more common as temperatures continue to rise in the future ',\n",
       " 'if the coverage of is breaking your heart and how could it not ',\n",
       " 'i m hopingassuming have rescue crews on the ground for animals in distress ',\n",
       " 'those beach shots of people trying to calm their horses ',\n",
       " 'and now an alleged journalist seems to be throwing objectivity to the wind and doubling down on their dangerous and irresponsible ideas from a decade ago ',\n",
       " 'this is a the smoke is traveling all the way to berlin as u can see in this clip ',\n",
       " 'it s day 2 and it looks like we re starting 2020 with under assault and potential war with after the killing of ',\n",
       " 'asking a gentleman on holiday in australia about the fires when he starts to talk about what their prime minister said what more he could have done after being asked to by the bbc presenter is cut off the interview ends ',\n",
       " 'is everyone missing julia gillard right now ',\n",
       " 'good sense from great people ',\n",
       " 'just watching it on the uk news is horrendous enough ',\n",
       " 'really hoping frisky s breathing is ok ',\n",
       " 'ca nt imagine how frightening it must be to live this ',\n",
       " 'guess which country is near the top ',\n",
       " 'google this countries that consume the most meat ',\n",
       " 'factory farming is a plague that is killing people and our planet ',\n",
       " 'the lives of all the people and wildlife affected by these fires weigh heavy on my heart tonight ',\n",
       " 'i m sure every fire commissioner dreams of pinning a commendation for bravery service to the shirt of a toddler at his daddys funeral ',\n",
       " 'damn prime minister scott morrison is starting to get angry after he aggressively hugged this man who did nt want to be embraced by our prime minister ',\n",
       " 'support for the firefighters who lost their lives families ',\n",
       " 'i ve always liked and this is just another reason why ',\n",
       " '500 million animals have perished due to the fires ',\n",
       " '5x the entire population of the usa ',\n",
       " 'how s everybody s happy new year going ',\n",
       " 'this is the man running our country but doing literally fuck all to protect it ',\n",
       " 'scott morrison our pm ladies and gents ',\n",
       " 'put together some resources to share with my us co-workers today and wanted to share them here too ',\n",
       " 'i can see and smell the smoke in brunswick 5km from the cbd ',\n",
       " 'hey come to ozlots of willing subjects for trial work into magic mushrooms curing depression ',\n",
       " 'i wish people would stop using the scotty from marketing handle ',\n",
       " 'are you raising money for australia fire relief ',\n",
       " 'wanted to support but i am not seeing any updates on that disaster ',\n",
       " 'we are 300km s from the fires and this is our air quality ',\n",
       " 'clearly all she needs is to watch the cricket because apparently thinks cricket solves everything what happens if the cricket is disrupted by bushfires ',\n",
       " 'i will show wonders in the heavens and in the earth ',\n",
       " 'blood and fire and pillars of smoke ',\n",
       " 'could smell the smoke as we came into land ',\n",
       " 'flying into an incredibly smokey sydney from adelaide today ',\n",
       " 'hope this devastation end soon ',\n",
       " 'he has calmly openly lead this nation through this terrifying crisis ',\n",
       " 'of animals killed half a billion cuz often we only talk about the area houses burned how big is smoke ',\n",
       " 'more than three months more than 480 million animals ',\n",
       " 'sending love from earl mum to all of you ',\n",
       " 'great thread on including some donation websites ',\n",
       " 'in 2005 after the boxing day tsunami we held a charity benefit concert which raised 15 million for relief ',\n",
       " 'we have been on fire since september and so far we ve only had one telethon ',\n",
       " 'lamelo will always have a home in australia especially in the illawarra where we have accepted him as one of own you did good ',\n",
       " 'our government is so generous when it comes to natural disaster relief except when it s happening in our own backyard ',\n",
       " 'temperatures to reach low to mid 40 s across nsw with strong winds and low humidity ',\n",
       " 'the have released a map prediction of the fires in nsw for saturday 4 january ',\n",
       " 'how can the people of australia even begin to have some sort of faith or hope when this is the man running our country ',\n",
       " 'i d say it is because he is a tin man with no heart ',\n",
       " 'time to step aside and allow people with intelligence insight and compassion try to fix this country ',\n",
       " 'he literally is unable to experience true empathy ',\n",
       " 'i don t have the faintest idea of how to make it happen but can we do something to stop from completely ruining australia ',\n",
       " 'says if you re not a and down with prosperity gospel stuff it s probably your own fault ',\n",
       " 'oh that s just canberra bubble stuff ',\n",
       " 'half a billion dead animals so far ',\n",
       " 'baby kangaroo joey burned alive trapped on wire burnt to death ',\n",
       " 'are you free for a quick trip across the tasman ',\n",
       " 'we are in desperate need of national leadership ',\n",
       " 'our pm is a useless fucking fool that is just lettins us burn ',\n",
       " 'it s personal alright your lack of leadership is being derided world wide ',\n",
       " 'why are people caring about coachella more then the deadly fires in australia ',\n",
       " '‘ or stay your current path and be remembered as one who could not lead could not act and doomed future generations ',\n",
       " 'it has been reported that the islamic state is encouraging muslims to start wildfires in australia as a new way of waging jihad ',\n",
       " 'goal is 1k raising money for our wildlife ',\n",
       " 'to all those on the front line and those who have lost homes and family i m sorry we are living in a world where the support you need isn t given ',\n",
       " 'photo via almost half the country s on fire at the moment ',\n",
       " 'charity stream day 4 complete ',\n",
       " 'i wish we could adopt as our own like we do with every other new zealand celebrity ',\n",
       " 'even the international artists know what a dickhead he is ',\n",
       " 'a small summary of the australia wildfire that we have managed to ignore a thread big bang this was trending worldwide and one of the few hashtags i am familiar with so i decided to add this so that it gets trended across ',\n",
       " 'how can you lead people if you have no idea how they tick ',\n",
       " 'i thought the idea of an empathy coach was a joke- if this is real how did this barely human being rise to the top ',\n",
       " 'seeing my timeline be almost purely posts about has made me incredibly proud of the people i know in this country ',\n",
       " 'amazonprimenow should be leading in for this you do nt need this corporation ',\n",
       " 'while australia burns the world is watching on in amazement – with global publications printing some choice words about our leaders ',\n",
       " 'has ignored science and warnings since times ',\n",
       " 'so lied about chatting with her about rfs funding ',\n",
       " 'the world needs to know the truth ',\n",
       " 'in australia arson should carry a life sentence ',\n",
       " 'the raging across have forced the international tournament to be relocated as officials believe play would be unlikely in current conditions ',\n",
       " 'is clearly on another planet we need true leadership and we need it now ',\n",
       " 'sick of these jokers that run our country ',\n",
       " 'is about as popular as a turd in a fruit salad at the momentno visionno leadershipno idea ',\n",
       " 'see below for some detailed info from same handle on insta the source ',\n",
       " 'i was hopeful grateful now i m just mad that we have ended up with who are like the dog that caught the have no idea what to do with it ',\n",
       " 'this is bloody amazing in the melbourne cbdno matter what the social issue there is always an artist who can express our collective feelings ',\n",
       " 'no caption or paragraph is even needed ',\n",
       " 'the raging have forced the canberra international tennis tournament to be relocated as officials believe play would be unlikely in current conditions ',\n",
       " 'terrible start to the year and they say there s more to come ',\n",
       " 'the world has been receiving daily updates about the fires for months they know ',\n",
       " 'to b fair not just that s incompetent has allowed these their tragedies to overwhelm the countryits entire current govt govts that have preceded turnbull abbott howard-useless venal corrupt the lot of them ',\n",
       " 'respiratory failure heart attacks severe mental illness ',\n",
       " 'the future death toll from this bushfire crisis will be huge ',\n",
       " 'views from the west gate freeway ',\n",
       " 'it s so bright and hazy outside it hurts your eyes ',\n",
       " 'his 200k empathy consultant told him to just do it they said doesn t know the difference about consent like father didn t know either ',\n",
       " 'where were you when you first heard the news that bette midler called scott morrison a fuckwit ',\n",
       " 'checking twitter today caused a surge of anxiety ',\n",
       " 'apparently australians anger towards him is a fixation ',\n",
       " 'apparently people in crisis need a fixation and pm says that s the only reason we are attacking him ',\n",
       " 'fantastic thread of comments worth the read ',\n",
       " 'how many fires how large how often how catastrophic before paid ideologues lose this manufactured debate ',\n",
       " 'the world s largest fire service ',\n",
       " 'air quality reading outside my place at the moment pm 2 ',\n",
       " 'per epa guidelines that s hazardous 370 hazardous 240 ',\n",
       " 'have we become a tin pot nation ',\n",
       " 'seriously 4000 people need to be evacuated and all morrison can offer is a ship that takes 800 minus enough bedding for the 17 hour journey what a joke ',\n",
       " 'smoke so thick you can t see the cbd from the mcg ',\n",
       " 'best political satire ever ',\n",
       " 'i m concerned if the lefties aren t tweeting toxic hate on social media they could be out lighting their next bushfire somewhere else ',\n",
       " 'my heart is about to burst from the stress and the worry ',\n",
       " 'surely this is more important than the notre dame ',\n",
       " 'if anyone gets caught lighting fires they should get minimum 20 years in jail ',\n",
       " 'oh sheesh in someone s hour of desperate need the leader of the country couldn t even give time to listen and console ',\n",
       " 'making overseas headlines all for the wrong reasons and you want to focus on just the economy ',\n",
       " 'take a hard look at this picture before you go to sleep tonight you dribble piss ',\n",
       " 'this is how the fires in nsw and northern vic may move and grow tomorrow 4 jan ',\n",
       " 'surely people in the area should receive some sort of text message or notification about this why is australia so unprepared ',\n",
       " 'so it seems that ‘ s handling of the ‘ needles in the strawberries crisis was peak leadership and it s all downhill from there ',\n",
       " 'is very good at inventing a crisis and then pretending to deal with it when it s a real crisis however he s found to be extremely out of his depth ',\n",
       " 'a bit like how gippsland deleting this post ',\n",
       " 'nab employees forced to evacuate from the bushfires will also receive 1,000 ',\n",
       " 'it s estimated that 480 million animals may have been killed in bushfires in new south wales since september ',\n",
       " 'image credit fierylizard03 via reddit ',\n",
       " 'the fires now total the size of mississippi state ',\n",
       " 'even the queen talks about world affairs ',\n",
       " 'hello his excellency general the honourable david hurley ac dsc retd geez you disappear ',\n",
       " 'australia s gg governor general is holed up in his comfortable mansion admiralty house paid handsomely by taxpayers to do nothing ',\n",
       " 'it s time for to stop listening to his advisors and for once listen to australians ',\n",
       " 'i do nt remember a time in my lifetime when the mood of the entire nation was so low ',\n",
       " 'the view or not from north train station ',\n",
       " 'this photo from mallacoota reminds me of photos from the evacuation of dunkirk ',\n",
       " 'so there is nothing more for me to do but jump on a truck be at the front line ',\n",
       " 'imagine a world where a leader said i ve put everything in place for such a disaster and those people are the best ',\n",
       " 'a quote for the times but see there is joy and revelry slaughtering of cattle and killing of sheep eating of meat and drinking of wine ',\n",
       " 'let us eat and drink you say for tomorrow we die ',\n",
       " 'clyde view holiday park turned away my 70 yo parents who evacuated their surfside home because of their small dog ',\n",
       " 'a distressed human being in need of support ',\n",
       " 'her leader sensing her distress turns his back ',\n",
       " 'for me the greater problem is that he lets go of her hand and walks away ',\n",
       " 'never seen a pm so out of touch ',\n",
       " 'as seen on bourke st melbourne today ',\n",
       " 'this is for all the drop kick climate deniers ',\n",
       " 'the world knows we ve got a climate criminal for a pm ',\n",
       " 'google him and you ll find some interesting stuff ',\n",
       " 'kristina the other fellow manhandling the brave smart cobargo woman is bega valley shire councillor tony allen ',\n",
       " 'i m not starting the year with a breakdown i m just having a little cry because and my job sucks and i ll never make it as a writer and the world is ending because so it does nt matter anyway and if someone has cake to share that d be nice ',\n",
       " 'the fact turned up to a volunteer center with a single grocery bag is so incredibly telling ',\n",
       " '16 people killed along with 500 million animals yet the federal government still have nt done a thing insisting it s a state issue ',\n",
       " 'actually the cost if you had cared to read manifesto on that particular subject is 80 millionone third the cost of shart onecall yourself a journalist ',\n",
       " 'i think i ve had enough twitter for the day ',\n",
       " 'to include people that have died lost their homes ',\n",
       " 'my heart s aching for all the 12 billion animals burnt to death ',\n",
       " 'view from st kilda rd over the mcg in melbourne ',\n",
       " 'where has the governor general been these last few months ',\n",
       " 'one day working a few hours in the smoke and i am wrecked ',\n",
       " 'we like to think we are safe in metro areas but in melbourne today you can barely breath if you have compromised lungs ',\n",
       " 'are we going to count all the asthma and respiratory-distress related victims into the fire death toll ',\n",
       " 'patrick salway a 29-year-old dairy farmer died alongside his father robert 63 on new year s eve while trying to protect their family property in cobargo ',\n",
       " 'many parts of australia are currently on fire ',\n",
       " 'australia is being ravaged by the worst bushfires in decades ',\n",
       " 'i ve offered the pm access to my leadership program ',\n",
       " 'mp s everywhere copping objects to the face like sex toys and eggs ',\n",
       " 'however the worst that gets is refusals for a handshake instead of a swift kick to the head ',\n",
       " '35 million acresthe land that has been devastated is actually bigger than the size of switzerland israel and belgium ',\n",
       " '24 million acres2019-20 australian fires 12 ',\n",
       " 'some context for the world:2019 california fires 253,214 acres2019 amazon fires 2 ',\n",
       " 'also- a local koala hospital will launch a breeding program ',\n",
       " 'specially trained springer spaniel rescues koalas- a talented canine nose for sure ',\n",
       " 'how is etc not trending world wide ',\n",
       " 'our own governments both state federal pretend that this is normal- what of the overall international response ',\n",
       " 'it appears that while california s fires transfixed the world s attention ours are treated as scary not apocalyptic ',\n",
       " 'these maps show the sheer size of the deadly australian bushfires ',\n",
       " 'spamming can see they have used their account regularly today so appreciate if someone could get back to me before the worst hits tomorrow ',\n",
       " 'so people can raise billions of dollars for a building that was on fire for a day but we ve made only about a million dollars for a country that is burning with almost two dozen lives lost and half a million animal lives lost ',\n",
       " 'we got out today once home safely in melbourne the ‘ evacuate now text came through via heartbreaking ',\n",
       " 'some images of the sky at 7pm yesterday in freeburgh just outside of bright vic ',\n",
       " 'our country is burning and the fucking prime minister only cares about photo ops and keeping his fossil fuel industry buddies happy ',\n",
       " 'the consolation prize for enduring the inferno that australia has become is that we are a little further away from the nuclear fallout that will ensue as trump begins setting the stage for ',\n",
       " 'billions of dollars wasted spent a small number of people on manus and nauru ',\n",
       " 'hundreds of millions wasted reopening christmas island for one family ',\n",
       " 'tee and print shop closes at 7pm ',\n",
       " 'if you can afford it buy some stickers or shirts ',\n",
       " 'i should be enjoying the last few weeks with my family before i head home ',\n",
       " 'especially the green wattle creek and currowan fires ',\n",
       " 'instead i m worried about the fires and smoke back in my home state ',\n",
       " 'those of us who understand the risk must now step up and lead even if we need to learn how along the way ',\n",
       " 'speaking from it is abundantly clear that the ‘ leadership can not lead on ',\n",
       " 'so the government spent 190k on empathy training for what ',\n",
       " 'smarmy scomo is a narcissist and dutton is a racist ',\n",
       " 'to all those in australia who are suffering loss devastation and fear greater australia is hearing you ',\n",
       " 'everything s going from bad to worse ',\n",
       " 'a state of disaster has been declared across victoria ',\n",
       " 'we provide perdisco to such students as we want them to score the best grades ',\n",
       " 'we have seen a lot of students struggling with assignments and they either score poor grades or even fail the exams sometimes ',\n",
       " 'the on friday began sea evacuations of thousands of people trapped by which have been burning out of control in the southeast of the country and killed at least 19 people since they started in september ',\n",
       " 'a message from a person who has real facts calling out the bs getting spewed out about ‘ greenies ',\n",
       " 'melbourne is blanketed in bushfire haze ',\n",
       " 'i do nt take these attacks personally australia s prime minister after being verbally abused by the victims of the bushfires for doing nothing about itum yes ',\n",
       " 'why are we not getting the same world wide attention as notre dame or when the amazon caught ',\n",
       " 'there is a strange disconnect between the pm empathy compassion and people ',\n",
       " 'bette midler just called our pm a fuckwit ',\n",
       " '5 years the murdoch press and liberals will again frighten australians with lies and s incompetent management of the will be forgotten ',\n",
       " 'unfortunately i fear voters memories are short ',\n",
       " 'some sights of the melbourne cbd at the beginning and end of my work day ',\n",
       " 'where is this global support and assistance when australia is burning to the ground before our eyes ',\n",
       " 'i have no words while processing the fact that people like this exist ',\n",
       " 'read the writing on the flaming g forest walls ',\n",
       " 'we australians do not want you as our pm any longer ',\n",
       " 'we are one month into summer and this is how much land the bushfires have already destroyed ',\n",
       " 'i know my account is small but this shit is terrifying ',\n",
       " 'let this be the year to live optimistically is literally a proud of himself ',\n",
       " 'fires not in but i m in an area that was under threat in 2002 and saturday to hit a horrendous 42 ',\n",
       " 'not used to making a bushfire evac action plan but that s what i ve spent today doing ',\n",
       " 'firewatch seems especially apt for this ',\n",
       " 'surely the government could have paid some attention to those warning them about this fire season ',\n",
       " 'had a national firefighting plan seems to have no clue ',\n",
       " 'wonder if all that smoke will protect us from the nuclear war radiation looming between and everyone else humanity hell bent in killing everything is sight then rushing to save so it can go kill everything again ',\n",
       " 'happy new year everyone ',\n",
       " '5 days old and the top trending topics on twitter in australia is followed by so glad we have our priorities right ',\n",
       " 'media ignore the 200+ eco arsonists ',\n",
       " 'a well orchestrated attempt for the socialist takeover of western civilisation ',\n",
       " 'friends in america saying they are being told to cancel any plans to visit australia to leave as soon as possible if they are here ',\n",
       " 'evacuation traffic out of bairnsdale from is moving a surreal experience for all ',\n",
       " 'you are no longer a teacher hence anything you say about education should also be dismissed ',\n",
       " 'blinding dismissing the scientific analysis of an expert simply coz they stopped working in the field a few years ago is another example of your hypocrisy ',\n",
       " 'i m so sad about all the animals lost during these fires ',\n",
       " 'why the hell is nt everyday of summer in australia a total fire ban day ',\n",
       " 'so proud of how our sporting stars and organisations are coming together to aid those in need ',\n",
       " '33 i told him that he could change carriages ',\n",
       " 'i apologised to the greek couple opposite but said i d no longer tolerate this misinformation in public forums ',\n",
       " 'whilst members of the australian public politicians and media argue point finger and play a point scoring blame game that makes me sick it s bloody great to see our aussie sports starts get it together and lead by example with their donation initiatives ',\n",
       " 'australian navy begins rescue of people trapped by bushfires ',\n",
       " 'where s the aussie flag to overlay our profile pic ',\n",
       " 'you know the show your support for the people of australia by temporarily updating your profile picture with this new template we created ',\n",
       " '9news on 20122019 and the retweet below is from 3 hours ago ',\n",
       " 'it can fade away for a day or a week but these fires are going nowhere ',\n",
       " 'the fact that i ve bookmarked this page says something about the new normal source ',\n",
       " 'melbourne cbd air quality has now been upgraded to very unhealthy as air pollution increases ',\n",
       " 'our family s been on the run from smoke for over a month ',\n",
       " 'the national disaster appeal has rasied 1 ',\n",
       " 'get off twitter with your bullshit problems my country is on fucking fire ',\n",
       " 'i wish the wwiii jokes could brighten up my day but i m sitting here eyes glued to the fire warning site making sure my family is safe ',\n",
       " 'calling out non-aussie celebrities to raise awareness about the hell that is and for a call to action ',\n",
       " 'the only shining light on the 9hour car trip to flee the south coast fires was introducing my sister to a nice break from the trauma of ',\n",
       " 'oh scomo you re a joke of a leader ',\n",
       " 'firie refuses to shake hand rightfully so scomo tell that man i m sorry i m sure he s just tired ',\n",
       " 'my home is 5hrs away from the closest fires and we are even getting the smoke ',\n",
       " 'as a climate scientist my brother s friend was telling him last night that without drastic action this will likely be the most mild fire season we see for the rest of our lives ',\n",
       " 'he is no better than the anti-vaccination nut jobs ',\n",
       " 'tony abbott should be shunned by all australians booed heckled at every public appearance for his denial ',\n",
       " 'the deaths of people 500 million animals are on their heads ',\n",
       " 'they bear an enormous amount of responsibility for the inaction on the severity of this fire season ',\n",
       " 'i really hope you guys get the support you need ',\n",
       " 'breaks my heart to see such big devastation unfold on such a beautiful country ',\n",
       " 'hey – any chance you can bring the boys back down under to celebrate john s return and raise much needed for these crazy motherf -- ker fires ',\n",
       " 'people are being left homeless houses destroyed millions of animals have perished and the fires are still raging ',\n",
       " 'but safety always comes first ',\n",
       " 'it is about to come under fire attack todaytomorrow i love the environment ',\n",
       " 'mt ten years ago i was re-building the iconic pretty plain hut in the jagungal wilderness after the 2003 fires ',\n",
       " 'tomorrow s presser from chin up australia the silver lining in is we re in for a big boom for the construction industry and that s great news for the economy our carbon exports are way up ',\n",
       " 'many people posting upon jacinda adern s fb page that australians have pm envy ',\n",
       " 'have set up a go fund me for bushfire victims volunteers ',\n",
       " 'there is no planet b mr prime minister ',\n",
       " 'my country is literally on fire rn ',\n",
       " 'the fires have been burning for months now but i feel like they ve only just made international news recently which pisses me off ',\n",
       " 'my wish for 2020 is to wake up to rain and no more smoke or ash ',\n",
       " 'stay safe everyone we will get through this ',\n",
       " 'i d appreciate it beyond words if you could retweet this post ',\n",
       " 'half of my home state is in flames right now ',\n",
       " 'also the heros trying to fight the flames ',\n",
       " 'well said thoughts with the victims ',\n",
       " 'i wish you could send some of that frozen sea over to us in ',\n",
       " 'our wildlife our families our friends are being destroyed by our own pm who can t see the problem at hand ',\n",
       " 'just look at our wildlife i theses photos just breaks my ',\n",
       " 'support and leadership during epic failnot taking the time to listen to this pregnant mum and walking away from her shows that he has no clue ',\n",
       " 'funny how handshakes seem to be the only time has the fucking backbone to take any action when someone says something he does nt want to hear ',\n",
       " 'take the worst you can possibly imagine then multiply it by 5 ',\n",
       " 'just want to share this again for anyone planning to stay fight the fires in the next 24 hours ',\n",
       " 'if you write for ages 5-12 a school in australia has been destroyed in the fires ',\n",
       " 'greg mullins former nsw fire commissioner talks tough on bushfire response ',\n",
       " 'what a great discussion and well worth having a listen ',\n",
       " 'scott morrison today said i do nt take it personally referring to the comments said to him ',\n",
       " 'don t forget that through open homes bushfire evacuees can get free accomodation ',\n",
       " 'genuine question when you get home from work do you ask yourself jenny what the fck am i doing i m so out of my depth in my job ',\n",
       " 'who gives a flying fuck the country is burning and these assholes think the country cares call it off it s a disgrace ',\n",
       " 'poor little guy this is one of the first images from inside the fireground in the stirling range national park in western australia ryan pollock https ',\n",
       " 'greg mullins former nsw fire commissioner talks tough on bushfire response ',\n",
       " 'scrote saw trending and thought the wallabies were two tries up at halftime against the all blacks ',\n",
       " 'i m trying but i ca nt see a way past ',\n",
       " 'i m trying to be positive but everywhere we look there s smoke ',\n",
       " 'honestly how is it possible to not be filled with fear at this new decade ',\n",
       " 'how can i think about the future when tomorrow it might all literally be on fire ',\n",
       " 'your trip to india next week is now under review ',\n",
       " 'australia bushfires more than 500 million animals and plants die when will it end ',\n",
       " 'just waiting for the vision of throwing rolls of paper towels into the crowds of people who have lost everything how good s handee ultra ',\n",
       " 'a young kangaroo joey caught on a fence trying to escape ',\n",
       " 'i m pretty sure i don t live anywhere near any bushfires currently going on and my entire vicinity is shrouded in a thick haze of smoke ',\n",
       " 'so yeah half of my country is on fire while the pm refuses to do anything about it ',\n",
       " 'here s the current scale of the fires impacting australia ',\n",
       " 'it s time to go scotty from marketing ',\n",
       " 'it s time for a vote of no confidence in his ineptitude is staggering his inability to feel even the slightest sympathy is alarming and his lack of leadership is embarrassing ',\n",
       " 'my aunty who lives on the south coast of sydney has lost her home to these horrific fires so this hits close to home ',\n",
       " 'navy begins evacuation of people stranded in mallacoota due to bushfires ',\n",
       " 'why hasn t the engineering corps been asked to assist in land clearing ',\n",
       " 'hats off to the aus team and standing ovation well deserved for the firey but not sure they were on fire was the best way to start the segment ',\n",
       " 'imagine this respecting and listening to the indigenous australians and letting them continue their cool burning during the drier season so we would nt be experiencing such tragic bushfires now ',\n",
       " 'smoke has covered our city and surrounding suburbs including mine ',\n",
       " 'sure the smoke from these bushfires means australia will likely double our carbon emissions this year but by doing so we will actually reduce all other countries towards total global emissions ',\n",
       " 'all aussie firefighters get 150 off their next agl bill a 5m gift ',\n",
       " 'resign you sad excuse of a man ',\n",
       " 'friends on said on fb just been told the flinders chase visitors centre has burned ',\n",
       " 'they won t let him become the actual nominee will they ',\n",
       " 'it s very smoky where we live we can know longer see the dandenong s from our front porch sad days australia 2020 ',\n",
       " 'a paper from real scientists on bushfires and global warming ',\n",
       " 'david allen that would be the son of tony allen the creepy old geezer in the hat who groped kissed the young woman without her consent ',\n",
       " 'scott morrison electric chair ',\n",
       " 'poor little kids how frightening- feel so guilty we re leaving this to them to deal with- ',\n",
       " 'can we stop the political point scoring and just focus on fixing the problem ',\n",
       " 'breaks my heart the victims are the innocent as always ',\n",
       " 'you know something s wrong with the world and scomo when you re agreeing with piers morgan ',\n",
       " 'these fires will crash the ecologythey will crash the economythey will cause visceral angerinternal refugeesand social unrestbecause we have a government in the grasp of fossil fuel donorswho have repeatedly chosen to ignorethe experts ',\n",
       " 'they are right to be angry and should be ashamed of his behaviour by walking away and forcing his unwanted attentions on people who are clearly suffering ',\n",
       " 'boomers voting for and re-electing the same old lnp government each and every time even though they re destroying this nation choke me harder lnp daddy ',\n",
       " 'i hope 2020 ca nt keep up this energy ',\n",
       " 'australia s burning and choking while the us is hurtling towards war with iran and we re only 3 days in ',\n",
       " 'our pm not respecting people s wishes or space ',\n",
       " 'forcing handshakes when not wanted and not understanding anything about this situation and how people are feeling ',\n",
       " 'bushfires prescribed burning and global warming ',\n",
       " 'i m sure i m not the first to thinksay this but should have stayed in hawaii he s been nothing but stupid since he got back ',\n",
       " 'state incompetence writ large ',\n",
       " 'on the beach the 1959 film and the 2020 reality remake ',\n",
       " 'doesn t have a trophy of a boat that says i stopped these in his office ',\n",
       " 'i m not even sure the ocean is safe for them while he s pm ',\n",
       " 'it s upsetting to see it but see that image ',\n",
       " 'there s an image of a burnt mummified joey that shows the true ugliness of these fires ',\n",
       " 'scientist david packham on what s really causing the bushfires ',\n",
       " 'scottmorrisonmp boasting he does nt take the angry victim s reception personally is proof of his sociopathylack of empathy ',\n",
       " 'the reason for the cold reception is that he take it personally so he actually does something ',\n",
       " 'but given his leading role in sabotaging climate action in australia for over a decade i wish he d taken to fire fighting about 15 years sooner ',\n",
       " 'a picture speaks a thousand words photo shared from duncan marchant ',\n",
       " 'this is cruella toeing the party line and contributing to the tin-foil hattery that is greens and arson ',\n",
       " 'he is bumbling fool and needs to resign ',\n",
       " 'residents confront australian prime minister over wildfires via hey australia we made the young turks i am so ashamed ',\n",
       " 'honest logical clear non-political focused ',\n",
       " 'hats off to victoria s emergency management commissioner andrew crisp for being level headed when answering the media s questions ',\n",
       " 'do we get anything for a trade in or nothing for a ring in ',\n",
       " 'prime minister dutton next week ',\n",
       " 'has anyone noticed that mallacoota is the only cut-off town where any news has gotten out in the last eight hours or so ',\n",
       " 'scientist david packham on what s really causing the bushfires ',\n",
       " 'while australians are being evacuated from beaches like some sort of dunkirk the creep from kirribilli is wandering around assaulting fire victims and walking away while his grubby mate gropes one ',\n",
       " 'australian open joins bush fire relief campaign with massive fundraising effort ',\n",
       " 'after numerous and now is the time to reflect about sometimes just doing what it is that we do is sufficient to kill not just ',\n",
       " '2020 the year of channeling inner nike ',\n",
       " 'advised stay indoors walked home 2 hrs later and not bad at all ',\n",
       " 'view from my work just north of melbourne cbd ',\n",
       " 'we got man on the moon put the fires out ',\n",
       " 'the lack of global news for the has been beyond frustrating ',\n",
       " 'news only really started to penetrate the uk around christmas ',\n",
       " 'to give people back home an idea of how severe these bushfires are this is how much of england would be on fire ',\n",
       " 'imagine bette thinking anything about you other than you being the wind beneath someone s wings ',\n",
       " 'just been trying to talk to all day on behalf of my dad while he prepares to save his house from the bushfires which are predicted to hit soon with absolute radio silence ',\n",
       " 'but had plently of time to respond to ppl complimenting them ',\n",
       " 'i tapped the hashtag and started reading and viewing the images ',\n",
       " 'we are survivors it s in our nations make up our nations real hero s are fighting with all they have ',\n",
       " 'the scientists and all team members at the are doing a brilliant job ',\n",
       " 'fundamentally he has never established himself as an adult leader capable of dealing with serious things a dawning realisation expressed by the twitter hashtag ',\n",
       " 'i think as referred our is aptly appropriate ',\n",
       " 'top 3 trends in brisbane right now iranworld war 3 ',\n",
       " 'the time for being nice and asking nicely is over ',\n",
       " 'greg mullins former nsw fire commissioner talks tough on bushfire response …everyone needs to listen to this ',\n",
       " '150,000 people now want govt sacked ',\n",
       " 'i ve got to say the biggest feedback i ve had from fire grounds i ve been in has been how you manage fuel loads in national parks ',\n",
       " 'amid the haze and the smoke off to watch at aami park ',\n",
       " 'air quality is currently rated quite poor in the cbd at the moment though the smog is lifting ',\n",
       " 'so chris lynn is donating 250 for every 6 ',\n",
       " 'nsw far south coast fire flood and storm using the policescanner app check it out ',\n",
       " 'this really is a tragedy for aussies everywhere ',\n",
       " 'our legendary firies and emergency services ',\n",
       " 'our families neighbours friends farmers wildlife ',\n",
       " 'i do nt care who is in power so long as they lead and is nt doing it while its ',\n",
       " 'talking to anxious women about smoke inhalation and fire plans amongst baby movements and preparing for breastfeeding ',\n",
       " 'leadership we choose to achieve net zero carbon emissions in this decade and do the other things not because they are easy but because they are hard because that challenge is one that we are need to accept if our way of life is to be preserved ',\n",
       " 'not sure if i m in minority here but makes me proud 2 c our adf personnel working alongside our brilliant emergency services in providing backup at this time ',\n",
       " 'we r indeed fortunate 2 have courageous women men committed to the safety of australians as goes on ',\n",
       " 'no matter what tv station you turn on you will find continuous apocalyptic images and videos ',\n",
       " 'but that is based on reading coverage from actual journalists not the filtered murdoch version most aussies expose themselves to ',\n",
       " 'friends overseas are convinced has no chance of surviving this ',\n",
       " 'it s insane to think the worst conditions may lay ahead but the forecast really is that bad ',\n",
       " 'it ll get to well over 100° tomorrow and fires are still burning ',\n",
       " 'i mean you ve got the room in the cars ',\n",
       " 'if you go into an area that needs supplies for the express purpose of chatting with people would nt you think you d also take in some supplies ',\n",
       " 'one good news story from today how wonderful to see our navy taking families and their pets off the beach at mallacoota ',\n",
       " 'lots of excited and nervous barking but seemingly no restrictions on pets being rescued too ',\n",
       " 'he s waiting to turn back the boats with evacuees out of mallacoota ',\n",
       " 'also announced a rally for relief exhibition match at rod laver arena in melbourne on january 15 ',\n",
       " 'are donating cash towards the bush fires for every ace or six they hit ',\n",
       " 'baby kangaroo caught on a fence trying to escape the fires ',\n",
       " 'wtf are you doing get some more air support to fight these fires ',\n",
       " 'we hope all those boat people leaving have their identity and authority to travel documents with them ',\n",
       " 'the world needs to understand he speaks for himself has no authority to speak for australia ',\n",
       " 'tourism ads only 24billion annually ',\n",
       " 'if australian politics was a ponzi scheme would be bernie madoff ',\n",
       " 'while you set fires to public properties to prevent the persecuted from settling in india via this is happening down south in coastal ',\n",
       " 'australia s deadly bushfires and its government s woeful response to the continuing emergency threaten to fatally damage the authority of its latest prime minister ',\n",
       " 'if the alps bill shorten won the last election this would still be scott morrison s fault no fucking doubt about it ',\n",
       " 'i had some breathing difficulties last night so definitely staying indoors ',\n",
       " 'the air quality where i am is currently very poor ',\n",
       " 'even bette midler thinks stinks ',\n",
       " 'we have become an international object of pity due to his incompetency ',\n",
       " 'a must listen interview with greg mullins ',\n",
       " 'the are showing that many of our leaders are just not up to scratch but they are also showing the best of ordinary australians ',\n",
       " 'disasters tend to show people s true nature ',\n",
       " 'you may be impacted by purely reading your social media feeds ',\n",
       " 'australia bushfires sikh volunteers offer free food to victims ',\n",
       " 'can barely see with this smoke how frightening for all who are fleeing for their lives ',\n",
       " 'terrifying to see this knowing this is only a few days south of me ',\n",
       " 'can someone tell me what purpose the queen and the like serves in times like these ',\n",
       " 'several members of my family have taken the bushfire emergency as an opportunity to evolve into their final form- full coalition nuffy ',\n",
       " 'attacking moveset includes coal throw and baby boomer outrage their only defensive move is deflect to the greens ',\n",
       " 'morrison does this because he is a psychopathic narcissist who is only able to see a situation as it feeds his own narrative and women as minions who should be grateful for his presence ',\n",
       " 'australia bushfires dozens missing several dead conditions set to worsen in nsw and victoria ',\n",
       " 'with the way scomo talks about him and jenny i think jenny should be pm ',\n",
       " 'maybe she d have more of a fucking clue ',\n",
       " 'a controlled burn when bushland is intentionally burned during the off season to reduce the spread of fires during summerback burning a last resort ',\n",
       " 'firies do this when there is already a bushfire they need to contain ',\n",
       " 'i already enjoy this journalist literally reading scomo for his dismissive and condescending behaviour ',\n",
       " 'emergency warning for fire on kangaroo island the new daily ',\n",
       " 'scott morrison is a tunty curdbag ',\n",
       " 'now stick that in your rhyming slang translator and smoke it ',\n",
       " 'the greatest threat to morrison s prime ministership right now is a young pregnant recently homeless woman brave enough to speak truth to power ',\n",
       " 'if only we elected a competent federal govt ',\n",
       " 'who the fuck cares about cricket when your country is on fire ',\n",
       " 'years ago didn t answer questions as they were on water ',\n",
       " 'he still can t stop smirking even though this is the worst natural disaster australia has ever faced ',\n",
       " 'honestly if we have to wait for at least 50 of the population to be dramatically personally affected before they can vote for common sense the greater good we are totally fkd ',\n",
       " 'if he had pushed for more emergency funding and had met with fire chiefs before september none of this would be as extreme as it is ',\n",
       " 'such incredible bravery from these farming women and their families ',\n",
       " 'is your lack of action a form of terrorism ',\n",
       " 'your country is on fire and your people are terrified ',\n",
       " 'australian navy begins rescue of people trapped by bushfires ',\n",
       " 'afl consulting with clubs on bushfire fundraising ',\n",
       " 'is getting worse every day ',\n",
       " 'in nsw alone the fire is bigger than belgium ',\n",
       " 'the entire east coast from victoria to just south of sydney is being evacuated ',\n",
       " 'here s a bloke that spoke his mind then realised he just put his foot in the shit that is his political party ',\n",
       " 'vic state was warned 4 years ago about dangerous fuel loads and did nothing ',\n",
       " 'yet idiots are only taking about fomer fire chiefs a few months ago telling morrison ',\n",
       " 'ok want something positive out of the current horrors going on ',\n",
       " 'they too are fleeing a dangerous and life-threatening environment ',\n",
       " 'as we see these people evacuate by boat fleeing a dangerous and life-threatening environment because of i hope this changes opinions on refugees coming to australia ',\n",
       " 'either get your head out or just do what all of australia wants you to do ',\n",
       " 'has an image to protect-mr clennell mr morrison will imminently roll out a bigger national response to this bushfire emergency because he wants those images forgotten ',\n",
       " 'trending on reddit i ve just learned not to care ',\n",
       " 'the drive home makes the sky look angry ',\n",
       " 'i hope once these tragic events have passed we take a deep breath a step back really look at actions that spoke louder than words his pr machine wrote ',\n",
       " 'as a country we must take the action that he couldn tlet him go ',\n",
       " 'interesting to see responding to morrison s blatant pr campaign with ',\n",
       " 'goodness if you re gon na run a protection racket for this failing government you re gon na need more evidence than a staged pr appearances ',\n",
       " 'this is australia not knee crawling hat tipping england ',\n",
       " 'in 1957 granular synthesis and the left hand the right and 36 asian ',\n",
       " 'on melbourne radio today you have said you still plan indiasin trip ',\n",
       " 'u went to hawaii on holiday as the country burnsyou should be sacked ',\n",
       " 'lack of action and childish denial by this govt has caused the death of australians ',\n",
       " 'go and support this amazing lady and this incredible cause we should all be doing our part ',\n",
       " 'we continue to meet the need to on govt response to let me break it down for ya mate in a three word slogan you understand you are not ',\n",
       " 'where is the aide from these big obscenely wealthy mining corps ',\n",
       " 'they cut services so these big corporations pay little to no tax ',\n",
       " 'australian politicians are in the clutches of the fossil fuel industry and the murdoch media ',\n",
       " 'i guess i m kinda bummed that my country is being reduced to a pile of ash ',\n",
       " 'let s tell the burning truth about bushfires and the alp-greens coalition daily telegraph ',\n",
       " 'our navy are evacuating people out of mallacoota ',\n",
       " 'australia does nt have an energy problem with the level of gaslighting coming out of on claims he took advice of fire chiefs took action to prepare then says yes when asked if more planes are coming but avoids answering when ',\n",
       " 'suddenly the doomsday preppers fearing armageddon and total government collapse do nt look so silly do they ',\n",
       " 'follow instructions and do nt do anything stupid ',\n",
       " 'no one has ever feared fires coming to get them in the night now it s a widespread global reality hope the skies turn blue soon ',\n",
       " 'lived where the motley is worn all changed changed utterly a terrible beauty is born ',\n",
       " 'smug 1 word answers and no idea ',\n",
       " 'we had no fire trucks to put out the fires ',\n",
       " 'it doesnt take much to rt and spread the word ',\n",
       " 'on the left before lunch today and the right ten minutes ago wo nt need to visit canberra for a while for a fire presser ',\n",
       " 'and the other creep keep your uninvited paws and lips off us ',\n",
       " 'uninvited touch is criminal conduct you disgusting narcissistic patriarchal imbeciles ',\n",
       " 'thinking about the community during this horrific time ',\n",
       " 'before we evacuated from on sunday we visited the fantastic just before they closed down due to the fire risk on monday ',\n",
       " 'my my you ve been a busy little bee organising a nationwide ‘ hate campaign ',\n",
       " 'young people leading on the challenge of our time climate action a reflection on the bushfire crisis and the importance of young people s climate activism ',\n",
       " 'official response from to citizens facing ',\n",
       " 'i recently exchanged messages with zoe her family about the pm s claims ',\n",
       " 'america how can trump be golfing when *insert crisis here* is happening ',\n",
       " 'if our local community can act and our sports men and women can act why is our government can t ',\n",
       " 'a result of inaction by state and federal governments ',\n",
       " 'trying as best as we can to stay updated about the fires back home ',\n",
       " 'i do nt know when we ll realize that what happens in one country is also happening to us all ',\n",
       " 'no listening to people like greg mullins as he is an ex fire commish and lots and lots of knowledge ad just dig in hey ',\n",
       " 'you have nfi and wont listen then you have to go ',\n",
       " 'is there a more aussie response than calling the prime minister a dickhead and telling him to piss off ',\n",
       " 'just watching morrison being heckled in fire ravaged towns ',\n",
       " 'it is bullshit that people told to get out in some places we no phone internet ',\n",
       " 'in the eyes of millions prime minister scott morrison personifies the responsibility of the ruling elite for the social consequences of the climatic change underway and the drastic impact it is having on their lives ',\n",
       " 'shoalhaven doesn t even have the trucks to put fires out ',\n",
       " 'sadly the fire twister is nt the name of an amazing new rollercoaster ',\n",
       " 'it s almost like the entire government is in hiding or are they distancing themselves from him deliberately ',\n",
       " 'have only heard from susssan asking for donations ',\n",
       " 'people are dying while you still ‘ believe that we need to do nothing about the climate emergency ',\n",
       " 'i hope prime minister that it is a long time before you enjoy another holiday ',\n",
       " 'i m australian and i welcome any conversation about what s happening here ',\n",
       " 'cattle farming global warming reduce your beef intake if you want to reduce global warming causing fires or else karma will keep striking back ',\n",
       " 'it s great how karma strikes back ',\n",
       " 'read about the courageous staff at humanity prevails ',\n",
       " 'wildlife rescue groups local communities are all working hard to save the wildlife but the full extent wo nt be known until the fires are extinguished ',\n",
       " 'guys the fires are so big they are creating their own weather systems ',\n",
       " 'view of melbourne city from footscray ',\n",
       " 'u dont think there are cunts here doing fake cloud funding campaigns to profit ',\n",
       " 're random crowd fund campaignscheck to see if the org has a direct way of donating ',\n",
       " 'australian pm scott morrison may cancel india visit due to major bushfire crisis ',\n",
       " 'hey remember when you teamed up with and dealt with power issues in south australia ',\n",
       " 'any radical ideas for dealing with our wildfires ',\n",
       " 'australia needs game changing solutions ',\n",
       " 'rapid and decisive action is needed ',\n",
       " 'feel like we re stuck in harry potter and the goblet of fire when dumbledore is trying to tell fudge that voldy is back ',\n",
       " 'most aren t pentecostal most aren t in the hillsong cultit s a labor electoratehis lack of remorse about his not-pm behaviour shows ',\n",
       " 'betcha he kept the receipt for tax purposes ',\n",
       " 'scumo could tell you the cricket score but not how many families have lost their homes to fire ',\n",
       " 'excile send him fucking anywhere where we do nt see that shit eating grin ',\n",
       " 'the damage he has caused get him out of fucking liberal climate deniers ',\n",
       " 'the loss of lives human furry is irreplaceable incomprehensible ',\n",
       " 'very poignant art by kassi isaac ',\n",
       " 'heading into the first weekend of 2020 a lot of us aussies feel like this ',\n",
       " 'while the local resident whose actually been charged with lighting the fire has for some reason dodged a media bullet of blame ',\n",
       " 'remember when bill called a classic space indvader after the pm said bill was not able to look voters in the eye ',\n",
       " 'is in the grips of one of the greatest crises on record ',\n",
       " 'from a political branding standpoint what does scomo need to do to win back favour ',\n",
       " 'i would like to know what foreign aid we have received or been offered so far and how much the federal govt has pledged for aid to those affected by and fighting these fires ',\n",
       " 'a litany of abject lnp failure ',\n",
       " 'hot take regardless of whichever suit is in power in canberra neither give a shit about your house burning down ',\n",
       " 'everything nsw fire services could have bought if their budget wasn t cut ',\n",
       " 'a scene from a world war 2 movie ',\n",
       " 'what a truly hideous picture of poor burned kangaroo if that does nt move scomo what in the hell will ',\n",
       " 'shame vale the lucky country ',\n",
       " 'stop talking about the pm he has apologizedconcentrate on tomorrow saturday 4th january 202043 c contribute in a real wayfire prediction tomorrow ',\n",
       " 'but i do know people are angry and they ll often fixate on whether it s the prime minister or someone else and i understand that no ',\n",
       " 'amyl and the sniffers gacked on anger via ',\n",
       " 'it ll boil over one day maybe ',\n",
       " 'for real like can this actually get fucking attention from the world like fuck me dead this country is fucking burning ',\n",
       " 'bill shorten s firefighting policy …yall remember when aus voted in tax cuts for the rich and millionaires keeping their franking credits over this ',\n",
       " 'don t let the facts get in the way of a good story s ',\n",
       " 'rt rt read this thread to understand the gravity of the situation ',\n",
       " 'more than 480m animals presumed to have died ',\n",
       " 'image taken on a flight above nsw australia not mine ',\n",
       " '16+ people dead 500+ homes burnt ',\n",
       " 'ty america for sending some firefighters ',\n",
       " 'looking forward to seeing what type of people you really are ',\n",
       " 'when you earn million s you have responsibilities to the country you earn it in ',\n",
       " 'australia is fucking burning millions of animals are dead and was warned anout the conditions months ago ',\n",
       " 'thick smoke and haze has blanketed cbd following the causing poor air quality and visibility ',\n",
       " 'scott morrison emergency funding for all who have lost everything ',\n",
       " 'national emergency response pathetic ',\n",
       " 'well now one of the rooms down stairs is actually physically engulfed and will be for months to come ',\n",
       " 'this is a must-read for everyone to get a handle on what s happening to ',\n",
       " 'for some reason that is beyond a normal persons common sense that he did nt send in the armed forces until yesterday even though we needed them 6 weeks ago ',\n",
       " 'the adf are nt trained in fighting fires he said ',\n",
       " 'watch the video no amount of gvt spin can undermine this woman s clear assessment of the pm and ',\n",
       " 'our prime minister walked away from a woman pleading for him to give more funds to the fire services ',\n",
       " 'we are in the middle of a fucking natural disaster and he is standing around doing nothing ',\n",
       " 'no one is talking about our fires and they re worse than ever seen ',\n",
       " '5mths to reach port of hastings lol ',\n",
       " 'apparently hmas choules is going to take 9 ',\n",
       " 'if the liberal party truly cared about this country they would oust this idiot ',\n",
       " 'if truly cared about this country he d resign with mccormack following suit ',\n",
       " 'the amount of suffering that is happening in australia is indescribable ',\n",
       " 'still the government found a way to celebrate the new year with fireworks ',\n",
       " 'would the ceo of a big company remain on family holidays when the company he was responsible for was going under ',\n",
       " 'not so different to running an entire country when it s on fire ',\n",
       " 'like decade xl vs all time xl ',\n",
       " 'we wish would play a match to contribute to bush fires in australia for animals ',\n",
       " 'so fingers crossed otherwise i don t want to imagine ',\n",
       " 'we sure do hope so we are part of the commonwealth we love our queen ',\n",
       " 'it explains everything about these fun loving coalition axis of evil ',\n",
       " 'nice to see him rally such support for a great cause ',\n",
       " 'never hides how he feels good or bad ',\n",
       " 'on thursday morrison faced the cameras for his first press conference since sunday ',\n",
       " 'perhaps the understudy should take over or someone else ',\n",
       " 'the media aren t making up an arson story ',\n",
       " 'it says police are following this and setting up a strike force ',\n",
       " 'it s gon na be really awkward if we got ta flee back to england ',\n",
       " 'our firies are literally standing between the flames and our people wildlife and homes and they need our support ',\n",
       " 'i d love to see the money that s being raised to assist with the bushfire appeals going up as they keep going ',\n",
       " 'is anyone keeping track of how many aces any other players involved hit ',\n",
       " 'there is free accommodation being provided by terrigal ',\n",
       " 'melbourne skyline october vs today ',\n",
       " 'a friend and i planned to spend the whole afternoon outdoors but the smoke from the fires really had to reach cbd 2020 ',\n",
       " 'yall do not realise koalas are being killed and every another animal that lives therepeople are suffering and a bunch already deadsmoko our prime minister does not give a fuckat least 15m acres are burntmedia also does not give a shit about ',\n",
       " 'this is a long shot but i ll give it a go ',\n",
       " 'remember how devastating and scary it was for you girls when cali was burning ',\n",
       " 'whyalla will be wiped off the map by julia gillard s carbon tax whyalla risks becoming a ghost town an economic wasteland if this carbon tax goes ahead tony abbott numerous towns around australia have now been wiped off the map ',\n",
       " 'australia s catastrophic 2019-20 bushfires season at a glance via ',\n",
       " 'stop using the tragedy of the bushfires to push your socialist greeny political agendasicko ',\n",
       " 'sorry for the language i had to get the point across ',\n",
       " 'what the hell is more important than preserving your life and the lives of those you love ',\n",
       " 'i will never ever understand the people who choose to stay especially those who are staying with children ',\n",
       " 'heart of gold green gold and the country is behind you fellow athletes across all sports sporting organisations fans are backing you in so its only fair that my first 10 of the aussie summer is earned by yours truely ',\n",
       " 'dried out rapidly heating burning ',\n",
       " 'seen in my old home town melbourne australia ',\n",
       " 'the smoke in cooma cleared up enough today that i can finally see the sun but it s still pretty bad right now ',\n",
       " 'donations from around the world can be made via the pls rt ',\n",
       " 'the battle is on to save our beautiful wildlife ',\n",
       " 'loch sport air before new years vs today ',\n",
       " 'time to step up and freeze repayments and interest for australia s firefighters ',\n",
       " 'share with all those who spout the same rubbish about the ‘ scientists who deny great 4 minutes share share share ',\n",
       " 'he just rescued 7 koalas delivered them to wildlife rescue centre in ',\n",
       " 'cobargo may be time to give the feral lefties the bum s rush ',\n",
       " 'we need more people to calmly stare down s spin and keep forcing him to address the real issues like this ',\n",
       " 'a lot of people talk about action but don t actually act on it ',\n",
       " 'let s make sure by the end of the summer everyone else is fine too ',\n",
       " 'how much has ill preparedness cost ',\n",
       " 'if any coalion politician ever criticises labor s budgeting of climate action again i think they will be run over by a or stoned by the crowd ',\n",
       " 'finding it hard to function tonight so heartbreaking ',\n",
       " 'tony abbott blew off cabinet meetings to fight fires by telling then-pm john howard he was busy before leaving his phone in a fire truck ',\n",
       " 'this australian pharmacist is a hero for dispensing meds after his house burnt down ',\n",
       " 'no electricity can t contact doctors patients ran out of scripts he knows most folks is ok to dispense needed meds ',\n",
       " 'ohh wait its coming next week when everything is burnt ',\n",
       " 'have you organised a water bombing jet to put out the fire ',\n",
       " 'australia s kangaroo island is home to more than 60,000 marsupials ',\n",
       " 'shame on everyone who voted for the liberal party this is your doing too ',\n",
       " 'he has sat aside while our country is burning and it doesn t look like it s going to ',\n",
       " 'nobody wants to shake the hand of a coward who claims to be a leader ',\n",
       " 'well i hope the south coast evacuees are comfortably and safely settled on manus island for the next 15 years ',\n",
       " 'peter brookes on political cartoon gallery in london ',\n",
       " 'hope it hits home with policymakers ',\n",
       " 'he calls for reconnecting with the land learning from aboriginals who managed this for over 40,000 years ',\n",
       " 'craig s powerful message after 13 horrific hours defending his property ',\n",
       " 'you know its kind of fitting that scomo is the member for cook considering that there s a fire the size of belgium raging on his watch ',\n",
       " 'with cos of the is there any info yet on which have been started by nature and which have been started by arseholes ',\n",
       " 'morrison s team isn t anxious they are planning a war in the middle east our politicians don t care they think iran will take over the front pages by monday ',\n",
       " 'more eloquent writing pressing on the key points ',\n",
       " 'how much did kyrgios pay for his empathy consultant ',\n",
       " 'my 3 year old grandson asked go to the park grandma i had to tell him we ca nt the smoke outside is really bad and can make you sick ',\n",
       " 'i knew the fires in australia were bad but read this thread to get a good idea of how awful it truly is ',\n",
       " 'i wonder if will be first guest of season ',\n",
       " 'there is no justice for the torture humans have inflicted upon these beautiful australian animals ',\n",
       " 'the greenie bashers got nothing on the dude who think the government deliberately lit up the fire to clear land for the bullet train between sydney and melbourne ',\n",
       " 'our homes are burning our friends are suffering we can t save all of our native wilflide ',\n",
       " 'even in melbourne cbd the air is just thick with smoke ',\n",
       " 'smokey view from st kilda towards the beach pollution from fires in victoria ',\n",
       " 'this image of a juvenile kangaroo burnt alive in the bushfires will haunt me forever ',\n",
       " 'i really hope fires in australia would stop there s a lot of animals and people suffering ',\n",
       " 'after grabbing her hand you dropped it and her question like a hot potato ',\n",
       " 'australia is a country who comes together we lead from the front we support our own ',\n",
       " 'the smoke seen from melbourne today makes you realise that these fires are happening so close to us and truly do effect the whole country ',\n",
       " 'thinking on everyone in australia who are experiencing such worry ',\n",
       " 'stay strong and better days will follow ',\n",
       " 'the bush fires are causing so much misery ',\n",
       " 'got a teenie-weenie violin to play world s saddest song for aussie pm ',\n",
       " 'as pm i d declare national emergency showing people i do give a shit about them ',\n",
       " 'inclined to cancel india trip due to bushfire crisis ',\n",
       " 'to live a creative life we must lose our fear of being wrong ',\n",
       " 'the rfs will benefit more if it is for every handshake not well received ',\n",
       " 'surely this is enough horror for those in power to understand the time to act is now ',\n",
       " 'hoping the immense suffering among people animals wo nt be in vain ',\n",
       " 'in australia today a political establishment grown sclerotic and demented on its own fantasies is facing a monstrous reality which it has neither the ability nor the will to confront ',\n",
       " 'any major label wan na make a donation for each audible fuck scomo in this video ',\n",
       " 'christ even bette midler is putting the slipper into i guess we can categorically say that midler won t be telling did you ever know that you re my hero ',\n",
       " 'my auntie and uncle are being evacuated and there s a bush fire a half hour from me ',\n",
       " 'are you able to offer the of risk for short or lengthy blackouts across not just in fire-affected areas due to fire damage overload etc from wishing all your people the best but asking on behalf of people using health equipment… ',\n",
       " 'the smoke levels are at hazardous levels in many parts of the country ',\n",
       " 'are you able to offer the of risk for short or lengthy blackouts across not just in fire-affected areas due to overload wishing all your people the best but asking on behalf of people using health equipment… ',\n",
       " 'to give the ukamerican folk an idea of just how big these aus fires are atm ',\n",
       " 'shit is f**ked all i can think about is the koala s ',\n",
       " 'when did this become the normal message i get before going to work ',\n",
       " 'old white misogynistic men ',\n",
       " 'business insider has called these satellite pix of stunning ',\n",
       " 'our country is burning and our prime minister is an idiot ',\n",
       " 'letting our people down in a time of crisis ',\n",
       " 'strong leadership requires empathy ',\n",
       " 'looking at au bushfire info thinking it ca nt get any worse ',\n",
       " 'these fires in australia are insane everywhere has smoke and they are out of control ',\n",
       " 'they are doing everything in there power and that is all we could ever ask for ',\n",
       " 'the firefighters are working so hard it is scary to see how much it is effecting our country ',\n",
       " 'a truly depressing but sadly accurate read global apathy toward the fires in australia is a scary portent for the future ',\n",
       " 'bushfire victims tell their story ',\n",
       " 'at 10 in the morning on new year s eve it went pitch black – and we still haven t seen the sky in days ',\n",
       " 'to put into some sort of context it is like all of wales is on fire and the smoke has caused the skies in newfoundland canada to go yellow ',\n",
       " 'cruel comment regarding the people from they ve lost their homes suffered through fires ',\n",
       " 'the only feral in cobargo was desperate unempathetic he walked away when the girl wanted to talk ',\n",
       " 'no have giraffes or no have niobium in the australian outback ',\n",
       " 'better be safe then burnt alive ',\n",
       " 'we should all be able to adapt pets like koalas ',\n",
       " 'if and could set this up i think it could raise a lot of funds ',\n",
       " 'jonathan david helser melissa helser or ',\n",
       " '2020visionwe need to call a national strike to make this government act they are relying on how lazy we have become and do not feel threatened by the people because they feel they are impervious to our opinions ',\n",
       " 'everyone wants to visit our beautiful country but no one wants to lend a hand ',\n",
       " 'it s the worst fire in all of history and too little is being done about it ',\n",
       " 'in case you have nt heard enough about this yet my country is burning and i m not happy ',\n",
       " 'warns of new health risks ',\n",
       " 'bill shorten has more class empathy in his pinky finger than scott morrison has in his entire body ',\n",
       " 'with being produced at catastrophic levels right now the result will be increases in temperatures ',\n",
       " 'exchanged messages with zoe her family about the pm s claims ',\n",
       " 'this is the shock devastation and grief the australian victims of the are copinh with these days symbolized in the desperation and grief of one koala ',\n",
       " 'can you say something really bizarre to take the heat off ',\n",
       " 'maybe you could talk about the maggots that deliberately lit these fires ',\n",
       " 'liberal-hating greenies have unfairly politicised disastrous bushfires sky news australia ',\n",
       " 'to all the apathetic fence sitters who are too gutless to speak out against the climate fraud do you now understand how your socialprofessional cowardice is prolonging this madness creating extremists ',\n",
       " 'imagine going on a holiday while your country is on fire to then come back and force people to shake your hand ',\n",
       " 'bye bye scott morrison ',\n",
       " 'just to give you all an idea of how dire the situation is ',\n",
       " 'today me want to think of all the poor people animals and plants in australia who have lost everything due to the terrible fire at worst their lives ',\n",
       " 'bushfire scientist david packham warns of huge blaze threat urges increase in fuel reduction burns via ',\n",
       " 'wait for a few weeks time when we get a run of 40 deg days then vicco is going to let go and burn proper ',\n",
       " 'the prime minster who prided himself on stopping refugees on boats has successfully caused his own people to become refugees on boats ',\n",
       " 'wtf forcing to shake hand ',\n",
       " 'to ensure you ve done a good job ',\n",
       " 'he just rescued 7 koalas delivered them to wildlife rescue centre in ',\n",
       " 'i m broken hurting in places i never knew could hurt ',\n",
       " 'all nations including our recalcitrant country must understand our species will not be the fist to survive the destruction of its habitat ',\n",
       " 'our national tragedy will only have meaning if taken as a stark warning and call to action to the entire world ',\n",
       " 'australian bushfires claim another life ',\n",
       " 'wow just wow to have your home gone and the leader of the country turn your back on you would be just devastating ',\n",
       " 'anyone with an ounce of compassion would have stopped and listened ',\n",
       " 'it s time we woke up and smelled the eucalyptus ',\n",
       " 'driving along the highways bush on either side ',\n",
       " 'my little cousin was born last year ',\n",
       " 'inquiring minds need to know ',\n",
       " 'i ve heard these refugees from mallacoota wo nt be allowed back in to australia ',\n",
       " 'yes avi lot a a-holes out there at the moment ',\n",
       " 'incoming thread is same text as the image ',\n",
       " 'attempt at putting my current thoughts re into words ',\n",
       " 'this short guide draws on my experience covering bushfires as a reporter my academic research ',\n",
       " 'the australian state and multinational resource extraction companies should be taken to an international hearing for ecocide ',\n",
       " 'priests in schools religious privilege laws no federal icac corruption is rampant injustice racism bigotry medieval fascist peasantry no science nor mind for itgod greed control rules ',\n",
       " 'how close are we to declaring the use of jenny morrison as a human shield ',\n",
       " 'cgi budget went to the flames ',\n",
       " 'truly heartbreaking what is happening in our country ',\n",
       " 'freddie flintsone would ve done better and not lied to cover his tracks ',\n",
       " 'we sincerely hope that all our ganza members and their loved ones are safe this situation is simply terrifying ',\n",
       " 'today we are all tex perkins finger ',\n",
       " 'corporate entities show more compassion than s govt ',\n",
       " 'they are the very people we were warned would exist if we failed to act on ',\n",
       " 'the residents of mallacoota who are fleeing their homes by boat are literally ',\n",
       " 'the scott morrison bushfire policy ',\n",
       " 'my heart hurts at all the life that is in danger ',\n",
       " 'i read that about 8 people are reported dead many displaced from their homes and millions of land animals killed by the ',\n",
       " 'is a nineteenth-century english writer whose novel ‘ jane eyre is considered a cult of western literature ',\n",
       " 'just wan na let you know there are huge scary and wide bushfires in ',\n",
       " 'maybe we should really start listening to them ',\n",
       " 'this clip is a perfect demonstration of lalochezia in action ',\n",
       " 'super devastating but super important thread ',\n",
       " 'a lot of people take for granted the firefighters are volunteers ',\n",
       " 'there are literally no koalas left in the wild ',\n",
       " 'the australian bushfire is twice as big as the amazon wildfire so far and has been going since september ',\n",
       " 'an estimated 480 million wildlife lives have been lost to the fires ',\n",
       " 'good luck to everyone in the fire s way tomorrow especially the south coast snowy mountainsjindabyne act and victoria ',\n",
       " 'conservatives are blaming greenies for but the truth is on record and damning ',\n",
       " 'fucking scotty from marketing the absolute king of ',\n",
       " 'we salute the courageou heroic actions and continuous work of all the australian firefighters who are mainly volunteers ',\n",
       " 'murdoch striking back against nsw liberals for andrew constance s comment against scummo ',\n",
       " 'not even the word count in the article to mention the huge economic cost of inaction vs denialism scepticism ',\n",
       " 'might be a better way of having a say in the matter ',\n",
       " 'government claims victorian boat people threw children overboard… ',\n",
       " 'this article has good information to respond to trollsdeniers ',\n",
       " 'this time defending our coal worshipping prime minister ',\n",
       " 'you ca nt defame people at 2gb they destroy themselves habitually ',\n",
       " '2gb873 needs to use siblings to support their propaganda ',\n",
       " 'you know the world is fucked when you have more trending tweets about than ',\n",
       " 'the island is home to so much wildlife and beautiful preserved nature ',\n",
       " 'this is what ki in south austrlia js facing right now ',\n",
       " 'you know you re an absolute disgrace when spares a tweet to attack you instead of trump ',\n",
       " 'i always knew this bloke has a heart of gold ',\n",
       " 'government ownership =goodprivatisation =bad for all but ceos and shareholders ',\n",
       " 'and it s only the third day of the new decade ',\n",
       " 'i feel like people not from australia might not know this koalas dont drink water they get enough water from their food ',\n",
       " 'the sheer heat and lack of natural habitat has forced them to drink from a human this is not normal ',\n",
       " 'what a horrible way to start the new decade ',\n",
       " 'abbott being a volunteer firefighter cancels himself out as he is a climate denalist and is part of the problem why our country is on fire ',\n",
       " 'maybe tony might want to tell the firefighters he is standing alongside that australia is in the midst of a ‘ climate cult ',\n",
       " 'perfect thread to explain the horror that is aka ',\n",
       " 'zoom into the rfs prediction map for *tomorrows* fires to see the size of sydney metro ',\n",
       " 'the red areas add up to a lot larger size ',\n",
       " 'this is just one base camp probably the closest to the fires and these tents are about helf the amount ',\n",
       " 'but i will put this out into the world to raise some kind of awareness no matter how small ',\n",
       " 'bottom image taken today ',\n",
       " 'top image from october 24th last year ',\n",
       " 'a view of melbourne cbd from about 4km away ',\n",
       " 'these melbourne cbd statues have had a makeover style brilliant ',\n",
       " 'australia is committing climate suicidean insightful piece from the new york times ',\n",
       " 'grateful for a government that learns its lessons and quietly prepares for the inevitable even when the inevitable is unprecedented ',\n",
       " 'the sad thing is we don t know if there will be an australia tomorrow ',\n",
       " 'people are dead animals are dead houses are gone ',\n",
       " 'the fact that it took months for the fires to get this much notice is disgusting ',\n",
       " 'ok but i don t wan na die as a teen so listen the frick up ',\n",
       " 'the firefighters must be fully exhausted ',\n",
       " 'image acquired today 3 january at midday ',\n",
       " 'responsibility for children elderly vulnerable household members meant left while men stayed behind to defend house ',\n",
       " 'the influence of on planning and preparation hard vs soft preparations ',\n",
       " 'we need people to hear from those they listen to ',\n",
       " 'emergency warning after emergency warning even evacuate now advisories ',\n",
       " 'not looking good for coming days ',\n",
       " 'remembering the 1994 nsw fires friday ',\n",
       " '…dental implantation in penrith dentist penrithif you are interested in high-quality and inexpensive dental implantation in penrith contact the professional cosmetic dentistry penrith ',\n",
       " 'stay safe and stay strong ',\n",
       " 'the really heartbreaking to see everyone and every animal affected ',\n",
       " '15-the coaches at south east fitness solutions have banded together to raise support for the people effected by the bushfires terrorising our country at the moment ',\n",
       " 'the whole situation is terrifying awful in every way but right now my heart is aching over the 500 million animals we ve lost so far ',\n",
       " 'many of these animals already have an endangered species tag which makes this all the more heartbreaking ',\n",
       " '…dentist in penrith gives the best dental resources as your needbut such troubles can be avoided if you turn in time to the highly qualified penrith dentist specialists ',\n",
       " 'concise information eloquently listed by this is the opposite of in-action it s lots of action in the completely wrong direction ',\n",
       " 'where can the people on kangaroo island go ',\n",
       " 'i can hear helicopters in the sky just now we re only a few minutes by car to east sale raaf base ',\n",
       " 'thinking of all the brave people keeping the community safe ',\n",
       " 'significantly more traffic overhead last few days ',\n",
       " 'this is such a beautiful island with so much beautiful wildlife ',\n",
       " 'half of kangaroo island australia s 3rd largest island on emergency warning alert from bushfire the other half is on watch and out ',\n",
       " 'these fires are such a huge catastrophe for australia he doesn t seem to grasp that ',\n",
       " 'another one to add to the long scomo cringefest list in recent days ',\n",
       " 'he seems to be intent only in getting nice photo ops ',\n",
       " 'take a moment out from pouring righteous scorn on to memorise the name of *tony allen* officially the most oleaginous and patronising brachiosaur in our big burning land ',\n",
       " 'i urge you to write to your local mp to let them know exactly what you think especially if you live in an lnp electorate ',\n",
       " 'now is the time for support and action for the emergency services and victims of the devastating fires ',\n",
       " 'i for one am organising a benefit in western australia to raise money for the effected ',\n",
       " 'estimates of the mammals birds reptiles incinerated by fires in aust ',\n",
       " 'another warning sign we learn has been ignored ',\n",
       " 'scott has a great deal of empathy for the victims of the un led green conspiracy lighting ritualistic fires in an effort to geo-engineer their way to a cleaner future without bodily fluid essential coal emissions ',\n",
       " 'where is the attention on this that was there for the amazon californian fires ',\n",
       " 'an estimation of 500 million animals have died so far ',\n",
       " 'an imagine of a joey who tried to escape a fire resulting in it being stuck in a wired fence and burnt alive is captured ',\n",
       " 'most fires are believed to be caused by dry lightning ',\n",
       " 'the article s content contradicts the headline ',\n",
       " 'with my country up in flames literally this is all that s on my-no everyone s mind really ',\n",
       " 'i ca nt express what i feel into words well but i can communicate how i feel into art ',\n",
       " 'around 5m hectares have burned down the amazon lost 906 thousand ',\n",
       " 'none of this would be happening if we did nt ignore australia s fire ecology for 200 straight fucking years ',\n",
       " 'i have no words for such a creature but slime under someones shoe ',\n",
       " 'have nt seen shed a tear yet ',\n",
       " 'when are more fire fighters coming when are the water bombers coming some time next week ',\n",
       " 'they kicked kevin r out then kick out sm ',\n",
       " 'government rejected major air-tanker expansion yet another nail in the coffin ',\n",
       " 'great to see so many celebrities sports men women organisations getting on board the appeal ',\n",
       " 'australia my country is burning the size of belgium ',\n",
       " ...]"
      ]
     },
     "execution_count": 9,
     "metadata": {},
     "output_type": "execute_result"
    }
   ],
   "source": [
    "for_bert"
   ]
  },
  {
   "cell_type": "code",
   "execution_count": 10,
   "metadata": {},
   "outputs": [
    {
     "name": "stderr",
     "output_type": "stream",
     "text": [
      "100%|██████████| 9483/9483 [01:20<00:00, 118.09it/s]\n"
     ]
    }
   ],
   "source": [
    "from tqdm import tqdm\n",
    "MODELS = (BertModel,       BertTokenizer,       'bert-base-uncased')\n",
    "\n",
    "#надо передать без пунктуации и в нижнем регистре, остальное обрабатывать не надо\n",
    "pretrained_weights = 'bert-base-uncased'\n",
    "tokenizer = BertTokenizer.from_pretrained(pretrained_weights)\n",
    "\n",
    "model = BertModel.from_pretrained(pretrained_weights,\n",
    "                                        output_hidden_states=True,\n",
    "                                        output_attentions=True).cuda()\n",
    "model = model.eval()\n",
    "\n",
    "bert_embedd = []\n",
    "\n",
    "with torch.no_grad():\n",
    "    for i in tqdm(range(len(for_bert))):\n",
    "        input_ids = torch.tensor([tokenizer.encode(for_bert[i])]).cuda()\n",
    "        all_hidden_states, all_attentions = model(input_ids)[-2:]\n",
    "        sent_vec = all_hidden_states[-1].squeeze(0).mean(axis = 0).cpu().numpy()\n",
    "\n",
    "        bert_embedd.append(sent_vec)"
   ]
  },
  {
   "cell_type": "code",
   "execution_count": 12,
   "metadata": {},
   "outputs": [
    {
     "name": "stdout",
     "output_type": "stream",
     "text": [
      "9483\n",
      "9483\n"
     ]
    }
   ],
   "source": [
    "print(len(bert_embedd))\n",
    "print(len(for_bert))\n",
    "#print(len(sent_2020_1_0))"
   ]
  },
  {
   "cell_type": "code",
   "execution_count": 13,
   "metadata": {},
   "outputs": [],
   "source": [
    "sent_2020_1['berts'] = bert_embedd"
   ]
  },
  {
   "cell_type": "code",
   "execution_count": 14,
   "metadata": {
    "scrolled": true
   },
   "outputs": [],
   "source": [
    "from tqdm import tqdm"
   ]
  },
  {
   "cell_type": "code",
   "execution_count": 15,
   "metadata": {},
   "outputs": [],
   "source": [
    "def bert_vecs(table):\n",
    "    sent_2020 = table\n",
    "    for_bert = []\n",
    "    for i in range(len(sent_2020)):\n",
    "        filtered_word = ''\n",
    "        the_text = sent_2020['text'].iloc[i]\n",
    "        tok_list = word_tokenize(the_text)\n",
    "        for word in tok_list:\n",
    "            if word.lower() not in punct_list: \n",
    "                my_word = word.lower()\n",
    "                my_word_num = re.sub(r\" .*?[0-9]*.*? \", \" \", my_word)\n",
    "                my_word_num = re.sub(r\"[.\\'/]\", \"\", my_word_num)\n",
    "                filtered_word += my_word_num\n",
    "                filtered_word += ' '\n",
    "        for_bert.append(filtered_word)\n",
    "\n",
    "    MODELS = (BertModel,       BertTokenizer,       'bert-base-uncased')\n",
    "\n",
    "    #надо передать без пунктуации и в нижнем регистре, остальное обрабатывать не надо\n",
    "    pretrained_weights = 'bert-base-uncased'\n",
    "    tokenizer = BertTokenizer.from_pretrained(pretrained_weights)\n",
    "\n",
    "    model = BertModel.from_pretrained(pretrained_weights,\n",
    "                                            output_hidden_states=True,\n",
    "                                            output_attentions=True).cuda()\n",
    "    model = model.eval()\n",
    "\n",
    "    bert_embedd = []\n",
    "\n",
    "    with torch.no_grad():\n",
    "        for i in tqdm(range(len(for_bert))):\n",
    "            input_ids = torch.tensor([tokenizer.encode(for_bert[i])]).cuda()\n",
    "            all_hidden_states, all_attentions = model(input_ids)[-2:]\n",
    "            sent_vec = all_hidden_states[-1].squeeze(0).mean(axis = 0).cpu().numpy()\n",
    "\n",
    "            bert_embedd.append(sent_vec)\n",
    "        \n",
    "    sent_2020['berts'] = bert_embedd\n",
    "    return sent_2020"
   ]
  },
  {
   "cell_type": "code",
   "execution_count": 16,
   "metadata": {
    "scrolled": true
   },
   "outputs": [],
   "source": [
    "#list(sent_2020_1_b['berts'])[0]"
   ]
  },
  {
   "cell_type": "code",
   "execution_count": 17,
   "metadata": {},
   "outputs": [
    {
     "name": "stderr",
     "output_type": "stream",
     "text": [
      "100%|██████████| 9483/9483 [01:24<00:00, 112.76it/s]\n",
      "100%|██████████| 9483/9483 [01:24<00:00, 111.72it/s]\n",
      "100%|██████████| 9483/9483 [01:24<00:00, 112.32it/s]\n",
      "100%|██████████| 9483/9483 [01:24<00:00, 112.53it/s]\n",
      "100%|██████████| 9483/9483 [01:23<00:00, 113.73it/s]\n",
      "100%|██████████| 9483/9483 [01:25<00:00, 110.40it/s]\n",
      "100%|██████████| 9483/9483 [01:24<00:00, 111.72it/s]\n",
      "100%|██████████| 9483/9483 [01:26<00:00, 109.34it/s]\n",
      "100%|██████████| 9483/9483 [01:24<00:00, 111.94it/s]\n",
      "100%|██████████| 9482/9482 [01:24<00:00, 111.63it/s]\n"
     ]
    }
   ],
   "source": [
    "sent_2020_1_b = bert_vecs(sent_2020_1)\n",
    "sent_2020_2_b = bert_vecs(sent_2020_2)\n",
    "sent_2020_3_b = bert_vecs(sent_2020_3)\n",
    "sent_2020_4_b = bert_vecs(sent_2020_4)\n",
    "sent_2020_5_b = bert_vecs(sent_2020_5)\n",
    "sent_2020_6_b = bert_vecs(sent_2020_6)\n",
    "sent_2020_7_b = bert_vecs(sent_2020_7)\n",
    "sent_2020_8_b = bert_vecs(sent_2020_8)\n",
    "sent_2020_9_b = bert_vecs(sent_2020_9)\n",
    "sent_2020_10_b = bert_vecs(sent_2020_10)"
   ]
  },
  {
   "cell_type": "code",
   "execution_count": 37,
   "metadata": {},
   "outputs": [],
   "source": [
    "# sent_2020_1_b.to_csv('sent_2020_1_b.csv')\n",
    "# sent_2020_2_b.to_csv('sent_2020_2_b.csv')\n",
    "# sent_2020_3_b.to_csv('sent_2020_3_b.csv')\n",
    "# sent_2020_4_b.to_csv('sent_2020_4_b.csv')\n",
    "# sent_2020_5_b.to_csv('sent_2020_5_b.csv')\n",
    "# sent_2020_6_b.to_csv('sent_2020_6_b.csv')\n",
    "# sent_2020_7_b.to_csv('sent_2020_7_b.csv')\n",
    "# sent_2020_8_b.to_csv('sent_2020_8_b.csv')\n",
    "# sent_2020_9_b.to_csv('sent_2020_9_b.csv')\n",
    "# sent_2020_10_b.to_csv('sent_2020_10_b.csv')"
   ]
  },
  {
   "cell_type": "code",
   "execution_count": 39,
   "metadata": {},
   "outputs": [],
   "source": [
    "# sent_2020_1_b = pd.read_csv('sent_2020_1_b.csv')\n",
    "# sent_2020_2_b = pd.read_csv('sent_2020_2_b.csv')\n",
    "# sent_2020_3_b = pd.read_csv('sent_2020_3_b.csv')\n",
    "# sent_2020_4_b = pd.read_csv('sent_2020_4_b.csv')\n",
    "# sent_2020_5_b = pd.read_csv('sent_2020_5_b.csv')\n",
    "# sent_2020_6_b = pd.read_csv('sent_2020_6_b.csv')\n",
    "# sent_2020_7_b = pd.read_csv('sent_2020_7_b.csv')\n",
    "# sent_2020_8_b = pd.read_csv('sent_2020_8_b.csv')\n",
    "# sent_2020_9_b = pd.read_csv('sent_2020_9_b.csv')\n",
    "# sent_2020_10_b = pd.read_csv('sent_2020_10_b.csv')"
   ]
  },
  {
   "cell_type": "code",
   "execution_count": 88,
   "metadata": {},
   "outputs": [],
   "source": [
    "from scipy.spatial import distance\n",
    "from tqdm import tqdm"
   ]
  },
  {
   "cell_type": "code",
   "execution_count": 92,
   "metadata": {},
   "outputs": [],
   "source": [
    "def cosine(table):\n",
    "    sent_2020 = table\n",
    "    vecs = sent_2020['berts']\n",
    "    kmeans = KMeans(n_clusters=3).fit(list(vecs))\n",
    "    \n",
    "    cluster_of_3 = []\n",
    "    for i in range(len(sent_2020)):\n",
    "        cluster_of_3.append(kmeans.predict([list(vecs)[i]])[0])\n",
    "    \n",
    "    sent_2020['cluster_3'] = np.array(cluster_of_3)\n",
    "    \n",
    "    cosine_dist = []\n",
    "    for i in tqdm(range(len(sent_2020))):\n",
    "        center = cluster_of_3[i]\n",
    "        dist = distance.cosine(kmeans.cluster_centers_[center], list(vecs)[i])\n",
    "        cosine_dist.append(dist)\n",
    "    \n",
    "    sent_2020['cosine_dist'] = cosine_dist\n",
    "    return sent_2020"
   ]
  },
  {
   "cell_type": "code",
   "execution_count": 99,
   "metadata": {},
   "outputs": [
    {
     "name": "stderr",
     "output_type": "stream",
     "text": [
      "100%|██████████| 9483/9483 [00:03<00:00, 2436.36it/s]\n",
      "100%|██████████| 9483/9483 [00:04<00:00, 2346.84it/s]\n",
      "100%|██████████| 9483/9483 [00:04<00:00, 2355.42it/s]\n",
      "100%|██████████| 9483/9483 [00:04<00:00, 2341.68it/s]\n",
      "100%|██████████| 9483/9483 [00:04<00:00, 2330.83it/s]\n",
      "100%|██████████| 9483/9483 [00:04<00:00, 2207.41it/s]\n",
      "100%|██████████| 9483/9483 [00:04<00:00, 2191.97it/s]\n",
      "100%|██████████| 9483/9483 [00:04<00:00, 2187.02it/s]\n",
      "100%|██████████| 9483/9483 [00:04<00:00, 2130.87it/s]\n",
      "100%|██████████| 9482/9482 [00:04<00:00, 2112.41it/s]\n"
     ]
    }
   ],
   "source": [
    "sent_2020_1_bist = cosine(sent_2020_1_b)\n",
    "sent_2020_2_bist = cosine(sent_2020_2_b)\n",
    "sent_2020_3_bist = cosine(sent_2020_3_b)\n",
    "sent_2020_4_bist = cosine(sent_2020_4_b)\n",
    "sent_2020_5_bist = cosine(sent_2020_5_b)\n",
    "sent_2020_6_bist = cosine(sent_2020_6_b)\n",
    "sent_2020_7_bist = cosine(sent_2020_7_b)\n",
    "sent_2020_8_bist = cosine(sent_2020_8_b)\n",
    "sent_2020_9_bist = cosine(sent_2020_9_b)\n",
    "sent_2020_10_bist = cosine(sent_2020_10_b)"
   ]
  },
  {
   "cell_type": "code",
   "execution_count": 100,
   "metadata": {
    "scrolled": true
   },
   "outputs": [],
   "source": [
    "#list(sent_2020_1_bist.query('cluster_3 == 1').sort_values(by = 'cosine_dist')['text'])"
   ]
  },
  {
   "cell_type": "code",
   "execution_count": 2,
   "metadata": {},
   "outputs": [
    {
     "ename": "NameError",
     "evalue": "name 'sent_2020_1_bist' is not defined",
     "output_type": "error",
     "traceback": [
      "\u001b[0;31m---------------------------------------------------------------------------\u001b[0m",
      "\u001b[0;31mNameError\u001b[0m                                 Traceback (most recent call last)",
      "\u001b[0;32m<ipython-input-2-ca213b11a7b0>\u001b[0m in \u001b[0;36m<module>\u001b[0;34m\u001b[0m\n\u001b[0;32m----> 1\u001b[0;31m \u001b[0msent_2020_1_bist\u001b[0m\u001b[0;34m.\u001b[0m\u001b[0mto_csv\u001b[0m\u001b[0;34m(\u001b[0m\u001b[0;34m'sent_2020_1_bist.csv'\u001b[0m\u001b[0;34m)\u001b[0m\u001b[0;34m\u001b[0m\u001b[0;34m\u001b[0m\u001b[0m\n\u001b[0m\u001b[1;32m      2\u001b[0m \u001b[0msent_2020_2_bist\u001b[0m\u001b[0;34m.\u001b[0m\u001b[0mto_csv\u001b[0m\u001b[0;34m(\u001b[0m\u001b[0;34m'sent_2020_2_bist.csv'\u001b[0m\u001b[0;34m)\u001b[0m\u001b[0;34m\u001b[0m\u001b[0;34m\u001b[0m\u001b[0m\n\u001b[1;32m      3\u001b[0m \u001b[0msent_2020_3_bist\u001b[0m\u001b[0;34m.\u001b[0m\u001b[0mto_csv\u001b[0m\u001b[0;34m(\u001b[0m\u001b[0;34m'sent_2020_3_bist.csv'\u001b[0m\u001b[0;34m)\u001b[0m\u001b[0;34m\u001b[0m\u001b[0;34m\u001b[0m\u001b[0m\n\u001b[1;32m      4\u001b[0m \u001b[0msent_2020_4_bist\u001b[0m\u001b[0;34m.\u001b[0m\u001b[0mto_csv\u001b[0m\u001b[0;34m(\u001b[0m\u001b[0;34m'sent_2020_4_bist.csv'\u001b[0m\u001b[0;34m)\u001b[0m\u001b[0;34m\u001b[0m\u001b[0;34m\u001b[0m\u001b[0m\n\u001b[1;32m      5\u001b[0m \u001b[0msent_2020_5_bist\u001b[0m\u001b[0;34m.\u001b[0m\u001b[0mto_csv\u001b[0m\u001b[0;34m(\u001b[0m\u001b[0;34m'sent_2020_5_bist.csv'\u001b[0m\u001b[0;34m)\u001b[0m\u001b[0;34m\u001b[0m\u001b[0;34m\u001b[0m\u001b[0m\n",
      "\u001b[0;31mNameError\u001b[0m: name 'sent_2020_1_bist' is not defined"
     ]
    }
   ],
   "source": [
    "sent_2020_1_bist.to_csv('sent_2020_1_bist.csv')\n",
    "sent_2020_2_bist.to_csv('sent_2020_2_bist.csv')\n",
    "sent_2020_3_bist.to_csv('sent_2020_3_bist.csv')\n",
    "sent_2020_4_bist.to_csv('sent_2020_4_bist.csv')\n",
    "sent_2020_5_bist.to_csv('sent_2020_5_bist.csv')\n",
    "sent_2020_6_bist.to_csv('sent_2020_6_bist.csv')\n",
    "sent_2020_7_bist.to_csv('sent_2020_7_bist.csv')\n",
    "sent_2020_8_bist.to_csv('sent_2020_8_bist.csv')\n",
    "sent_2020_9_bist.to_csv('sent_2020_9_bist.csv')\n",
    "sent_2020_10_bist.to_csv('sent_2020_10_bist.csv')"
   ]
  },
  {
   "cell_type": "code",
   "execution_count": 4,
   "metadata": {},
   "outputs": [],
   "source": [
    "sent_2020_1_bist = pd.read_csv('sent_2020_1_bist.csv')\n",
    "sent_2020_2_bist = pd.read_csv('sent_2020_2_bist.csv')\n",
    "sent_2020_3_bist = pd.read_csv('sent_2020_3_bist.csv')\n",
    "sent_2020_4_bist = pd.read_csv('sent_2020_4_bist.csv')\n",
    "sent_2020_5_bist = pd.read_csv('sent_2020_5_bist.csv')\n",
    "sent_2020_6_bist = pd.read_csv('sent_2020_6_bist.csv')\n",
    "sent_2020_7_bist = pd.read_csv('sent_2020_7_bist.csv')\n",
    "sent_2020_8_bist = pd.read_csv('sent_2020_8_bist.csv')\n",
    "sent_2020_9_bist = pd.read_csv('sent_2020_9_bist.csv')\n",
    "sent_2020_10_bist = pd.read_csv('sent_2020_10_bist.csv')"
   ]
  },
  {
   "cell_type": "code",
   "execution_count": 38,
   "metadata": {
    "scrolled": true
   },
   "outputs": [
    {
     "name": "stdout",
     "output_type": "stream",
     "text": [
      "Just a reminder that about 60% of Australia is on fire, half a billion animals have died 15 people have died I currently live where the black circle is Not trying to annoy the TL but this major issue is only starting to get some coverage internationally  \n",
      "2020-01-03T22:07:22\n"
     ]
    }
   ],
   "source": [
    "print(list(sent_2020_1_bist.query('cluster_3 == 0').sort_values(by = 'cosine_dist')['text'])[1])\n",
    "print(list(sent_2020_1_bist.query('cluster_3 == 0').sort_values(by = 'cosine_dist')['timestamp'])[1])"
   ]
  },
  {
   "cell_type": "code",
   "execution_count": 39,
   "metadata": {},
   "outputs": [
    {
     "name": "stdout",
     "output_type": "stream",
     "text": [
      " Promoting his government’s superior action on an emergency crisis NOW I HAVE SEEN IT ALL    :/…\n",
      "2020-01-04T06:11:37\n"
     ]
    }
   ],
   "source": [
    "print(list(sent_2020_1_bist.query('cluster_3 == 1').sort_values(by = 'cosine_dist')['text'])[0])\n",
    "print(list(sent_2020_1_bist.query('cluster_3 == 1').sort_values(by = 'cosine_dist')['timestamp'])[0])"
   ]
  },
  {
   "cell_type": "code",
   "execution_count": 58,
   "metadata": {},
   "outputs": [
    {
     "name": "stdout",
     "output_type": "stream",
     "text": [
      "200+ homes have been destroyed 500 MILLION animals burnt alive and the fires are STILL going after 3 months …\n",
      "2020-01-04T01:10:43\n"
     ]
    }
   ],
   "source": [
    "print(list(sent_2020_1_bist.query('cluster_3 == 2').sort_values(by = 'cosine_dist')['text'])[3])\n",
    "print(list(sent_2020_1_bist.query('cluster_3 == 2').sort_values(by = 'cosine_dist')['timestamp'])[3])"
   ]
  },
  {
   "cell_type": "code",
   "execution_count": 59,
   "metadata": {},
   "outputs": [],
   "source": [
    "#list(sent_2020_2_bist.query('cluster_3 == 0').sort_values(by = 'cosine_dist')['text'])"
   ]
  },
  {
   "cell_type": "code",
   "execution_count": 60,
   "metadata": {},
   "outputs": [],
   "source": [
    "#list(sent_2020_2_bist.query('cluster_3 == 1').sort_values(by = 'cosine_dist')['text'])"
   ]
  },
  {
   "cell_type": "code",
   "execution_count": 62,
   "metadata": {},
   "outputs": [],
   "source": [
    "#list(sent_2020_2_bist.query('cluster_3 == 2').sort_values(by = 'cosine_dist')['text'])"
   ]
  },
  {
   "cell_type": "code",
   "execution_count": 63,
   "metadata": {},
   "outputs": [],
   "source": [
    "#list(sent_2020_3_bist.query('cluster_3 == 0').sort_values(by = 'cosine_dist')['text'])"
   ]
  },
  {
   "cell_type": "code",
   "execution_count": 40,
   "metadata": {},
   "outputs": [
    {
     "name": "stdout",
     "output_type": "stream",
     "text": [
      "These pictures from Australia are just heartbreaking Almost 15 million hectares burnt & 480 million animals have been killed by bushfires in Australia so far\n",
      "2020-01-05T13:40:35\n"
     ]
    }
   ],
   "source": [
    "print(list(sent_2020_3_bist.query('cluster_3 == 1').sort_values(by = 'cosine_dist')['text'])[0])\n",
    "print(list(sent_2020_3_bist.query('cluster_3 == 1').sort_values(by = 'cosine_dist')['timestamp'])[0])"
   ]
  },
  {
   "cell_type": "code",
   "execution_count": 64,
   "metadata": {
    "scrolled": true
   },
   "outputs": [],
   "source": [
    "#list(sent_2020_3_bist.query('cluster_3 == 2').sort_values(by = 'cosine_dist')['text'])"
   ]
  },
  {
   "cell_type": "code",
   "execution_count": 65,
   "metadata": {},
   "outputs": [],
   "source": [
    "#list(sent_2020_4_bist.query('cluster_3 == 0').sort_values(by = 'cosine_dist')['text'])"
   ]
  },
  {
   "cell_type": "code",
   "execution_count": 66,
   "metadata": {},
   "outputs": [
    {
     "name": "stdout",
     "output_type": "stream",
     "text": [
      "ongoing fires in Australia have killed 500 million animals,have burned 15 million acres and 30% of the koala population has perished during one of the worst natural disasters in Australia,absolutely heartbreaking times for Australia\n",
      "2020-01-06T14:00:32\n"
     ]
    }
   ],
   "source": [
    "print(list(sent_2020_4_bist.query('cluster_3 == 1').sort_values(by = 'cosine_dist')['text'])[3])\n",
    "print(list(sent_2020_4_bist.query('cluster_3 == 1').sort_values(by = 'cosine_dist')['timestamp'])[3])"
   ]
  },
  {
   "cell_type": "code",
   "execution_count": 41,
   "metadata": {},
   "outputs": [],
   "source": [
    "#list(sent_2020_4_bist.query('cluster_3 == 2').sort_values(by = 'cosine_dist')['text'])"
   ]
  },
  {
   "cell_type": "code",
   "execution_count": 42,
   "metadata": {},
   "outputs": [
    {
     "name": "stdout",
     "output_type": "stream",
     "text": [
      "Now we hear the truth about the Victimized by arsonists and nonsensical global warming tree clearing rulesCan the media stop lying about the cause, this kind of idiotic policy is going to get more people homeless and killed \n",
      "2020-01-07T21:57:05\n"
     ]
    }
   ],
   "source": [
    "print(list(sent_2020_5_bist.query('cluster_3 == 0').sort_values(by = 'cosine_dist')['text'])[0])\n",
    "print(list(sent_2020_5_bist.query('cluster_3 == 0').sort_values(by = 'cosine_dist')['timestamp'])[0])"
   ]
  },
  {
   "cell_type": "code",
   "execution_count": 67,
   "metadata": {},
   "outputs": [],
   "source": [
    "#list(sent_2020_5_bist.query('cluster_3 == 1').sort_values(by = 'cosine_dist')['text'])"
   ]
  },
  {
   "cell_type": "code",
   "execution_count": 43,
   "metadata": {},
   "outputs": [
    {
     "name": "stdout",
     "output_type": "stream",
     "text": [
      " it is reported over 500 million animals have died in the fires killing 10,000 Indian camels is a step the Australians are taking so the countries drinking water doesn't run out\n",
      "2020-01-07T18:01:05\n"
     ]
    }
   ],
   "source": [
    "print(list(sent_2020_5_bist.query('cluster_3 == 2').sort_values(by = 'cosine_dist')['text'])[0])\n",
    "print(list(sent_2020_5_bist.query('cluster_3 == 2').sort_values(by = 'cosine_dist')['timestamp'])[0])"
   ]
  },
  {
   "cell_type": "code",
   "execution_count": 44,
   "metadata": {},
   "outputs": [],
   "source": [
    "#list(sent_2020_6_bist.query('cluster_3 == 0').sort_values(by = 'cosine_dist')['text'])"
   ]
  },
  {
   "cell_type": "code",
   "execution_count": 45,
   "metadata": {},
   "outputs": [
    {
     "name": "stdout",
     "output_type": "stream",
     "text": [
      "   Thousands of volunteer crafters are making bat wraps,bird nests,joey pouches,etc for very few animal survivors of the fires that are ravaging Australia\n",
      "2020-01-10T02:46:12\n"
     ]
    }
   ],
   "source": [
    "print(list(sent_2020_6_bist.query('cluster_3 == 1').sort_values(by = 'cosine_dist')['text'])[0])\n",
    "print(list(sent_2020_6_bist.query('cluster_3 == 1').sort_values(by = 'cosine_dist')['timestamp'])[0])"
   ]
  },
  {
   "cell_type": "code",
   "execution_count": 46,
   "metadata": {},
   "outputs": [],
   "source": [
    "#list(sent_2020_6_bist.query('cluster_3 == 2').sort_values(by = 'cosine_dist')['text'])"
   ]
  },
  {
   "cell_type": "code",
   "execution_count": 47,
   "metadata": {},
   "outputs": [],
   "source": [
    "#list(sent_2020_7_bist.query('cluster_3 == 0').sort_values(by = 'cosine_dist')['text'])"
   ]
  },
  {
   "cell_type": "code",
   "execution_count": 68,
   "metadata": {},
   "outputs": [
    {
     "name": "stdout",
     "output_type": "stream",
     "text": [
      ":: ' World Rallies To Demand Climate Action As Australia Burns ' |  |  The Ferocity & Tragedy Of Australia’s Bushfires, Which Have Claimed 26 Lives, Razed More Than 2,000 Homes, Have Shocked The Nation\n",
      "2020-01-11T15:38:11\n"
     ]
    }
   ],
   "source": [
    "print(list(sent_2020_7_bist.query('cluster_3 == 1').sort_values(by = 'cosine_dist')['text'])[2])\n",
    "print(list(sent_2020_7_bist.query('cluster_3 == 1').sort_values(by = 'cosine_dist')['timestamp'])[2])"
   ]
  },
  {
   "cell_type": "code",
   "execution_count": 48,
   "metadata": {},
   "outputs": [],
   "source": [
    "#list(sent_2020_7_bist.query('cluster_3 == 2').sort_values(by = 'cosine_dist')['text'])"
   ]
  },
  {
   "cell_type": "code",
   "execution_count": 49,
   "metadata": {},
   "outputs": [],
   "source": [
    "#list(sent_2020_8_bist.query('cluster_3 == 0').sort_values(by = 'cosine_dist')['text'])"
   ]
  },
  {
   "cell_type": "code",
   "execution_count": 50,
   "metadata": {},
   "outputs": [],
   "source": [
    "#list(sent_2020_8_bist.query('cluster_3 == 1').sort_values(by = 'cosine_dist')['text'])"
   ]
  },
  {
   "cell_type": "code",
   "execution_count": 51,
   "metadata": {},
   "outputs": [],
   "source": [
    "#list(sent_2020_8_bist.query('cluster_3 == 2').sort_values(by = 'cosine_dist')['text'])"
   ]
  },
  {
   "cell_type": "code",
   "execution_count": 52,
   "metadata": {},
   "outputs": [],
   "source": [
    "#list(sent_2020_9_bist.query('cluster_3 == 0').sort_values(by = 'cosine_dist')['text'])"
   ]
  },
  {
   "cell_type": "code",
   "execution_count": 53,
   "metadata": {},
   "outputs": [],
   "source": [
    "#list(sent_2020_9_bist.query('cluster_3 == 1').sort_values(by = 'cosine_dist')['text'])"
   ]
  },
  {
   "cell_type": "code",
   "execution_count": 54,
   "metadata": {},
   "outputs": [
    {
     "name": "stdout",
     "output_type": "stream",
     "text": [
      "An interesting piece on the impact of Australia's fires, which have already destroyed nearly 1,900 homes\n",
      "2020-01-24T11:58:01\n"
     ]
    }
   ],
   "source": [
    "print(list(sent_2020_9_bist.query('cluster_3 == 2').sort_values(by = 'cosine_dist')['text'])[0])\n",
    "print(list(sent_2020_9_bist.query('cluster_3 == 2').sort_values(by = 'cosine_dist')['timestamp'])[0])"
   ]
  },
  {
   "cell_type": "code",
   "execution_count": 55,
   "metadata": {},
   "outputs": [],
   "source": [
    "#list(sent_2020_10_bist.query('cluster_3 == 0').sort_values(by = 'cosine_dist')['text'])"
   ]
  },
  {
   "cell_type": "code",
   "execution_count": 56,
   "metadata": {},
   "outputs": [
    {
     "name": "stdout",
     "output_type": "stream",
     "text": [
      "Yes, about 35% of Australian bushfires are started by arsonists but the extensive spread and intensity this season is escalated due to drought ravaged landscapes, erratic weather and a dire lack of preparedness\n",
      "2020-01-31T04:52:58\n"
     ]
    }
   ],
   "source": [
    "print(list(sent_2020_10_bist.query('cluster_3 == 1').sort_values(by = 'cosine_dist')['text'])[1])\n",
    "print(list(sent_2020_10_bist.query('cluster_3 == 1').sort_values(by = 'cosine_dist')['timestamp'])[1])"
   ]
  },
  {
   "cell_type": "code",
   "execution_count": 57,
   "metadata": {},
   "outputs": [],
   "source": [
    "#list(sent_2020_10_bist.query('cluster_3 == 2').sort_values(by = 'cosine_dist')['text'])"
   ]
  },
  {
   "cell_type": "code",
   "execution_count": null,
   "metadata": {},
   "outputs": [],
   "source": []
  },
  {
   "cell_type": "code",
   "execution_count": null,
   "metadata": {},
   "outputs": [],
   "source": []
  },
  {
   "cell_type": "code",
   "execution_count": null,
   "metadata": {},
   "outputs": [],
   "source": []
  }
 ],
 "metadata": {
  "kernelspec": {
   "display_name": "Python 3",
   "language": "python",
   "name": "python3"
  },
  "language_info": {
   "codemirror_mode": {
    "name": "ipython",
    "version": 3
   },
   "file_extension": ".py",
   "mimetype": "text/x-python",
   "name": "python",
   "nbconvert_exporter": "python",
   "pygments_lexer": "ipython3",
   "version": "3.6.9"
  }
 },
 "nbformat": 4,
 "nbformat_minor": 4
}
